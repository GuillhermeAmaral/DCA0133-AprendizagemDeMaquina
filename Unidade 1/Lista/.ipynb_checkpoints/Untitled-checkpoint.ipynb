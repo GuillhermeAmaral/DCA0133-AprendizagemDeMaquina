{
 "cells": [
  {
   "cell_type": "markdown",
   "metadata": {},
   "source": [
    "# Experimento Computacional 2\n",
    "\n",
    "Utilizando o método de Monte Carlo calcule as seguites integrais definidas. Compare os resultados com valores tabelados ou soluções analíticas se existirem.\n",
    "$$I = \\displaystyle \\dfrac{1}{2\\pi} \\int_{0}^{2} e^{-x^{2}/2}  \\,dx$$\n",
    "$$I = \\int\\limits_{0}^{1} \\int\\limits_{0}^{1}e^{-(x^{2}+y^{2})} \\,dx\\,dy$$\n",
    "\n",
    "## Primeira integral usando método de Simpson 3/8\n"
   ]
  },
  {
   "cell_type": "code",
   "execution_count": 26,
   "metadata": {},
   "outputs": [
    {
     "name": "stdout",
     "output_type": "stream",
     "text": [
      "Usando Simpson 3/8 com 9999 subintervalos. I= 0.190391\n"
     ]
    }
   ],
   "source": [
    "from math import pi, e\n",
    "import numpy as np\n",
    "\n",
    "def func_g(x):\n",
    "    return e**(-(x**2)/2)/(2*pi)\n",
    "\n",
    "def simpson38comp(f, a, b, n):  #Integração numérica pelo método de Simpson 3/8 Composto\n",
    "    \"\"\"Calcula uma aproximação numérica para a integral definida\n",
    "    da função 'f' no intervalo [a, b] com n subintervalos\"\"\"\n",
    "    h = (b-a)/(3*n)  # Tamanho dos subintervalos\n",
    "    x = np.linspace(a, b, 3*n+1)  # Valores de x serão usado só para calcular o valores de y. OBS.: x[i]-x[i-1] = h\n",
    "    y = f(x)\n",
    "    Int=0\n",
    "    for i in range(0, n-1):\n",
    "        Int = Int + y[3*i] + 3*y[3*i+1] + 3*y[3*i+2] + y[3*i+3]\n",
    "    return (3*h/8)*Int\n",
    "\n",
    "a= 0; b= 2 # Limites de integração\n",
    "n= 9999 # Número de subintervalos\n",
    "I= simpson38comp(func_g, a, b, n)\n",
    "print('Usando Simpson 3/8 com '+str(n)+' subintervalos. I= '+'{:f}'.format(I))\n"
   ]
  },
  {
   "cell_type": "markdown",
   "metadata": {},
   "source": [
    "## Primeira integral usando método de Monte Carlo"
   ]
  },
  {
   "cell_type": "code",
   "execution_count": 28,
   "metadata": {},
   "outputs": [
    {
     "name": "stdout",
     "output_type": "stream",
     "text": [
      "Aproximação para I usando 9999 pontos: 0.191003\n"
     ]
    }
   ],
   "source": [
    "np.random.seed(1)\n",
    "\n",
    "N= 9999 # Quantidade de amostras usadas. Quanto maior, mais exata a aproximação\n",
    "xi= 2*np.random.random(N) # Gera N valores aleatórios no intervalo [0, 2) com distribuição uniforme\n",
    "g=  func_g(xi) # Aplicando os valores do array xi à função g\n",
    "I= (b-a)/N*np.sum(g)\n",
    "print('Aproximação para I usando '+str(N)+' pontos: '+ '{:f}'.format(I))"
   ]
  },
  {
   "cell_type": "markdown",
   "metadata": {},
   "source": [
    "## Segunda Integral pelo método de Simpson 3/8\n",
    "Podemos aplicar o Teorema de Fubini nesta questão pois a região de integração é quadrada.\n",
    "\n",
    " \n",
    "\\begin{align*}\n",
    "I &= \\int\\limits_{0}^{1} \\int\\limits_{0}^{1} e^{-(x^{2}+y^{2})} \\,dx\\,dy \\\\\n",
    "  &= \\int\\limits_{0}^{1} \\int\\limits_{0}^{1} e^{-x^{2}} e^{-y^{2}} \\,dx\\,dy \\\\\n",
    "  &= \\int\\limits_{0}^{1} e^{-y^{2}} \\int\\limits_{0}^{1} e^{-x^{2}} \\,dx\\,dy \\\\\n",
    "  &= \\int\\limits_{0}^{1} e^{-y^{2}} I_{x} \\,dy \\\\\n",
    "  &= I_{x} \\int\\limits_{0}^{1} e^{-y^2} \\,dy \\\\ \n",
    "  &= \\int\\limits_{0}^{1} e^{-x^{2}} \\,dx \\int\\limits_{0}^{1} e^{-y^2} \\,dy \n",
    "\\end{align*}"
   ]
  },
  {
   "cell_type": "code",
   "execution_count": null,
   "metadata": {},
   "outputs": [],
   "source": []
  },
  {
   "cell_type": "code",
   "execution_count": null,
   "metadata": {},
   "outputs": [],
   "source": []
  },
  {
   "cell_type": "code",
   "execution_count": null,
   "metadata": {},
   "outputs": [],
   "source": []
  }
 ],
 "metadata": {
  "kernelspec": {
   "display_name": "Python 3",
   "language": "python",
   "name": "python3"
  },
  "language_info": {
   "codemirror_mode": {
    "name": "ipython",
    "version": 3
   },
   "file_extension": ".py",
   "mimetype": "text/x-python",
   "name": "python",
   "nbconvert_exporter": "python",
   "pygments_lexer": "ipython3",
   "version": "3.6.6"
  }
 },
 "nbformat": 4,
 "nbformat_minor": 2
}
