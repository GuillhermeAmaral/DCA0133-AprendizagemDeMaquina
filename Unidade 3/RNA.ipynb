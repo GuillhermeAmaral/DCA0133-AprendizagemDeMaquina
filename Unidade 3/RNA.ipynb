{
 "cells": [
  {
   "cell_type": "markdown",
   "metadata": {},
   "source": [
    "# Implementação de uma Rede Neural em Python\n",
    "Para o trabalho da 3ª unidade do curso de Inteligência Artificial iremos construir classe que modela uma rede neural artificical que deve conter as seguintes características:\n",
    "* Quantidade de camadas e neurônios personalizáveis\n",
    "* Mais de uma função de ativação\n",
    "* Mais de uma função custo\n",
    "* Tamanho do lote (mini_batch) personalizável\n",
    "* Calcular pesos pelo algoritmo Backpropagation\n",
    "\n",
    "Neste trabalho iremos usar as seguintes bibliotecas do python:"
   ]
  },
  {
   "cell_type": "code",
   "execution_count": 1,
   "metadata": {},
   "outputs": [],
   "source": [
    "import numpy as np"
   ]
  },
  {
   "cell_type": "markdown",
   "metadata": {},
   "source": [
    "E precisaremos das funções abaixo:"
   ]
  },
  {
   "cell_type": "code",
   "execution_count": 2,
   "metadata": {},
   "outputs": [],
   "source": [
    "def sigmoid(x):\n",
    "    '''Função sigmoid'''\n",
    "    return 1.0/(1.0+np.exp(-x))\n",
    "\n",
    "def dsigmoid(x):\n",
    "    '''Derivada da sigmoid'''\n",
    "    return sigmoid(x)*(1-sigmoid(x))"
   ]
  },
  {
   "cell_type": "markdown",
   "metadata": {},
   "source": [
    "## A classe"
   ]
  },
  {
   "cell_type": "code",
   "execution_count": null,
   "metadata": {},
   "outputs": [],
   "source": []
  },
  {
   "cell_type": "markdown",
   "metadata": {},
   "source": [
    "## Explicação\n",
    "A fim de simplificar as explicações abaixo usaremos um mesmo modelo de rede neural em todos os exemplos apresentados. Nosso modelo terá duas entradas, 3 neurônios na camada escondida e 1 saída. Todos neurônios estão ligados a todos os neurônios da camada posterior a ele e não há recorrências, só é possível alimentar a rede da esquerda para a direita. No código, `camadas=[2,3,1]`.\n",
    "![exemplo](img/MLP231.png)\n",
    "[Fonte](https://www.opencadd.com.br/events/como-se-treina-uma-rede-neural/redes-neurais/)\n",
    "### Função construtor\n",
    "Assim que o objeto é criado, são inicializadas 4 características: quantidade de camadas, lista com quantidade de neurônios em cada camada, vieses e pesos. Todo neurônio tem um viés próprio, um valor real independente dos demais, que será ajustado durante o treino. Os pesos também são valores reais e independentes mas que relacionam um par de neurônios, representando a força da ligação entre eles dois, e também serão ajustados pelo treino. \n",
    "\n",
    "Treino neste contexto significa unicamente buscar pelos pesos e vieses que produzem o menor valor na função de custo.\n",
    "\n",
    "No código, os vieses de uma camada é guardada numa lista com tamanho igual a quantidade de neurônios. As listas com vieses de cada camada compõe também outra lista, formando uma array bidimensional. Temos então uma matriz neste formato: vieses = $[[v_{12}, v_{22}, v_{32}], [v_{13}]]$. Sendo $v_{ij}$ o viés i da camada j. Lembrando que a camada de entrada não tem neurônios nem vieses.\n",
    "\n",
    "Já os pesos entre duas camadas apenas configuram sozinhos uma matriz na qual o índice da coluna representa o neurônio de origem e o índice da linha os de chegada. Se dessa vez nomearmos cada neurônio da rede inteira com um valor único (de 1 a 6) e adotarmos a nomenclatura $p_{ij}$ para o peso que sai do neurônio i e chega em j temos a matriz de pesos relacionando a camada 1 e 2: pesos_12 = $[[p_{13},p_{23}],[p_{14},p_{24}],[p_{15},p_{25}]]$. Da camada 2 para 3: pesos23 = $[[p_{36}, p_{46}, p_{56}]]$. Faremos, claro, uma lista com estas duas matrizes. No código, `pesos = [pesos12, pesos23]`."
   ]
  },
  {
   "cell_type": "code",
   "execution_count": 3,
   "metadata": {},
   "outputs": [
    {
     "data": {
      "text/plain": [
       "'\\n\\n'"
      ]
     },
     "execution_count": 3,
     "metadata": {},
     "output_type": "execute_result"
    }
   ],
   "source": [
    "'''\n",
    "\n",
    "'''"
   ]
  },
  {
   "cell_type": "markdown",
   "metadata": {},
   "source": [
    "## Função passada\n",
    "Essa foi uma tentativa de tradução da palavra \"feedforward\", nome original do processo de cálculo da saída."
   ]
  },
  {
   "cell_type": "code",
   "execution_count": 4,
   "metadata": {},
   "outputs": [
    {
     "data": {
      "text/plain": [
       "'\\n\\n'"
      ]
     },
     "execution_count": 4,
     "metadata": {},
     "output_type": "execute_result"
    }
   ],
   "source": [
    "'''\n",
    "\n",
    "'''"
   ]
  },
  {
   "cell_type": "markdown",
   "metadata": {},
   "source": [
    "## Backpropagation\n",
    "Em meados da década de 1980 surgiu a descrição do algoritmo de treinamento backpropagation (Rumelhart, Hinton, & Williams 1986). O termo backpropagation surge do fato que o algoritmo se baseia na retropropagação dos erros para realizar os ajustes de pesos das camadas intermediárias. A maneira de calcular as derivadas parciais do erro de saída em relação a cada um dos pesos da rede é o que caracteriza o backpropagation. [Fonte](https://pt.wikipedia.org/wiki/Rede_neural_artificial)"
   ]
  },
  {
   "cell_type": "code",
   "execution_count": null,
   "metadata": {},
   "outputs": [],
   "source": []
  },
  {
   "cell_type": "markdown",
   "metadata": {},
   "source": [
    "## SDG"
   ]
  },
  {
   "cell_type": "code",
   "execution_count": 5,
   "metadata": {},
   "outputs": [
    {
     "data": {
      "text/plain": [
       "'\\n\\n'"
      ]
     },
     "execution_count": 5,
     "metadata": {},
     "output_type": "execute_result"
    }
   ],
   "source": [
    "'''\n",
    "\n",
    "'''"
   ]
  },
  {
   "cell_type": "markdown",
   "metadata": {},
   "source": []
  },
  {
   "cell_type": "code",
   "execution_count": null,
   "metadata": {},
   "outputs": [],
   "source": []
  },
  {
   "cell_type": "code",
   "execution_count": null,
   "metadata": {},
   "outputs": [],
   "source": []
  },
  {
   "cell_type": "code",
   "execution_count": null,
   "metadata": {},
   "outputs": [],
   "source": []
  },
  {
   "cell_type": "code",
   "execution_count": null,
   "metadata": {},
   "outputs": [],
   "source": []
  },
  {
   "cell_type": "code",
   "execution_count": null,
   "metadata": {},
   "outputs": [],
   "source": []
  },
  {
   "cell_type": "code",
   "execution_count": null,
   "metadata": {},
   "outputs": [],
   "source": []
  },
  {
   "cell_type": "code",
   "execution_count": null,
   "metadata": {},
   "outputs": [],
   "source": []
  },
  {
   "cell_type": "code",
   "execution_count": null,
   "metadata": {},
   "outputs": [],
   "source": []
  },
  {
   "cell_type": "code",
   "execution_count": null,
   "metadata": {},
   "outputs": [],
   "source": []
  },
  {
   "cell_type": "code",
   "execution_count": null,
   "metadata": {},
   "outputs": [],
   "source": []
  },
  {
   "cell_type": "code",
   "execution_count": null,
   "metadata": {},
   "outputs": [],
   "source": []
  },
  {
   "cell_type": "code",
   "execution_count": null,
   "metadata": {},
   "outputs": [],
   "source": []
  },
  {
   "cell_type": "code",
   "execution_count": null,
   "metadata": {},
   "outputs": [],
   "source": []
  },
  {
   "cell_type": "code",
   "execution_count": null,
   "metadata": {},
   "outputs": [],
   "source": []
  },
  {
   "cell_type": "code",
   "execution_count": null,
   "metadata": {},
   "outputs": [],
   "source": []
  },
  {
   "cell_type": "code",
   "execution_count": null,
   "metadata": {},
   "outputs": [],
   "source": []
  },
  {
   "cell_type": "code",
   "execution_count": null,
   "metadata": {},
   "outputs": [],
   "source": []
  },
  {
   "cell_type": "code",
   "execution_count": null,
   "metadata": {},
   "outputs": [],
   "source": []
  },
  {
   "cell_type": "code",
   "execution_count": null,
   "metadata": {},
   "outputs": [],
   "source": []
  },
  {
   "cell_type": "code",
   "execution_count": null,
   "metadata": {},
   "outputs": [],
   "source": []
  }
 ],
 "metadata": {
  "kernelspec": {
   "display_name": "Python 3",
   "language": "python",
   "name": "python3"
  },
  "language_info": {
   "codemirror_mode": {
    "name": "ipython",
    "version": 3
   },
   "file_extension": ".py",
   "mimetype": "text/x-python",
   "name": "python",
   "nbconvert_exporter": "python",
   "pygments_lexer": "ipython3",
   "version": "3.6.6"
  }
 },
 "nbformat": 4,
 "nbformat_minor": 2
}
