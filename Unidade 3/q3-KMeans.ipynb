{
 "cells": [
  {
   "cell_type": "markdown",
   "metadata": {},
   "source": [
    "# Questão 3\n",
    "Implemente o algoritmo K-means e considere o dados apresentados na tabela abaixo para serem usando no processo de clustering."
   ]
  },
  {
   "cell_type": "code",
   "execution_count": 1,
   "metadata": {},
   "outputs": [
    {
     "name": "stdout",
     "output_type": "stream",
     "text": [
      "Amostras:\n",
      "[[-7.82 -4.58 -3.97]\n",
      " [-6.68  3.16  2.71]\n",
      " [ 4.36 -2.19  2.09]\n",
      " [ 6.72  0.88  2.8 ]\n",
      " [-8.64  3.06  3.5 ]\n",
      " [-6.87  0.57 -5.45]\n",
      " [ 4.47 -2.62  5.76]\n",
      " [ 6.73 -2.01  4.18]\n",
      " [-7.71  2.34 -6.33]\n",
      " [-6.91 -0.49 -5.68]\n",
      " [ 6.18  2.81  5.82]\n",
      " [ 6.72 -0.93 -4.04]\n",
      " [-6.25 -0.26  0.56]\n",
      " [-6.94 -1.22  1.13]\n",
      " [ 8.09  0.2   2.25]\n",
      " [ 6.81  0.17 -4.15]\n",
      " [-5.19  4.24  4.04]\n",
      " [-6.38 -1.74  1.43]\n",
      " [ 4.08  1.3   5.33]\n",
      " [ 6.27  0.93 -2.78]]\n"
     ]
    }
   ],
   "source": [
    "import numpy as np\n",
    "import matplotlib.pyplot as plt\n",
    "\n",
    "x1 = [-7.82,-6.68,4.36,6.72,-8.64,-6.87,4.47,6.73,-7.71,-6.91,6.18,6.72,-6.25,-6.94,8.09,6.81,-5.19,-6.38,4.08,6.27]\n",
    "x2 = [-4.58,3.16,-2.19,0.88,3.06,0.57,-2.62,-2.01,2.34,-0.49,2.81,-0.93,-0.26,-1.22,0.20,0.17,4.24,-1.74,1.30,0.93]\n",
    "x3 = [-3.97,2.71,2.09,2.80,3.50,-5.45,5.76,4.18,-6.33,-5.68,5.82,-4.04,0.56,1.13,2.25,-4.15,4.04,1.43,5.33,-2.78]\n",
    "dados = []\n",
    "for i,j,k in zip(x1,x2,x3):\n",
    "    dados.append([i,j,k])\n",
    "    \n",
    "dados = np.array(dados)\n",
    "print('Amostras:\\n'+str(dados))"
   ]
  },
  {
   "cell_type": "markdown",
   "metadata": {},
   "source": [
    "## Funções usadas"
   ]
  },
  {
   "cell_type": "code",
   "execution_count": 2,
   "metadata": {},
   "outputs": [],
   "source": [
    "def dist(a,b):\n",
    "    '''Calcula distância entre ponto1 e ponto2. Ambos devem ser arrays do numpy.'''\n",
    "    a=np.array([a]); b=np.array([b])\n",
    "    return np.sqrt(np.sum(a-b)**2)\n",
    "\n",
    "def centro(pontos):\n",
    "    '''Calcula centróide de um conjunto de pontos.'''\n",
    "    if pontos==[]:\n",
    "        return []\n",
    "    centroide = []\n",
    "    pontos=np.array(pontos)\n",
    "    for i in range(len(pontos[0])):\n",
    "        soma = 0\n",
    "        for j in range(len(pontos)):\n",
    "            soma += pontos[j][i]\n",
    "        centroide.append(soma/len(pontos)) \n",
    "    return np.array(centroide)\n",
    "\n",
    "\n",
    "def MSE(a,b):\n",
    "    '''Calcula erro médio quadrático em uma lista de amostras. Primeiro são \n",
    "    calculados as médias quadráticas elemento a elemento de **a** e **b**. As \n",
    "    várias médias são associadas em um único valor, que é retornado.'''\n",
    "    a=np.array(a); b=np.array(b)\n",
    "    soma = 0\n",
    "    for i,j in zip(a,b):\n",
    "        soma += np.array(((i-j)**2).mean())\n",
    "    return soma/len(a)\n",
    "\n",
    "\n",
    "def kMeans(dados, iter_max=10, centroides=0):\n",
    "    '''Esta função implementa até `iter_max` iterações do algoritmo k-means. \n",
    "    A segunda condição de parada é os centróides pararem de variar.'''\n",
    "    if centroides==0:\n",
    "        print('Erro: Não foram passados centróides iniciais')\n",
    "        return centroides\n",
    "    \n",
    "    dados = np.array(dados)  # só pra garantir\n",
    "    centroides = np.array(centroides)\n",
    "    cont = [[],[],[]]  # cont[i] = lista de amostras(pontos) na classe i\n",
    "    varia=[]  # histórico do erro médio quadrático\n",
    "    for i in range(iter_max):\n",
    "        \n",
    "        # CLASSIFICANDO PONTOS\n",
    "        for d in dados:\n",
    "            distancias = []  # lista com distâncias do dado 'd' aos centroides\n",
    "            for c in centroides:\n",
    "                distancias.append(dist(d,c))  # len(centroides) = len(distancias)\n",
    "            cont[np.argmin(distancias)].append(d)  # guarda 'd' em uma das listas em 'cont' com base na menor distância calculada\n",
    "        \n",
    "        # ATUALIZANDO CENTRÓIDES\n",
    "        novo_centro = []  # lista com novos centróides\n",
    "        for classe,centroide_ant in zip(cont,centroides):\n",
    "            if len(classe)>0:  # # houver pontos na classe\n",
    "                novo_centro.append(centro(classe))  # calcula o centro de cada classe\n",
    "            else:\n",
    "                novo_centro.append(centroide_ant)  # centroide fica no mesmo lugar\n",
    "\n",
    "        #CENTROS: COMPARANDO NOVO COM ANTEIOR\n",
    "        varia.append(MSE(novo_centro, centroides))\n",
    "        if varia[-1]<1e-2: # Limiar de aceitação da variação (1%)\n",
    "            break  # Sai do FOR maior\n",
    "        else:\n",
    "            centroides = novo_centro.copy()  # Atualiza valores de 'centroides'\n",
    "        \n",
    "    return centroides, varia\n"
   ]
  },
  {
   "cell_type": "markdown",
   "metadata": {},
   "source": [
    " Como a função recebe os centróides iniciais, já está implicito o K que será usado.\n",
    "\n",
    "## Primeiro caso\n",
    "Centróides iniciais são $(0,0,0)$, $(1,1,1)$ e $(-1,0,2)$.\n",
    "\n",
    "A partir da segunda iteração é calculada o erro médio quadrático entre cada centróide e sua versão anterior pela  fórmula abaixo: $$MSE = \\displaystyle\\frac{1}{N}\\sum_{i=1}^{N}(x_{i,atual}-x_{i,ant})^{2} $$\n",
    "Como neste problema temos 3 centróides, há 3 erros a serem calculados. Em seguinda, calculamos a média desses erros e verificamos se ela é maior que 2%. O método `kmeans()` acima pára a execução quando o erro está abaixo do limiar."
   ]
  },
  {
   "cell_type": "code",
   "execution_count": 5,
   "metadata": {},
   "outputs": [
    {
     "name": "stdout",
     "output_type": "stream",
     "text": [
      "Iterações necessárias=5\n",
      "centroides calculados: \n",
      "[[-7.03 -0.51 -2.23]\n",
      " [ 5.62  0.19  3.71]\n",
      " [ 0.8   1.11  0.  ]]\n"
     ]
    },
    {
     "data": {
      "image/png": "[encoded data removed]",
      "text/plain": [
       "<Figure size 432x288 with 1 Axes>"
      ]
     },
     "metadata": {},
     "output_type": "display_data"
    }
   ],
   "source": [
    "centroides = [[0,0,0],[1,1,1],[-1,0,2]]\n",
    "result,erro = kMeans(dados, 50, centroides)\n",
    "print('Iterações necessárias='+str(len(erro)))\n",
    "print('centroides calculados: \\n'+str(np.round(result,2)))\n",
    "plt.plot(erro)\n",
    "plt.title('Primeiro caso')\n",
    "plt.xlabel('Iteração')\n",
    "plt.ylabel('Variação de centróides')\n",
    "plt.show()"
   ]
  },
  {
   "cell_type": "markdown",
   "metadata": {},
   "source": [
    "## Segundo caso\n",
    "Centróides iniciais são $(-0.1,0,0.1)$, $(0,-0.1,0.1)$ e $(-0.1,-0.1,0.1)$."
   ]
  },
  {
   "cell_type": "code",
   "execution_count": 6,
   "metadata": {},
   "outputs": [
    {
     "name": "stdout",
     "output_type": "stream",
     "text": [
      "Iterações necessárias=5\n",
      "centroides calculados: \n",
      "[[ 5.63  0.1   3.19]\n",
      " [ 0.02  1.4   0.25]\n",
      " [-7.03 -0.51 -2.23]]\n"
     ]
    },
    {
     "data": {
      "image/png": "[encoded data removed]",
      "text/plain": [
       "<Figure size 432x288 with 1 Axes>"
      ]
     },
     "metadata": {},
     "output_type": "display_data"
    }
   ],
   "source": [
    "centroides = [[-0.1, 0, 0.1],[0, -0.1, 0.1],[-0.1, -0.1, 0.1]]\n",
    "result,erro = kMeans(dados, 50, centroides)\n",
    "print('Iterações necessárias='+str(len(erro)))\n",
    "print('centroides calculados: \\n'+str(np.round(result,2)))\n",
    "plt.plot(erro)\n",
    "plt.title('Segundo caso')\n",
    "plt.xlabel('Iteração')\n",
    "plt.ylabel('Variação de centróides')\n",
    "plt.show()"
   ]
  },
  {
   "cell_type": "markdown",
   "metadata": {},
   "source": [
    "**OBS**: Os centróides calculados não aparecem na mesma ordem. \n",
    "\n",
    "Notamos que em ambos os casos os clusters tendem a convergir para o mesmo lugar. Mas no segundo caso, a convergência é mais rápida."
   ]
  },
  {
   "cell_type": "code",
   "execution_count": null,
   "metadata": {},
   "outputs": [],
   "source": []
  }
 ],
 "metadata": {
  "kernelspec": {
   "display_name": "Python 3",
   "language": "python",
   "name": "python3"
  },
  "language_info": {
   "codemirror_mode": {
    "name": "ipython",
    "version": 3
   },
   "file_extension": ".py",
   "mimetype": "text/x-python",
   "name": "python",
   "nbconvert_exporter": "python",
   "pygments_lexer": "ipython3",
   "version": "3.6.6"
  }
 },
 "nbformat": 4,
 "nbformat_minor": 2
}
