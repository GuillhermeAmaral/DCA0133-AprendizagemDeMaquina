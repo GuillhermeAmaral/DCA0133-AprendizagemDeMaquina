{
 "cells": [
  {
   "cell_type": "markdown",
   "metadata": {},
   "source": [
    "# Questão 5\n",
    "\n",
    "Repita o problema na questão 4 considerado agora o método do K-means ou k-médias, que é uma técnica de clusterização por particionamento.\n",
    "\n",
    "E como podemos ter uma noção da qualidade dos nossos clusters encontrados? A forma mais simples de verificarmos é medindo os valores inter-clusters e intra-clusters.\n",
    "\n",
    "A distância **inter-clusters** (entre clusters) nos diz o quão distantes estão os clusters dos outros, ou seja, em geral é um bom sinal quando eles estão distantes entre si pois mostram maior isolamento dos grupos e provavelmente uma classificação mais precisa.\n",
    "\n",
    "A distância **intra-cluster** (interna aos clusters) nos diz o quão distantes estão os elementos de um grupo ao seu centróide. Em geral grupos mais densos (com elementos mais próximos) têm maior similaridade e tem mais chance de realmente compartilharem a mesma classificação."
   ]
  },
  {
   "cell_type": "code",
   "execution_count": null,
   "metadata": {},
   "outputs": [],
   "source": []
  },
  {
   "cell_type": "markdown",
   "metadata": {},
   "source": [
    "Um cluster é válido se ele não ocorreu por acaso, pois qualquer algoritmo de clustering encontra os clusters independentemente de haver similaridade entre elementos ou não."
   ]
  },
  {
   "cell_type": "code",
   "execution_count": null,
   "metadata": {},
   "outputs": [],
   "source": []
  }
 ],
 "metadata": {
  "kernelspec": {
   "display_name": "Python 3",
   "language": "python",
   "name": "python3"
  },
  "language_info": {
   "codemirror_mode": {
    "name": "ipython",
    "version": 3
   },
   "file_extension": ".py",
   "mimetype": "text/x-python",
   "name": "python",
   "nbconvert_exporter": "python",
   "pygments_lexer": "ipython3",
   "version": "3.6.6"
  }
 },
 "nbformat": 4,
 "nbformat_minor": 2
}
