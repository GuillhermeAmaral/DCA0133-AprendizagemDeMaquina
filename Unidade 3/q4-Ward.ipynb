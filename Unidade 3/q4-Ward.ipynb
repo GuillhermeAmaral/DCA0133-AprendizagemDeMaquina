{
 "cells": [
  {
   "cell_type": "markdown",
   "metadata": {},
   "source": [
    "# Questão 4\n",
    "\n",
    "Considere o processo de identificação de aglomerados (“clusters”) com base em uma técnica hierárquica aglomerativa. Neste problema considere o método de Ward resumido abaixo. Considere também dois critérios para parada do processo aglomerativo no dendograma e identificação do número de aglomerados. O critério $R^{2}$ e o critério do Pseudo $T^{2}$ . Para o problema considere a tabela de índices de desenvolvimento de países (Fonte: ONU-2002, Livro – Análise de dados através de métodos de estatística multivariada – Sueli A.Mingoti).\n",
    "\n",
    "As colunas representam respectivamente: Expectativa de Vida, Educação, PIB e Estabilidade Política.\n"
   ]
  },
  {
   "cell_type": "code",
   "execution_count": 1,
   "metadata": {},
   "outputs": [
    {
     "name": "stdout",
     "output_type": "stream",
     "text": [
      "[[ 0.88  0.99  0.91  1.1 ]\n",
      " [ 0.9   0.99  0.93  1.26]\n",
      " [ 0.9   0.98  0.94  1.24]\n",
      " [ 0.87  0.98  0.97  1.18]\n",
      " [ 0.93  0.93  0.93  1.2 ]\n",
      " [ 0.89  0.97  0.92  1.04]\n",
      " [ 0.88  0.87  0.91  1.41]\n",
      " [ 0.81  0.92  0.8   0.55]\n",
      " [ 0.82  0.92  0.75  1.05]\n",
      " [ 0.85  0.9   0.64  0.07]\n",
      " [ 0.77  0.85  0.69 -1.36]\n",
      " [ 0.71  0.83  0.72  0.47]\n",
      " [ 0.75  0.83  0.63 -0.87]\n",
      " [ 0.7   0.62  0.6   0.21]\n",
      " [ 0.44  0.58  0.37 -1.36]\n",
      " [ 0.47  0.37  0.45 -0.68]\n",
      " [ 0.23  0.33  0.27 -1.26]\n",
      " [ 0.34  0.36  0.51 -1.98]\n",
      " [ 0.31  0.35  0.32 -0.55]\n",
      " [ 0.24  0.37  0.36  0.2 ]\n",
      " [ 0.76  0.8   0.61  0.39]]\n"
     ]
    }
   ],
   "source": [
    "import numpy as np\n",
    "import matplotlib.pyplot as plt\n",
    "\n",
    "x1 = np.array([0.88,0.90,0.90,0.87,0.93,0.89,0.88,0.81,0.82,0.85,0.77,0.71,0.75,0.70,0.44,0.47,0.23,0.34,0.31,0.24,0.76]) #Atributo 1\n",
    "x2 = np.array([0.99,0.99,0.98,0.98,0.93,0.97,0.87,0.92,0.92,0.90,0.85,0.83,0.83,0.62,0.58,0.37,0.33,0.36,0.35,0.37,0.80])\n",
    "x3 = np.array([0.91,0.93,0.94,0.97,0.93,0.92,0.91,0.80,0.75,0.64,0.69,0.72,0.63,0.60,0.37,0.45,0.27,0.51,0.32,0.36,0.61])\n",
    "x4 = np.array([1.10,1.26,1.24,1.18,1.20,1.04,1.41,0.55,1.05,0.07,-1.36,0.47,-0.87,0.21,-1.36,-0.68,-1.26,-1.98,-0.55,0.20,0.39])\n",
    "\n",
    "dados = []\n",
    "for i,j,k,l in zip(x1,x2,x3,x4):\n",
    "    dados.append([i,j,k,l])\n",
    "dados = np.array(dados)\n",
    "print(dados)"
   ]
  },
  {
   "cell_type": "markdown",
   "metadata": {},
   "source": [
    "# Funções usadas"
   ]
  },
  {
   "cell_type": "code",
   "execution_count": 2,
   "metadata": {},
   "outputs": [],
   "source": [
    "def dist(a,b):\n",
    "    '''Calcula distância entre ponto1 e ponto2. Ambos devem ser arrays do numpy.'''\n",
    "    a=np.array(a); b=np.array(b)\n",
    "    return np.sqrt(np.dot(a-b,a-b))\n",
    "\n",
    "\n",
    "def centro(pontos):\n",
    "    '''Calcula centróide de um conjunto de pontos.'''\n",
    "    if len(pontos)==0:\n",
    "        return []\n",
    "    centroide = []\n",
    "    pontos=np.array(pontos)\n",
    "    for i in range(len(pontos[0])):\n",
    "        soma = 0\n",
    "        for j in range(len(pontos)):\n",
    "            soma += pontos[j][i]\n",
    "        centroide.append(soma/len(pontos)) \n",
    "    return np.array(centroide)\n",
    "\n",
    "\n",
    "def menorPositivo(matriz, limiar_inf=0):\n",
    "    '''Menor valor de uma matriz de reais positivos que é maior que um \n",
    "    determinado limiar inferior. O valor retornado é alterado na matriz para\n",
    "    np.max(matriz)+1, preparando para a próxima vez que esta função é \n",
    "    executada.'''\n",
    "    list_menor = []\n",
    "    list_ind = []  # Índice impossível na matriz, np.unravel_index(np.argmin(matriz,axis=None), matriz.shape)\n",
    "    n = len(matriz[0])-1\n",
    "    for vez in range(n*(n+1)//2):\n",
    "        menor = np.max(matriz) # valor impossível\n",
    "        ind = (-1,-1)\n",
    "        for i in range(len(matriz)):        # Percorrendo todos\n",
    "            for j in range(len(matriz[0])): # elementos da matriz\n",
    "                if i<j:  # Se está acima da diagonal principal\n",
    "                    val = matriz[i][j]\n",
    "                    if val<=menor and val>limiar_inf:\n",
    "                        menor = val \n",
    "                        ind = (i,j)             \n",
    "        if ind!=(-1,-1):\n",
    "            list_menor.append(menor)\n",
    "            list_ind.append(ind)\n",
    "            matriz[list_ind[-1][0]][list_ind[-1][1]] = matriz[list_ind[-1][1]][list_ind[-1][0]] = np.max(matriz)+1\n",
    "    return list_menor, list_ind\n",
    "\n",
    "\n",
    "def R(clusters):\n",
    "    # ni = número de elementos no conglomerado Ci\n",
    "    # mi = centróide do conglomerado Ci\n",
    "    # xi = amostra do conglomerado Ci\n",
    "    # m = vetor média global\n",
    "    media_glob = np.zeros(len(clusters[0][0]))\n",
    "    qtd_pto = 0    \n",
    "    for c in clusters:  # para cada cluster em 'clusters'\n",
    "        for ponto in c: # para cada ponto em clusters\n",
    "            media_glob+=ponto\n",
    "            qtd_pto+=1\n",
    "    media_glob = media_glob/qtd_pto\n",
    "    centros = []  # lista com centroides de todos aglomerados\n",
    "    for a in clusters:\n",
    "        centros.append(centro(a))\n",
    "\n",
    "    SSB = 0\n",
    "    for i in range(len(clusters)):\n",
    "        SSB += len(clusters[i])*prodEscalar(centros[i], media_glob)\n",
    "    \n",
    "    SST = 0\n",
    "    for a in clusters:  # para cada Aglomerado em 'clusters'\n",
    "        c = centro(a) # centróides\n",
    "        for p in a:  # para cada Ponto do aglomerado\n",
    "            SST += prodEscalar(p, c)\n",
    "    return (SSB/SST)**2\n",
    "\n",
    "\n",
    "def prodEscalar(a,b):\n",
    "    '''Realiza o produto escalar do vetor <a-b>=<b-a>'''\n",
    "    a =  np.array(a); b =  np.array(b)\n",
    "    return np.dot(a-b,a-b)\n",
    "\n",
    "\n",
    "def dist_aglom(clust):\n",
    "    '''Calcula distância entre todos aglomerados.'''\n",
    "    cent = []  # lista com centroides de todos aglomerados\n",
    "    for a in clust:\n",
    "        cent.append(centro(a))\n",
    "    cent = np.array(cent)\n",
    "    tam = len(clust)  # ordem da matriz com distâncias\n",
    "    distancias = np.zeros((tam, tam))\n",
    "    for i in range(tam):\n",
    "        for j in range(tam):\n",
    "            if i<j:\n",
    "                tami = len(clust[i]); tamj = len(clust[j])\n",
    "                distancias[i][j] = (tami*tamj)/(tami+tamj)*prodEscalar(cent[i], cent[j])\n",
    "            elif i>j:\n",
    "                distancias[i][j] = distancias[j][i]\n",
    "    return distancias\n",
    "\n",
    "\n",
    "def T(clusters):\n",
    "    centroides=[]\n",
    "    for c in clusters:\n",
    "        centroides.append(centro(c))\n",
    "    tam = len(centroides)\n",
    "    \n",
    "    T = np.zeros((tam,tam))\n",
    "    B = np.zeros((tam, tam))\n",
    "    for i in range(tam):\n",
    "        for l in range(tam):\n",
    "            if i < l:\n",
    "                tami = len(clusters[i]); taml = len(clusters[l])  # tamanho do cluster i e j                \n",
    "                B[i][l] = (tami*taml)/(tami+taml)*prodEscalar(centroides[i], centroides[l])\n",
    "    \n",
    "    \n",
    "    for i in range(tam):\n",
    "        for l in range(tam):\n",
    "            if i < l:\n",
    "                Bil = (tami*taml)/(tami+taml)*prodEscalar(centroides[i], centroides[l])\n",
    "                tami = len(clusters[i]); taml = len(clusters[l])  # tamanho do cluster i e l\n",
    "                somai = 0; somal = 0\n",
    "                for j in range(tami): # soma distâncias do cluster 1\n",
    "                    somai += prodEscalar(clusters[i][j], centroides[i])\n",
    "                    \n",
    "                for j in range(taml): # soma distâncias do cluster 2\n",
    "                    somal += prodEscalar(clusters[l][j], centroides[l])\n",
    "                \n",
    "                T[i][l]= (Bil/((somai+somal)/(tami+taml-2)))**2\n",
    "    return np.max(T)\n",
    "\n",
    "\n",
    "def uniao(clusters, indices):\n",
    "    '''Une um par de clusters presentes numa lista com vários outros.'''\n",
    "    clusters = np.array(clusters)  # Para garantir bom funcionamento\n",
    "    unidos = []  # Lista com clusters unidos\n",
    "    ind_unidos = []  # Lista com índices dos clusters já unidos\n",
    "    for x,y in indices:\n",
    "        if x not in ind_unidos and y not in ind_unidos:\n",
    "            ind_unidos.append(x); ind_unidos.append(y)\n",
    "            unidos.append(np.append(clusters[x], clusters[y], axis=0))  # lista com novo clusters unidos\n",
    "    # Recuperando clusters não unidos\n",
    "    resto = []  # Lista de clusters não unidos\n",
    "    for i in range(len(clusters)):\n",
    "        if i not in ind_unidos:\n",
    "            resto.append(clusters[i])  \n",
    "    if len(resto)!=0:\n",
    "        for c in resto:\n",
    "            unidos.append(c)\n",
    "    unidos = np.array(unidos)\n",
    "    return unidos\n",
    "\n",
    "\n",
    "def predict(amostras, centroides):\n",
    "    '''Recebe uma lista de amostras e a lista com os centróides. Faz a \n",
    "    associação de cada amostra com um dos centróides.'''\n",
    "    rotulos = []\n",
    "    for a in amostras:\n",
    "        menorDist = dist(a, centroides[0])  # menor distância da amostra 'a' à um centróide\n",
    "        ind = 0  # Índice do centróide com menor distância\n",
    "        for i in range(1,len(centroides)): # Começa do segundo\n",
    "            d = dist(a, centroides[i])\n",
    "            if d < menorDist:\n",
    "                menorDist = d\n",
    "                ind = i\n",
    "        rotulos.append(ind)\n",
    "    return rotulos"
   ]
  },
  {
   "cell_type": "markdown",
   "metadata": {},
   "source": [
    "# Algoritmo Hierárquico de Ward"
   ]
  },
  {
   "cell_type": "code",
   "execution_count": 3,
   "metadata": {},
   "outputs": [],
   "source": [
    "def ward(dados, iter_max):\n",
    "    dados = np.array(dados)  # Pra garantir bom funcionamento\n",
    "    clust = [[aglomerado] for aglomerado in dados]  # Aglomerados atuais. É atualizado a cada iteração\n",
    "    clust = np.array(clust)\n",
    "    coef_R, coef_T = [],[]  # R\n",
    "    for iter in range(iter_max):\n",
    "        distancias = dist_aglom(clust)  # Matriz de similaridade: distâncias entre aglomerados\n",
    "        menores, indices = menorPositivo(distancias)  # Índice do menor elemento não nulo\n",
    "        clust = uniao(clust, indices)  # Realiza união entre cada par de clusters\n",
    "        coef_R.append(R(clust)); coef_T.append(T(clust))\n",
    "        if len(clust)==1:  #(iter>=1 and coef_R[iter-1] > 3*coef_R[iter]) or  Caso haja decréscimo muito grande no R\n",
    "            break\n",
    "    \n",
    "    return clust, coef_R, coef_T"
   ]
  },
  {
   "cell_type": "markdown",
   "metadata": {},
   "source": [
    "# Resultados\n",
    "Em cada iteração estamos calculando o coeficiente $R^{2} = SSB/SST_{c}$. Sendo: \n",
    "$$SSB = \\displaystyle\\sum_{i=1}^{g_{k}}n_{i}||m_{i}-m||^2$$\n",
    "$$SST_{c} = \\displaystyle \\sum_{i=1}^{g_{k}} \\sum_{j=1}^{n_{i}} ||x_{ij}-m_{i}||^{2}$$\n",
    "Legenda:\n",
    "* $n_{i}$ = número de elementos no conglomerado $C_{i}$\n",
    "* $m_{i}$ = centróide do conglomerado $C_{i}$\n",
    "* $g_{k}$ = número de conglomerados\n",
    "* m = média global\n",
    "\n",
    "$SSB$ mede o quanto os clusters estão dispersos entre si e $SST_{c}$ mede o quando os pontos de um cluster estão unidos. São respectivamentes métricas inter-clusters e intra-clusters.\n",
    "\n",
    "O gráfico de $R^{2}$ é sempre decrescente. "
   ]
  },
  {
   "cell_type": "code",
   "execution_count": 4,
   "metadata": {},
   "outputs": [
    {
     "name": "stdout",
     "output_type": "stream",
     "text": [
      "quantidade de clusters= 1\n"
     ]
    },
    {
     "data": {
      "image/png": "[encoded data removed]",
      "text/plain": [
       "<Figure size 432x288 with 1 Axes>"
      ]
     },
     "metadata": {},
     "output_type": "display_data"
    },
    {
     "data": {
      "image/png": "[encoded data removed]",
      "text/plain": [
       "<Figure size 432x288 with 1 Axes>"
      ]
     },
     "metadata": {},
     "output_type": "display_data"
    },
    {
     "name": "stdout",
     "output_type": "stream",
     "text": [
      "centróide resultante=\n",
      "[[0.68809524 0.74952381 0.67761905 0.15761905]]\n"
     ]
    }
   ],
   "source": [
    "aglomedados, hist_R, hist_T = ward(dados, 10)\n",
    "print('quantidade de clusters= '+str(len(aglomedados)))\n",
    "\n",
    "plt.plot(np.arange(1, len(hist_R)+1), hist_R, 'black')\n",
    "plt.title('Histórico do R²')\n",
    "plt.xlabel('Iteração')\n",
    "plt.ylabel('R²')\n",
    "plt.show()\n",
    "\n",
    "plt.plot(np.arange(1, len(hist_T)+1), hist_T ,'red')\n",
    "plt.title('Histórico de T²')\n",
    "plt.xlabel('Iteração')\n",
    "plt.ylabel('T²')\n",
    "plt.show()\n",
    "\n",
    "centros_result = []\n",
    "for a in aglomedados:\n",
    "    centros_result.append(centro(a))\n",
    "centros_result = np.array(centros_result)\n",
    "print('centróide resultante=\\n'+str(centros_result))"
   ]
  },
  {
   "cell_type": "markdown",
   "metadata": {},
   "source": [
    "# Históricos de R e T"
   ]
  },
  {
   "cell_type": "code",
   "execution_count": 5,
   "metadata": {},
   "outputs": [
    {
     "name": "stdout",
     "output_type": "stream",
     "text": [
      "R²=\n",
      "[866.99 141.53  53.75   9.67   0.  ]\n",
      "T²=\n",
      "[1.4232385e+09 4.4867800e+04 1.3054370e+04 3.4914000e+03 0.0000000e+00]\n"
     ]
    }
   ],
   "source": [
    "print('R²=\\n'+str(np.round(hist_R,2)))\n",
    "print('T²=\\n'+str(np.round(hist_T,2)))"
   ]
  },
  {
   "cell_type": "markdown",
   "metadata": {},
   "source": [
    "Vemos no gráfico de $R^{2}$ que ocorre uma variação drástica da iteração 1 para 2. Vamos executar o algoritmo até a 2ª iteração e ver no que dá."
   ]
  },
  {
   "cell_type": "code",
   "execution_count": 6,
   "metadata": {},
   "outputs": [
    {
     "name": "stdout",
     "output_type": "stream",
     "text": [
      "quantidade de clusters= 6\n",
      "centróides resultantes=\n",
      "[[ 0.9         0.97        0.9425      1.22      ]\n",
      " [ 0.8675      0.9375      0.8725      1.15      ]\n",
      " [ 0.63        0.73        0.6225      0.4025    ]\n",
      " [ 0.33666667  0.42333333  0.38333333 -1.53333333]\n",
      " [ 0.575       0.6         0.5225     -0.865     ]\n",
      " [ 0.775       0.76        0.62        0.14      ]]\n"
     ]
    }
   ],
   "source": [
    "aglomedados, hist_R, hist_T = ward(dados, 2)\n",
    "print('quantidade de clusters= '+str(len(aglomedados)))\n",
    "\n",
    "centros_result = []\n",
    "for a in aglomedados:\n",
    "    centros_result.append(centro(a))\n",
    "centros_result = np.array(centros_result)\n",
    "print('centróides resultantes=\\n'+str(centros_result))"
   ]
  },
  {
   "cell_type": "markdown",
   "metadata": {},
   "source": [
    "# Históricos de R e T"
   ]
  },
  {
   "cell_type": "code",
   "execution_count": 7,
   "metadata": {},
   "outputs": [
    {
     "name": "stdout",
     "output_type": "stream",
     "text": [
      "R²=\n",
      "[866.99 141.53]\n",
      "T²=\n",
      "[1.4232385e+09 4.4867800e+04]\n"
     ]
    }
   ],
   "source": [
    "print('R²=\\n'+str(np.round(hist_R,2)))\n",
    "print('T²=\\n'+str(np.round(hist_T,2)))"
   ]
  },
  {
   "cell_type": "markdown",
   "metadata": {},
   "source": [
    "# Grupos Formados"
   ]
  },
  {
   "cell_type": "code",
   "execution_count": 8,
   "metadata": {},
   "outputs": [
    {
     "name": "stdout",
     "output_type": "stream",
     "text": [
      "Classe 0:\n",
      "['Austrália', 'Canadá', 'Estados Unidos', 'Japão', 'Cingapura']\n",
      "Classe 1:\n",
      "['Reino Unido', 'França', 'Uruguai']\n",
      "Classe 2:\n",
      "['Argentina', 'Brasil', 'Moçambique', 'China']\n",
      "Classe 3:\n",
      "['Nigéria', 'Serra Leoa', 'Angola']\n",
      "Classe 4:\n",
      "['Colômbia', 'Paraguai', 'Senegal', 'Etiópia']\n",
      "Classe 5:\n",
      "['Cuba', 'Egito']\n"
     ]
    }
   ],
   "source": [
    "paises = {0:'Reino Unido', 1:'Austrália', 2:'Canadá', 3:'Estados Unidos' , 4:'Japão' ,5:'França' ,6:'Cingapura' ,7:'Argentina' ,8:'Uruguai' ,9:'Cuba' ,10:'Colômbia', 11:'Brasil', 12:'Paraguai', 13:'Egito', 14:'Nigéria', 15:'Senegal', 16:'Serra Leoa', 17:'Angola', 18:'Etiópia', 19:'Moçambique', 20:'China'}\n",
    "\n",
    "rot = predict(dados, centros_result)\n",
    "classes = []\n",
    "for i in range(len(centros_result)):\n",
    "    classes.append([])\n",
    "for i in range(len(dados)):\n",
    "    classes[rot[i]].append(paises[i])\n",
    "\n",
    "for i in range(len(classes)):\n",
    "    print('Classe '+str(i)+':\\n'+str(classes[i]))"
   ]
  },
  {
   "cell_type": "markdown",
   "metadata": {},
   "source": [
    "Vamos executar apenas uma iteração do algoritmo."
   ]
  },
  {
   "cell_type": "code",
   "execution_count": 9,
   "metadata": {},
   "outputs": [
    {
     "name": "stdout",
     "output_type": "stream",
     "text": [
      "quantidade de clusters= 11\n",
      "centróides resultantes=\n",
      "[[ 0.9    0.985  0.935  1.25 ]\n",
      " [ 0.885  0.98   0.915  1.07 ]\n",
      " [ 0.9    0.955  0.95   1.19 ]\n",
      " [ 0.735  0.815  0.665  0.43 ]\n",
      " [ 0.39   0.36   0.385 -0.615]\n",
      " [ 0.775  0.76   0.62   0.14 ]\n",
      " [ 0.335  0.455  0.32  -1.31 ]\n",
      " [ 0.85   0.895  0.83   1.23 ]\n",
      " [ 0.76   0.84   0.66  -1.115]\n",
      " [ 0.525  0.645  0.58   0.375]\n",
      " [ 0.34   0.36   0.51  -1.98 ]]\n"
     ]
    }
   ],
   "source": [
    "aglomedados, hist_R, hist_T = ward(dados, 1)\n",
    "print('quantidade de clusters= '+str(len(aglomedados)))\n",
    "\n",
    "centros_result = []\n",
    "for a in aglomedados:\n",
    "    centros_result.append(centro(a))\n",
    "centros_result = np.array(centros_result)\n",
    "print('centróides resultantes=\\n'+str(centros_result))"
   ]
  },
  {
   "cell_type": "markdown",
   "metadata": {},
   "source": [
    "# Grupos Formados"
   ]
  },
  {
   "cell_type": "code",
   "execution_count": 10,
   "metadata": {},
   "outputs": [
    {
     "name": "stdout",
     "output_type": "stream",
     "text": [
      "Classe 0:\n",
      "['Austrália', 'Canadá', 'Cingapura']\n",
      "Classe 1:\n",
      "['Reino Unido', 'França', 'Uruguai']\n",
      "Classe 2:\n",
      "['Estados Unidos', 'Japão']\n",
      "Classe 3:\n",
      "['Argentina', 'Brasil', 'China']\n",
      "Classe 4:\n",
      "['Senegal', 'Etiópia']\n",
      "Classe 5:\n",
      "['Cuba', 'Egito']\n",
      "Classe 6:\n",
      "['Nigéria', 'Serra Leoa']\n",
      "Classe 7:\n",
      "[]\n",
      "Classe 8:\n",
      "['Colômbia', 'Paraguai']\n",
      "Classe 9:\n",
      "['Moçambique']\n",
      "Classe 10:\n",
      "['Angola']\n"
     ]
    }
   ],
   "source": [
    "rot = predict(dados, centros_result)\n",
    "classes = []\n",
    "for i in range(len(centros_result)):\n",
    "    classes.append([])\n",
    "for i in range(len(dados)):\n",
    "    classes[rot[i]].append(paises[i])\n",
    "\n",
    "for i in range(len(classes)):\n",
    "    print('Classe '+str(i)+':\\n'+str(classes[i]))"
   ]
  }
 ],
 "metadata": {
  "kernelspec": {
   "display_name": "Python 3",
   "language": "python",
   "name": "python3"
  },
  "language_info": {
   "codemirror_mode": {
    "name": "ipython",
    "version": 3
   },
   "file_extension": ".py",
   "mimetype": "text/x-python",
   "name": "python",
   "nbconvert_exporter": "python",
   "pygments_lexer": "ipython3",
   "version": "3.6.6"
  }
 },
 "nbformat": 4,
 "nbformat_minor": 2
}
