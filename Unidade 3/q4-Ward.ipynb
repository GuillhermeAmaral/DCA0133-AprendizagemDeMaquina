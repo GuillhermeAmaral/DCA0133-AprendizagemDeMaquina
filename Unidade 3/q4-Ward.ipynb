{
 "cells": [
  {
   "cell_type": "markdown",
   "metadata": {},
   "source": [
    "# Questão 4\n",
    "\n",
    "Considere o processo de identificação de aglomerados (“clusters”) com base em uma técnica hierárquica aglomerativa. Neste problema considere o método de Ward resumido abaixo. Considere também dois critérios para parada do processo aglomerativo no dendograma e identificação do número de aglomerados. O critério $R^{2}$ e o critério do Pseudo $T^{2}$ . Para o problema considere a tabela de índices de desenvolvimento de países(Fonte: ONU-2002, Livro – Análise de dados através de métodos de estatística multivariada – Sueli A.Mingoti).\n",
    "\n"
   ]
  },
  {
   "cell_type": "code",
   "execution_count": 1,
   "metadata": {},
   "outputs": [
    {
     "name": "stdout",
     "output_type": "stream",
     "text": [
      "[[ 0.88  0.99  0.91  1.1 ]\n",
      " [ 0.9   0.99  0.93  1.26]\n",
      " [ 0.9   0.98  0.94  1.24]\n",
      " [ 0.87  0.98  0.97  1.18]\n",
      " [ 0.93  0.93  0.93  1.2 ]\n",
      " [ 0.89  0.97  0.92  1.04]\n",
      " [ 0.88  0.87  0.91  1.41]\n",
      " [ 0.81  0.92  0.8   0.55]\n",
      " [ 0.82  0.92  0.75  1.05]\n",
      " [ 0.85  0.9   0.64  0.07]\n",
      " [ 0.77  0.85  0.69 -1.36]\n",
      " [ 0.71  0.83  0.72  0.47]\n",
      " [ 0.75  0.83  0.63 -0.87]\n",
      " [ 0.7   0.62  0.6   0.21]\n",
      " [ 0.44  0.58  0.37 -1.36]\n",
      " [ 0.47  0.37  0.45 -0.68]\n",
      " [ 0.23  0.33  0.27 -1.26]\n",
      " [ 0.34  0.36  0.51 -1.98]\n",
      " [ 0.31  0.35  0.32 -0.55]\n",
      " [ 0.24  0.37  0.36  0.2 ]\n",
      " [ 0.76  0.8   0.61  0.39]]\n"
     ]
    }
   ],
   "source": [
    "import numpy as np\n",
    "import matplotlib.pyplot as plt\n",
    "\n",
    "x1 = np.array([0.88,0.90,0.90,0.87,0.93,0.89,0.88,0.81,0.82,0.85,0.77,0.71,0.75,0.70,0.44,0.47,0.23,0.34,0.31,0.24,0.76]) #Atributo 1\n",
    "x2 = np.array([0.99,0.99,0.98,0.98,0.93,0.97,0.87,0.92,0.92,0.90,0.85,0.83,0.83,0.62,0.58,0.37,0.33,0.36,0.35,0.37,0.80])\n",
    "x3 = np.array([0.91,0.93,0.94,0.97,0.93,0.92,0.91,0.80,0.75,0.64,0.69,0.72,0.63,0.60,0.37,0.45,0.27,0.51,0.32,0.36,0.61])\n",
    "x4 = np.array([1.10,1.26,1.24,1.18,1.20,1.04,1.41,0.55,1.05,0.07,-1.36,0.47,-0.87,0.21,-1.36,-0.68,-1.26,-1.98,-0.55,0.20,0.39])\n",
    "\n",
    "dados = []\n",
    "for i,j,k,l in zip(x1,x2,x3,x4):\n",
    "    dados.append([i,j,k,l])\n",
    "dados = np.array(dados)\n",
    "print(dados)"
   ]
  },
  {
   "cell_type": "markdown",
   "metadata": {},
   "source": [
    "# Funções usadas"
   ]
  },
  {
   "cell_type": "code",
   "execution_count": 2,
   "metadata": {},
   "outputs": [],
   "source": [
    "def centro(pontos):\n",
    "    '''Calcula centróide de um conjunto de pontos.'''\n",
    "    if len(pontos)==0:\n",
    "        return []\n",
    "    centroide = []\n",
    "    pontos=np.array(pontos)\n",
    "    for i in range(len(pontos[0])):\n",
    "        soma = 0\n",
    "        for j in range(len(pontos)):\n",
    "            soma += pontos[j][i]\n",
    "        centroide.append(soma/len(pontos)) \n",
    "    return np.array(centroide)\n",
    "\n",
    "\n",
    "\n",
    "def menorLimiar(matriz, limiar_inf=0):\n",
    "    '''Menor valor de uma matriz de reais positivos que é maior que um \n",
    "    determinado limiar inferior. O valor retornado é alterado na matriz para\n",
    "    np.max(matriz)+1, preparando para a próxima vez que esta função é \n",
    "    executada.'''\n",
    "    \n",
    "    list_menor = []\n",
    "    list_ind = []  # Índice impossível na matriz, np.unravel_index(np.argmin(matriz,axis=None), matriz.shape)\n",
    "    n = len(matriz[0])-1\n",
    "    for vez in range(n*(n+1)//2):\n",
    "        menor = np.max(matriz) # valor impossível\n",
    "        ind = (-1,-1)\n",
    "        for i in range(len(matriz)):        # Percorrendo todos\n",
    "            for j in range(len(matriz[0])): # elementos da matriz\n",
    "                if i<j:  # Se está acima da diagonal principal\n",
    "                    val = matriz[i][j]\n",
    "                    if val<=menor and val>limiar_inf:\n",
    "                        menor = val \n",
    "                        ind = (i,j)\n",
    "                        \n",
    "        if ind!=(-1,-1):\n",
    "            list_menor.append(menor)\n",
    "            list_ind.append(ind)\n",
    "            matriz[list_ind[-1][0]][list_ind[-1][1]] = matriz[list_ind[-1][1]][list_ind[-1][0]] = np.max(matriz)+1\n",
    "    return list_menor, list_ind\n",
    "\n",
    "\n",
    "def R(clusters):\n",
    "    media_glob = np.zeros(len(clusters[0][0]))\n",
    "    qtd_pto = 0\n",
    "    \n",
    "    for c in clusters:  # para cada cluster em 'clusters'\n",
    "        for ponto in c: # para cada ponto em clusters\n",
    "            media_glob+=ponto\n",
    "            qtd_pto+=1\n",
    "    media_glob = media_glob/qtd_pto\n",
    "    centros = []  # lista com centroides de todos aglomerados\n",
    "    for a in clusters:\n",
    "        centros.append(centro(a))\n",
    "    SSB = 0\n",
    "    for i in range(len(clusters)):\n",
    "        SSB += len(clusters[i])*np.dot(centros[i]-media_glob,centros[i]-media_glob)\n",
    "    \n",
    "    SST = 0\n",
    "    for a in clusters:  # para cada Aglomerado em 'clusters'\n",
    "        c = centro(a) # centróides\n",
    "        for p in a:  # para cada Ponto do aglomerado\n",
    "            SST += np.dot(p-c, p-c)\n",
    "    return (SSB/SST)**2\n",
    "\n",
    "\n",
    "def dist_aglom(clust):\n",
    "    '''Calcula distância entre todos aglomerados.'''\n",
    "    cent = []  # lista com centroides de todos aglomerados\n",
    "    for a in clust:\n",
    "        cent.append(centro(a))\n",
    "    cent = np.array(cent)\n",
    "    tam = len(clust)  # ordem da matriz com distâncias\n",
    "    distancias = np.zeros((tam, tam))\n",
    "    for i in range(tam):\n",
    "        for j in range(tam):\n",
    "            if i<j:\n",
    "                tami = len(clust[i]); tamj = len(clust[j])\n",
    "                distancias[i][j] = (tami*tamj)/(tami+tamj)*np.dot(cent[i]-cent[j], cent[i]-cent[j])\n",
    "            elif i>j:\n",
    "                distancias[i][j] = distancias[j][i]\n",
    "    return distancias\n",
    "\n",
    "\n",
    "def uniao(clusters, indices):\n",
    "    '''Une um par de clusters presentes numa lista com vários outros.'''\n",
    "    clusters = np.array(clusters)  # Para garantir bom funcionamento\n",
    "    unidos = []  # Lista com clusters unidos\n",
    "    ind_unidos = []  # Lista com índices dos clusters já unidos\n",
    "    for x,y in indices:\n",
    "        if x not in ind_unidos and y not in ind_unidos:\n",
    "            ind_unidos.append(x); ind_unidos.append(y)\n",
    "            unidos.append(np.append(clusters[x], clusters[y], axis=0))  # lista com novo clusters unidos\n",
    "    \n",
    "    # Recuperando clusters não unidos\n",
    "    resto = []  # Lista de clusters não unidos\n",
    "    for i in range(len(clusters)):\n",
    "        if i not in ind_unidos:\n",
    "            resto.append(clusters[i])\n",
    "    \n",
    "    if len(resto)!=0:\n",
    "        for c in resto:\n",
    "            unidos.append(c)\n",
    "    \n",
    "    unidos = np.array(unidos)\n",
    "    return unidos"
   ]
  },
  {
   "cell_type": "markdown",
   "metadata": {},
   "source": [
    "# Algoritmo Hierárquico de Ward"
   ]
  },
  {
   "cell_type": "code",
   "execution_count": 3,
   "metadata": {},
   "outputs": [],
   "source": [
    "def ward(dados, iter_max):\n",
    "    dados = np.array(dados)  # Pra garantir bom funcionamento\n",
    "    clust = [[aglomerado] for aglomerado in dados]  # Aglomerados atuais. É atualizado a cada iteração\n",
    "    clust = np.array(clust)\n",
    "    coef_R, coef_T = [],[]  # R\n",
    "    for iter in range(iter_max):\n",
    "        distancias = dist_aglom(clust)  # Matriz de similaridade: distâncias entre aglomerados\n",
    "        menores, indices = menorLimiar(distancias)  # Índice do menor elemento não nulo\n",
    "        clust = uniao(clust, indices)  # Realiza união entre cada par de clusters\n",
    "        coef_R.append(R(clust))\n",
    "        if len(clust)==1:  #(iter>0 and coef_R[iter-1] > 3*coef_R[iter]) or; Caso haja decréscimo muito grande no R\n",
    "            break\n",
    "    \n",
    "    return clust, coef_R\n"
   ]
  },
  {
   "cell_type": "markdown",
   "metadata": {},
   "source": [
    "# Resultados\n",
    "Em cada iteração estamos calculando o coeficiente $R^{2} = SSB/SST_{c}$. Sendo: \n",
    "$$SSB = \\displaystyle\\sum_{i=1}^{g_{k}}n_{i}||m_{i}-m||^2$$\n",
    "$$SST_{c} = \\displaystyle \\sum_{i=1}^{g_{k}} \\sum_{j=1}^{n_{i}} ||x_{ij}-m_{i}||^{2}$$\n",
    "Legenda:\n",
    "* $n_{i}$ = número de elementos no conglomerado $C_{i}$\n",
    "* $m_{i}$ = centróide do conglomerado $C_{i}$\n",
    "* $g_{k}$ = número de conglomerados\n",
    "* m = média global\n",
    "\n",
    "$SSB$ mede o quanto os clusters estão dispersos entre si e $SST_{c}$ mede o quando um cluster está unido. São respectivamentes métricas inter-clusters e intra-clusters.\n",
    "\n",
    "O gráfico de $R^{2}$ é sempre decrescente. "
   ]
  },
  {
   "cell_type": "code",
   "execution_count": 4,
   "metadata": {},
   "outputs": [
    {
     "name": "stdout",
     "output_type": "stream",
     "text": [
      "quantidade de clusters= 1\n"
     ]
    },
    {
     "data": {
      "image/png": "[encoded data removed]",
      "text/plain": [
       "<Figure size 432x288 with 1 Axes>"
      ]
     },
     "metadata": {},
     "output_type": "display_data"
    },
    {
     "name": "stdout",
     "output_type": "stream",
     "text": [
      "[[0.68809524 0.74952381 0.67761905 0.15761905]]\n"
     ]
    }
   ],
   "source": [
    "aglomedados, hist_R = ward(dados, 10)\n",
    "print('quantidade de clusters= '+str(len(aglomedados)))\n",
    "plt.plot(hist_R)\n",
    "plt.title('Histórico do R²')\n",
    "plt.show()\n",
    "\n",
    "centros_result = []\n",
    "for a in aglomedados:\n",
    "    centros_result.append(centro(a))\n",
    "centros_result = np.array(centros_result)\n",
    "print(centros_result)"
   ]
  },
  {
   "cell_type": "code",
   "execution_count": null,
   "metadata": {},
   "outputs": [],
   "source": []
  }
 ],
 "metadata": {
  "kernelspec": {
   "display_name": "Python 3",
   "language": "python",
   "name": "python3"
  },
  "language_info": {
   "codemirror_mode": {
    "name": "ipython",
    "version": 3
   },
   "file_extension": ".py",
   "mimetype": "text/x-python",
   "name": "python",
   "nbconvert_exporter": "python",
   "pygments_lexer": "ipython3",
   "version": "3.6.6"
  }
 },
 "nbformat": 4,
 "nbformat_minor": 2
}
