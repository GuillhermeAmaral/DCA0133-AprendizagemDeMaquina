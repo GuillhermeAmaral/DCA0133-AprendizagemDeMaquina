{
 "cells": [
  {
   "cell_type": "markdown",
   "metadata": {},
   "source": [
    "# Questão 5\n",
    "\n",
    "Repita o problema na questão 4 considerado agora o método do K-means ou k-médias, que é uma técnica de clusterização por particionamento.\n"
   ]
  },
  {
   "cell_type": "code",
   "execution_count": 2,
   "metadata": {},
   "outputs": [
    {
     "name": "stdout",
     "output_type": "stream",
     "text": [
      "Dados=\n",
      "[[ 0.88  0.99  0.91  1.1 ]\n",
      " [ 0.9   0.99  0.93  1.26]\n",
      " [ 0.9   0.98  0.94  1.24]\n",
      " [ 0.87  0.98  0.97  1.18]\n",
      " [ 0.93  0.93  0.93  1.2 ]\n",
      " [ 0.89  0.97  0.92  1.04]\n",
      " [ 0.88  0.87  0.91  1.41]\n",
      " [ 0.81  0.92  0.8   0.55]\n",
      " [ 0.82  0.92  0.75  1.05]\n",
      " [ 0.85  0.9   0.64  0.07]\n",
      " [ 0.77  0.85  0.69 -1.36]\n",
      " [ 0.71  0.83  0.72  0.47]\n",
      " [ 0.75  0.83  0.63 -0.87]\n",
      " [ 0.7   0.62  0.6   0.21]\n",
      " [ 0.44  0.58  0.37 -1.36]\n",
      " [ 0.47  0.37  0.45 -0.68]\n",
      " [ 0.23  0.33  0.27 -1.26]\n",
      " [ 0.34  0.36  0.51 -1.98]\n",
      " [ 0.31  0.35  0.32 -0.55]\n",
      " [ 0.24  0.37  0.36  0.2 ]\n",
      " [ 0.76  0.8   0.61  0.39]]\n",
      "centros=\n",
      "[[ 0.766       0.814       0.674       0.338     ]\n",
      " [ 0.76        0.84        0.66       -1.115     ]\n",
      " [ 0.88375     0.95375     0.9075      1.185     ]\n",
      " [ 0.33666667  0.42333333  0.38333333 -1.53333333]\n",
      " [ 0.24        0.37        0.36        0.2       ]\n",
      " [ 0.39        0.36        0.385      -0.615     ]]\n"
     ]
    }
   ],
   "source": [
    "import numpy as np\n",
    "import matplotlib.pyplot as plt\n",
    "from sklearn.cluster import KMeans #https://scikit-learn.org/stable/modules/generated/sklearn.cluster.KMeans.html\n",
    "\n",
    "x1 = np.array([0.88,0.90,0.90,0.87,0.93,0.89,0.88,0.81,0.82,0.85,0.77,0.71,0.75,0.70,0.44,0.47,0.23,0.34,0.31,0.24,0.76]) #Atributo 1\n",
    "x2 = np.array([0.99,0.99,0.98,0.98,0.93,0.97,0.87,0.92,0.92,0.90,0.85,0.83,0.83,0.62,0.58,0.37,0.33,0.36,0.35,0.37,0.80])\n",
    "x3 = np.array([0.91,0.93,0.94,0.97,0.93,0.92,0.91,0.80,0.75,0.64,0.69,0.72,0.63,0.60,0.37,0.45,0.27,0.51,0.32,0.36,0.61])\n",
    "x4 = np.array([1.10,1.26,1.24,1.18,1.20,1.04,1.41,0.55,1.05,0.07,-1.36,0.47,-0.87,0.21,-1.36,-0.68,-1.26,-1.98,-0.55,0.20,0.39])\n",
    "\n",
    "dados = []\n",
    "for i,j,k,l in zip(x1,x2,x3,x4):\n",
    "    dados.append([i,j,k,l])\n",
    "dados = np.array(dados)\n",
    "print('Dados=\\n'+str(dados))\n",
    "\n",
    "\n",
    "k = KMeans(n_clusters=6, random_state=0).fit(dados)\n",
    "print('centros=\\n'+str(k.cluster_centers_))\n",
    "#print('labels=\\n'+str(k.labels_))\n"
   ]
  },
  {
   "cell_type": "markdown",
   "metadata": {},
   "source": []
  },
  {
   "cell_type": "code",
   "execution_count": null,
   "metadata": {},
   "outputs": [],
   "source": []
  }
 ],
 "metadata": {
  "kernelspec": {
   "display_name": "Python 3",
   "language": "python",
   "name": "python3"
  },
  "language_info": {
   "codemirror_mode": {
    "name": "ipython",
    "version": 3
   },
   "file_extension": ".py",
   "mimetype": "text/x-python",
   "name": "python",
   "nbconvert_exporter": "python",
   "pygments_lexer": "ipython3",
   "version": "3.6.6"
  }
 },
 "nbformat": 4,
 "nbformat_minor": 2
}
