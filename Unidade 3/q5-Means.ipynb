{
 "cells": [
  {
   "cell_type": "markdown",
   "metadata": {},
   "source": [
    "# Questão 5\n",
    "\n",
    "Repita o problema na questão 4 considerado agora o método do K-means ou k-médias, que é uma técnica de clusterização por particionamento.\n"
   ]
  },
  {
   "cell_type": "code",
   "execution_count": 1,
   "metadata": {},
   "outputs": [],
   "source": [
    "import numpy as np\n",
    "import matplotlib.pyplot as plt\n",
    "from sklearn.cluster import KMeans #https://scikit-learn.org/stable/modules/generated/sklearn.cluster.KMeans.html\n",
    "\n",
    "\n",
    "def prodEscalar(a,b):\n",
    "    '''Realiza o produto escalar do vetor <a-b>=<b-a>'''\n",
    "    a =  np.array(a); b =  np.array(b)\n",
    "    return np.dot(a-b,a-b)\n",
    "\n",
    "def T(clusters):\n",
    "    centroides=[]\n",
    "    for c in clusters:\n",
    "        centroides.append(centro(c))\n",
    "    tam = len(centroides)\n",
    "    \n",
    "    T = np.zeros((tam,tam))\n",
    "    B = np.zeros((tam, tam))\n",
    "    for i in range(tam):\n",
    "        for l in range(tam):\n",
    "            if i < l:\n",
    "                tami = len(clusters[i]); taml = len(clusters[l])  # tamanho do cluster i e j                \n",
    "                B[i][l] = (tami*taml)/(tami+taml)*prodEscalar(centroides[i], centroides[l])\n",
    "    \n",
    "    \n",
    "    for i in range(tam):\n",
    "        for l in range(tam):\n",
    "            if i < l:\n",
    "                Bil = (tami*taml)/(tami+taml)*prodEscalar(centroides[i], centroides[l])\n",
    "                tami = len(clusters[i]); taml = len(clusters[l])  # tamanho do cluster i e l\n",
    "                somai = 0; somal = 0\n",
    "                for j in range(tami): # soma distâncias do cluster 1\n",
    "                    somai += prodEscalar(clusters[i][j], centroides[i])\n",
    "                    \n",
    "                for j in range(taml): # soma distâncias do cluster 2\n",
    "                    somal += prodEscalar(clusters[l][j], centroides[l])\n",
    "                \n",
    "                T[i][l]= (Bil/((somai+somal)/(tami+taml-2)))**2\n",
    "    return np.max(T)\n",
    "\n",
    "\n",
    "def dist(a,b):\n",
    "    '''Calcula distância entre ponto1 e ponto2. Ambos devem ser arrays do numpy.\n",
    "    \n",
    "    Parâmetros\n",
    "    ----------\n",
    "    **a** : np.array com as N coordenadas do ponto 1\n",
    "    \n",
    "    **b** : np.array com as N coordenadas do ponto 2\n",
    "    \n",
    "    Retorno\n",
    "    -------\n",
    "    distância euclidiana entre os pontos'''\n",
    "    a=np.array(a); b=np.array(b)\n",
    "    #print('a= '+str(a)+ ', b= '+str(b))\n",
    "    return np.sqrt(np.dot(a-b,a-b))\n",
    "\n",
    "def centro(pontos):\n",
    "    '''Calcula centróide de um conjunto de pontos\n",
    "    \n",
    "    Parâmetros\n",
    "    ----------\n",
    "    **pontos**: np.array de amostras com N coordenadas\n",
    "    \n",
    "    Retorno\n",
    "    -------\n",
    "    ponto cujas coordenadas é a média dos pontos dados.'''\n",
    "    if pontos==[]:\n",
    "        return []\n",
    "    centroide = []\n",
    "    pontos=np.array(pontos)\n",
    "    for i in range(len(pontos[0])):\n",
    "        soma = 0\n",
    "        for j in range(len(pontos)):\n",
    "            soma += pontos[j][i]\n",
    "        centroide.append(soma/len(pontos)) \n",
    "    return np.array(centroide)       \n",
    "#TESTE centro()\n",
    "#c = centro([[2,3,5],[3,4,5],[1,5,6],[2,3,6]])\n",
    "\n",
    "\n",
    "def MSE(a,b):\n",
    "    '''Calcula erro médio quadrático em uma lista de amostras. Primeiro são \n",
    "    calculados as médias quadráticas elemento a elemento de **a** e **b**. As \n",
    "    várias médias são associadas em um único valor, que é retornado.\n",
    "    \n",
    "    Parâmetros\n",
    "    ----------\n",
    "    **a**: numpy array com M amostras de N coordenadas\n",
    "    \n",
    "    **b**: numpy array com M amostras de N coordenadas\n",
    "    \n",
    "    Retorno\n",
    "    -------\n",
    "    Após calcular várias médias quadráticas da diferença entre arrays em **a** \n",
    "    e em **b**., retorna a média desses valores'''\n",
    "    a=np.array(a); b=np.array(b)\n",
    "    soma = 0\n",
    "    for i,j in zip(a,b):\n",
    "        soma += np.array(((i-j)**2)).mean()\n",
    "    return soma/len(a)\n",
    "#TESTE MSE()\n",
    "#a = np.array([[1,2],[3,4],[5,6]])\n",
    "#b = np.array([[2,1],[4,3],[6,5]])\n",
    "#c = MSE(a,b)\n",
    "\n",
    "\n",
    "def R(clusters):\n",
    "    # ni = número de elementos no conglomerado Ci\n",
    "    # mi = centróide do conglomerado Ci\n",
    "    # xi = amostra do conglomerado Ci\n",
    "    # m = vetor média global\n",
    "    #print('custer dado pra R=\\n'+str(np.array(clusters)))\n",
    "    #print('custers[0][0] dado pra R=\\n'+str(np.array(clusters[0][0])))\n",
    "    media_glob = np.zeros(len(clusters[0][0]))\n",
    "    qtd_pto = 0\n",
    "    \n",
    "    for c in clusters:  # para cada cluster em 'clusters'\n",
    "        for ponto in c: # para cada ponto em clusters\n",
    "            media_glob+=ponto\n",
    "            #print('soma= '+str(media_glob))\n",
    "            qtd_pto+=1\n",
    "    media_glob = media_glob/qtd_pto\n",
    "    #print('qtd_clusters= '+str(len(clusters)))\n",
    "    #print('clusters para calcular centros= \\n'+str(clusters))\n",
    "    centros = []  # lista com centroides de todos aglomerados\n",
    "    for a in clusters:\n",
    "        centros.append(centro(a))\n",
    "    #print('centros= \\n'+str(centros))\n",
    "    SSB = 0\n",
    "    for i in range(len(clusters)):\n",
    "        #print('centro= '+str(centros[i])+', media_glob= '+str(media_glob))\n",
    "        SSB += len(clusters[i])*np.dot(centros[i]-media_glob,centros[i]-media_glob)\n",
    "    #print('SSB= '+str(SSB))\n",
    "    \n",
    "    SST = 0\n",
    "    for a in clusters:  # para cada Aglomerado em 'clusters'\n",
    "        c = centro(a) # centróides\n",
    "        for p in a:  # para cada Ponto do aglomerado\n",
    "            SST += np.dot(p-c, p-c)\n",
    "    #print('SST= '+str(SST))\n",
    "    return (SSB/SST)**2\n"
   ]
  },
  {
   "cell_type": "markdown",
   "metadata": {},
   "source": [
    "# Dados"
   ]
  },
  {
   "cell_type": "code",
   "execution_count": 2,
   "metadata": {},
   "outputs": [
    {
     "name": "stdout",
     "output_type": "stream",
     "text": [
      "Dados=\n",
      "[[ 0.88  0.99  0.91  1.1 ]\n",
      " [ 0.9   0.99  0.93  1.26]\n",
      " [ 0.9   0.98  0.94  1.24]\n",
      " [ 0.87  0.98  0.97  1.18]\n",
      " [ 0.93  0.93  0.93  1.2 ]\n",
      " [ 0.89  0.97  0.92  1.04]\n",
      " [ 0.88  0.87  0.91  1.41]\n",
      " [ 0.81  0.92  0.8   0.55]\n",
      " [ 0.82  0.92  0.75  1.05]\n",
      " [ 0.85  0.9   0.64  0.07]\n",
      " [ 0.77  0.85  0.69 -1.36]\n",
      " [ 0.71  0.83  0.72  0.47]\n",
      " [ 0.75  0.83  0.63 -0.87]\n",
      " [ 0.7   0.62  0.6   0.21]\n",
      " [ 0.44  0.58  0.37 -1.36]\n",
      " [ 0.47  0.37  0.45 -0.68]\n",
      " [ 0.23  0.33  0.27 -1.26]\n",
      " [ 0.34  0.36  0.51 -1.98]\n",
      " [ 0.31  0.35  0.32 -0.55]\n",
      " [ 0.24  0.37  0.36  0.2 ]\n",
      " [ 0.76  0.8   0.61  0.39]]\n"
     ]
    }
   ],
   "source": [
    "x1 = np.array([0.88,0.90,0.90,0.87,0.93,0.89,0.88,0.81,0.82,0.85,0.77,0.71,0.75,0.70,0.44,0.47,0.23,0.34,0.31,0.24,0.76]) #Atributo 1\n",
    "x2 = np.array([0.99,0.99,0.98,0.98,0.93,0.97,0.87,0.92,0.92,0.90,0.85,0.83,0.83,0.62,0.58,0.37,0.33,0.36,0.35,0.37,0.80])\n",
    "x3 = np.array([0.91,0.93,0.94,0.97,0.93,0.92,0.91,0.80,0.75,0.64,0.69,0.72,0.63,0.60,0.37,0.45,0.27,0.51,0.32,0.36,0.61])\n",
    "x4 = np.array([1.10,1.26,1.24,1.18,1.20,1.04,1.41,0.55,1.05,0.07,-1.36,0.47,-0.87,0.21,-1.36,-0.68,-1.26,-1.98,-0.55,0.20,0.39])\n",
    "\n",
    "dados = []\n",
    "for i,j,k,l in zip(x1,x2,x3,x4):\n",
    "    dados.append([i,j,k,l])\n",
    "dados = np.array(dados)\n",
    "print('Dados=\\n'+str(dados))"
   ]
  },
  {
   "cell_type": "markdown",
   "metadata": {},
   "source": [
    "# Clusterização\n",
    "Usando a classe `KMeans` do sklearn calculamos os centros numa linha só. Na função `fit()` abaixo, o inteiro `random_state` é a semente para gerar os centróides aleatoriamente. Arbitrariamos um valor para que os centróides iniciais sejam sempre os mesmos."
   ]
  },
  {
   "cell_type": "code",
   "execution_count": 3,
   "metadata": {},
   "outputs": [
    {
     "name": "stdout",
     "output_type": "stream",
     "text": [
      "Centros=\n",
      "[[ 0.766       0.814       0.674       0.338     ]\n",
      " [ 0.76        0.84        0.66       -1.115     ]\n",
      " [ 0.88375     0.95375     0.9075      1.185     ]\n",
      " [ 0.33666667  0.42333333  0.38333333 -1.53333333]\n",
      " [ 0.24        0.37        0.36        0.2       ]\n",
      " [ 0.39        0.36        0.385      -0.615     ]]\n",
      "Rótulos=\n",
      "[2 2 2 2 2 2 2 0 2 0 1 0 1 0 3 5 3 3 5 4 0]\n"
     ]
    }
   ],
   "source": [
    "k = KMeans(n_clusters=6, random_state=0).fit(dados)\n",
    "print('Centros=\\n'+str(k.cluster_centers_))\n",
    "print('Rótulos=\\n'+str(k.labels_))\n"
   ]
  },
  {
   "cell_type": "markdown",
   "metadata": {},
   "source": [
    "# Grupos formados"
   ]
  },
  {
   "cell_type": "code",
   "execution_count": 4,
   "metadata": {},
   "outputs": [
    {
     "name": "stdout",
     "output_type": "stream",
     "text": [
      "Classe 0:\n",
      "['Argentina', 'Cuba', 'Brasil', 'Egito', 'China']\n",
      "Classe 1:\n",
      "['Colômbia', 'Paraguai']\n",
      "Classe 2:\n",
      "['Reino Unido', 'Austrália', 'Canadá', 'Estados Unidos', 'Japão', 'França', 'Cingapura', 'Uruguai']\n",
      "Classe 3:\n",
      "['Nigéria', 'Serra Leoa', 'Angola']\n",
      "Classe 4:\n",
      "['Moçambique']\n",
      "Classe 5:\n",
      "['Senegal', 'Etiópia']\n"
     ]
    }
   ],
   "source": [
    "paises = {0:'Reino Unido', 1:'Austrália', 2:'Canadá', 3:'Estados Unidos', 4:'Japão', 5:'França', 6:'Cingapura', 7:'Argentina', 8:'Uruguai', 9:'Cuba', 10:'Colômbia', 11:'Brasil', 12:'Paraguai', 13:'Egito', 14:'Nigéria', 15:'Senegal', 16:'Serra Leoa', 17:'Angola', 18:'Etiópia', 19:'Moçambique', 20:'China'}\n",
    "\n",
    "clusters = []\n",
    "for i in range(len(k.cluster_centers_)):\n",
    "    clusters.append([])\n",
    "for i in range(len(dados)):\n",
    "    clusters[k.labels_[i]].append(paises[i])\n",
    "\n",
    "for i in range(len(clusters)):\n",
    "    print('Classe '+str(i)+':\\n'+str(clusters[i]))"
   ]
  },
  {
   "cell_type": "markdown",
   "metadata": {},
   "source": [
    "# Avaliação"
   ]
  },
  {
   "cell_type": "code",
   "execution_count": 5,
   "metadata": {},
   "outputs": [
    {
     "name": "stdout",
     "output_type": "stream",
     "text": [
      "T²= 48497.146012563695\n",
      "R²= 672.0324600589995\n"
     ]
    }
   ],
   "source": [
    "clusters = []\n",
    "for i in range(len(k.cluster_centers_)):\n",
    "    clusters.append([])\n",
    "for i in range(len(dados)):\n",
    "    clusters[k.labels_[i]].append(dados[i])\n",
    "\n",
    "print('T²= '+str(T(clusters)))\n",
    "print('R²= '+str(R(clusters)))"
   ]
  },
  {
   "cell_type": "code",
   "execution_count": null,
   "metadata": {},
   "outputs": [],
   "source": []
  }
 ],
 "metadata": {
  "kernelspec": {
   "display_name": "Python 3",
   "language": "python",
   "name": "python3"
  },
  "language_info": {
   "codemirror_mode": {
    "name": "ipython",
    "version": 3
   },
   "file_extension": ".py",
   "mimetype": "text/x-python",
   "name": "python",
   "nbconvert_exporter": "python",
   "pygments_lexer": "ipython3",
   "version": "3.6.6"
  }
 },
 "nbformat": 4,
 "nbformat_minor": 2
}
