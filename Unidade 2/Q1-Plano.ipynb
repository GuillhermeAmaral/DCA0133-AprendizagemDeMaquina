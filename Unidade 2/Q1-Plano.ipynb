{
 "cells": [
  {
   "cell_type": "markdown",
   "metadata": {},
   "source": [
    "# Questão 1\n",
    "Considere o problema de classificação de padrões constituído de duas classes com os seguintes conjuntos de treinamento: $C_{1} = {(0,0,0),(1,0,0),(1,0,1),(1,1,0)}$ e $C_{2}={(0,0,1),(0,1,1),(0,1,0),(1,1,1)}$. Determine o hiperplano de separação dos padrões considerando os seguintes métodos.\n",
    "* Algoritmo do perceptron\n",
    "* Máquina de Vetor de Suporte Linear\n",
    "\n",
    "## Por Perceptron\n",
    "Um jeito fácil de descobrir o hiperplano de separação é usando uma rede de um único perceptron. Como a entrada é um trio de valores, só há 3 pesos e um viés em toda a rede. A saída y, um valor de 0 a 1, é calculado por: $y = \\sigma(w_{1}x_{1}+w_{2}x_{2}+w_{3}x_{3}+bias)$, sendo $\\sigma(x)$ a função de ativação. Os valores de $w_{1}$, $w_{2}$, $w_{3}$ são os pesos, e o $bias$ é o viés. Todos serão calculados pelo algoritmo `Backpropagation`, implementado pela biblioteca python **Keras**, e serão usados para preencher a equação do plano no $R^{3}$: $xw_{1}+yw_{2}+zw_{3}+bias=0$.\n",
    "\n",
    "### Bibliotecas"
   ]
  },
  {
   "cell_type": "code",
   "execution_count": 2,
   "metadata": {},
   "outputs": [],
   "source": [
    "import numpy as np\n",
    "import keras.layers as kl\n",
    "import keras.models as km\n",
    "from keras.utils import plot_model\n",
    "import pydot\n",
    "import matplotlib.pyplot as plt"
   ]
  },
  {
   "cell_type": "markdown",
   "metadata": {},
   "source": [
    "### Dados de treino\n",
    "Os dados de treino `x_treino` consistem em todos o números representáveis com 3 algarismos na base binária, isto é, de (0,0,0) a (1,1,1). No gráfico, esses pontos formam um cubo no 1º octante.\n",
    "\n",
    "O gabarito `y_treino` foi escrito na mão seguindo a tabela abaixo:\n",
    "<table>\n",
    "  <tl>\n",
    "      <td>x_treino</td>\n",
    "      <td>y_treino</td>\n",
    "  </tl>\n",
    "  <tr>\n",
    "    <td>000</td>\n",
    "    <td>0</td>\n",
    "  </tr>\n",
    "  <tr>\n",
    "    <td>001</td>\n",
    "    <td>1</td>\n",
    "  </tr>\n",
    "  <tr>\n",
    "    <td>010</td>\n",
    "    <td>1</td>\n",
    "  </tr>\n",
    "  <tr>\n",
    "    <td>011</td>\n",
    "    <td>1</td>\n",
    "  </tr>\n",
    "  <tr>\n",
    "    <td>100</td>\n",
    "    <td>0</td>\n",
    "  </tr>\n",
    "  <tr>\n",
    "    <td>101</td>\n",
    "    <td>0</td>\n",
    "  </tr>\n",
    "  <tr>\n",
    "    <td>110</td>\n",
    "    <td>0</td>\n",
    "  </tr>\n",
    "  <tr>\n",
    "    <td>111</td>\n",
    "    <td>1</td>\n",
    "  </tr>\n",
    "</table>"
   ]
  },
  {
   "cell_type": "code",
   "execution_count": 3,
   "metadata": {},
   "outputs": [],
   "source": [
    "x_treino = []\n",
    "for i in range(2):\n",
    "    for j in range(2):\n",
    "        for k in range(2):\n",
    "            x_treino.append([i,j,k])\n",
    "            \n",
    "y_treino = [0,1,1,1,0,0,0,1]\n",
    "x_treino = np.array(x_treino)\n",
    "y_treino = np.array(y_treino).reshape(-1, 1)"
   ]
  },
  {
   "cell_type": "markdown",
   "metadata": {},
   "source": [
    "### Construindo modelo da rede neural\n",
    "A rede consiste de um perceptron de 3 entradas e função de ativação sigmoide. A função custo usada é a **Root Mean Squared Logathmic Error**, uma variação do **RMSE** (média quadrática, em português). $$RMSLE = \\sqrt{\\frac{1}{N}\\sum_{i=1}^{N}(\\log (p_{i}+1)-\\log (y_{i}+1))^{2}}$$\n",
    "$$RMSE = \\sqrt{\\frac{1}{N}\\sum_{i=1}^{N}(y_{i}-p_{i})^{2}} $$\n",
    "\n",
    "Legenda:\n",
    "* $y_{i}$ = valor correto\n",
    "* $p_{i}$ = valor estimado pela rede\n",
    "* N = tamanho do lote\n",
    "\n",
    "**OBS.:** Treinamos a rede com 10000 épocas para fins de teste, com metade dessa quantidade geralmente temos um erro próximo de 1% apenas."
   ]
  },
  {
   "cell_type": "code",
   "execution_count": 4,
   "metadata": {},
   "outputs": [],
   "source": [
    "model = km.Sequential()  # Entrada\n",
    "model.add(kl.Dense(1, activation='sigmoid', input_dim=3)) # Primeira camada oculta\n",
    "model.compile(loss='msle', optimizer='adam')\n",
    "\n",
    "H = model.fit(x_treino, y_treino, epochs=10000, verbose=0)"
   ]
  },
  {
   "cell_type": "markdown",
   "metadata": {},
   "source": [
    "### Histórico de custo\n",
    "O gráfico abaixo mostra a decrescimento do erro conforme o a rede treina seus pesos. Cada ponto corresponde a (época, erro)."
   ]
  },
  {
   "cell_type": "code",
   "execution_count": 5,
   "metadata": {},
   "outputs": [
    {
     "data": {
      "image/png": "[encoded data removed]",
      "text/plain": [
       "<Figure size 432x288 with 1 Axes>"
      ]
     },
     "metadata": {},
     "output_type": "display_data"
    }
   ],
   "source": [
    "plt.plot(H.history['loss'])\n",
    "plt.xlabel('Época')\n",
    "plt.ylabel('Custo')\n",
    "plt.title('Histórico do erro')\n",
    "plt.show()"
   ]
  },
  {
   "cell_type": "markdown",
   "metadata": {},
   "source": [
    "### Visualização do hiperplano\n"
   ]
  },
  {
   "cell_type": "code",
   "execution_count": 5,
   "metadata": {},
   "outputs": [
    {
     "name": "stdout",
     "output_type": "stream",
     "text": [
      "Comparando estimações com o gabarito:\n",
      "Amostra: [0 0 0] - Gabarito: 0 - Estimado: 0.034066807\n",
      "Amostra: [0 0 1] - Gabarito: 1 - Estimado: 0.9312101\n",
      "Amostra: [0 1 0] - Gabarito: 1 - Estimado: 0.9172088\n",
      "Amostra: [0 1 1] - Gabarito: 1 - Estimado: 0.99976486\n",
      "Amostra: [1 0 0] - Gabarito: 0 - Estimado: 0.000120538105\n",
      "Amostra: [1 0 1] - Gabarito: 0 - Estimado: 0.044225335\n",
      "Amostra: [1 1 0] - Gabarito: 0 - Estimado: 0.036486648\n",
      "Amostra: [1 1 1] - Gabarito: 1 - Estimado: 0.9356293\n",
      "\n",
      "Pesos da rede neural:\n",
      "w1= -5.6786532\n",
      "w2= 5.7497845\n",
      "w3= 5.9502\n",
      "viés= -3.3447711\n"
     ]
    }
   ],
   "source": [
    "rotulos = []\n",
    "for i in range(2):\n",
    "    for j in range(2):\n",
    "        for k in range(2):\n",
    "            rotulos.append(model.predict(np.array([[i,j,k]])))\n",
    "\n",
    "print('Comparando estimações com o gabarito:')\n",
    "for i in range(len(rotulos)):\n",
    "    print('Amostra: '+str(x_treino[i])+' - Gabarito: '+str(y_treino[i][0])+' - Estimado: '+str(rotulos[i][0][0]))\n",
    "\n",
    "param = model.get_weights()\n",
    "print('\\nPesos da rede neural:')\n",
    "print('w1= '+str(param[0][0][0]))\n",
    "print('w2= '+str(param[0][1][0]))\n",
    "print('w3= '+str(param[0][2][0]))\n",
    "\n",
    "print('viés= '+str(param[1][0]))"
   ]
  },
  {
   "cell_type": "markdown",
   "metadata": {},
   "source": [
    "O plano retornado foi plotado no geogebra e as imagens podem ser vistas abaixo. \n",
    "![Plano de separação](img/v2.png)\n",
    "![Plano de separação](img/v1.png)\n",
    "Temos algumas observações a fazer:\n",
    "* O plano encontrado não é a solução ótima.\n",
    "* Cada treino gera valores diferentes de $w_{1}$, $w_{2}$, $w_{3}$ e $bias$, mas todos geram planos parecidos.\n",
    "* Apesar de só haver um neurônio foi preciso uma quantidade bem grande de épocas (em torno de 5000) para gerar parâmetros satisfatórios."
   ]
  },
  {
   "cell_type": "markdown",
   "metadata": {},
   "source": [
    "## Utilizando SMV\n",
    "\n",
    "O objetivo de utilizar SVM para resolver esse problema é encontrar um hiperplano que separe as duas classes, ou seja, todos os pontos acima do hiperplano devem pertencer a uma mesma classe, o mesmo para a região abaixo do hiperplano. Para realizar essa tarefa pode-se utilizar diferentes tipos de kernel, mas usando o kernel linear obtem-se os coeficientes que descrevem o hiperplano.\n",
    "\n",
    "### Bibliotecas"
   ]
  },
  {
   "cell_type": "code",
   "execution_count": 7,
   "metadata": {},
   "outputs": [],
   "source": [
    "from sklearn import svm\n",
    "import numpy as np"
   ]
  },
  {
   "cell_type": "markdown",
   "metadata": {},
   "source": [
    "## Dados de treino"
   ]
  },
  {
   "cell_type": "code",
   "execution_count": 8,
   "metadata": {},
   "outputs": [],
   "source": [
    "training_data = np.array([[0,0,0], [1,0,0], [1,0,1], [1,1,0], [0,0,1], [0,1,1], [0,1,0], [1,1,1]])\n",
    "class_training_data = np.array(['C1', 'C1', 'C1', 'C1', 'C2', 'C2', 'C2', 'C2'])"
   ]
  },
  {
   "cell_type": "markdown",
   "metadata": {},
   "source": [
    "## Implementação da SVM usando kernel linear"
   ]
  },
  {
   "cell_type": "code",
   "execution_count": 9,
   "metadata": {},
   "outputs": [
    {
     "data": {
      "text/plain": [
       "SVC(C=1, cache_size=200, class_weight=None, coef0=0.0,\n",
       "  decision_function_shape='ovr', degree=3, gamma='auto_deprecated',\n",
       "  kernel='linear', max_iter=-1, probability=False, random_state=None,\n",
       "  shrinking=True, tol=0.001, verbose=False)"
      ]
     },
     "execution_count": 9,
     "metadata": {},
     "output_type": "execute_result"
    }
   ],
   "source": [
    "clf = svm.SVC(kernel='linear', C=1)\n",
    "clf.fit(training_data, class_training_data)"
   ]
  },
  {
   "cell_type": "markdown",
   "metadata": {},
   "source": [
    "O parâmetro C no código acima indica a penalidade por um erro e utilizando diferentes valores obtem-se resultados diferentes. Os coeficientes do hiperplano são obtidos da seguinte forma:"
   ]
  },
  {
   "cell_type": "code",
   "execution_count": 10,
   "metadata": {},
   "outputs": [
    {
     "name": "stdout",
     "output_type": "stream",
     "text": [
      "Coeficientes do hiperplano:  [[-1.  1.  1.]]\n",
      "Termo independente [-0.5]\n"
     ]
    }
   ],
   "source": [
    "print('Coeficientes do hiperplano: ', clf.coef_)\n",
    "print('Termo independente', clf.intercept_)"
   ]
  },
  {
   "cell_type": "code",
   "execution_count": 11,
   "metadata": {},
   "outputs": [
    {
     "name": "stdout",
     "output_type": "stream",
     "text": [
      "Coeficientes do hiperplano:  [[-1.99969517  1.99969517  1.99939034]]\n",
      "Termo independente [-0.99969517]\n"
     ]
    }
   ],
   "source": [
    "clf = svm.SVC(kernel='linear', C=10)\n",
    "clf.fit(training_data, class_training_data)\n",
    "print('Coeficientes do hiperplano: ', clf.coef_)\n",
    "print('Termo independente', clf.intercept_)"
   ]
  },
  {
   "cell_type": "code",
   "execution_count": 12,
   "metadata": {},
   "outputs": [
    {
     "name": "stdout",
     "output_type": "stream",
     "text": [
      "Coeficientes do hiperplano:  [[-0.2  0.2  0.2]]\n",
      "Termo independente [-0.1]\n"
     ]
    }
   ],
   "source": [
    "clf = svm.SVC(kernel='linear', C=0.1)\n",
    "clf.fit(training_data, class_training_data)\n",
    "print('Coeficientes do hiperplano: ', clf.coef_)\n",
    "print('Termo independente', clf.intercept_)"
   ]
  },
  {
   "cell_type": "markdown",
   "metadata": {},
   "source": [
    "Todos os resultados acima geram o mesmo hiperplano de equação $Z = X - Y + 0.5$, o qual é mostrado na figura abaixo, onde os pontos em azul pertencem a classe C1 e os pontos em vermelho a classe C2."
   ]
  },
  {
   "cell_type": "markdown",
   "metadata": {},
   "source": [
    "![Hiperplano](https://i.imgur.com/mpcI0un.png)\n",
    "![C1](https://imgur.com/YcBz266.png)\n",
    "![C2](https://i.imgur.com/mYRbpbF.png)"
   ]
  },
  {
   "cell_type": "code",
   "execution_count": null,
   "metadata": {},
   "outputs": [],
   "source": []
  }
 ],
 "metadata": {
  "kernelspec": {
   "display_name": "Python 3",
   "language": "python",
   "name": "python3"
  },
  "language_info": {
   "codemirror_mode": {
    "name": "ipython",
    "version": 3
   },
   "file_extension": ".py",
   "mimetype": "text/x-python",
   "name": "python",
   "nbconvert_exporter": "python",
   "pygments_lexer": "ipython3",
   "version": "3.6.6"
  }
 },
 "nbformat": 4,
 "nbformat_minor": 2
}
