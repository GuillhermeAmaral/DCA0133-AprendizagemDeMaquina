{
 "cells": [
  {
   "cell_type": "markdown",
   "metadata": {},
   "source": [
    "# Questão 6\n",
    "Utilize a rede neural perceptron de múltiplas camadas para fazer a predição de um passo da série temporal $x[n] = \\sin (n+\\sin^{2}(n))$. Avalie o desempenho mostrando o erro de predição.\n",
    "\n",
    "Abordaremos o problema da seguinte forma: A rede será treinada para gerar o valor da função objetivo dado vários outros passados. Cada uma das amostras de `x_treino` então são vetores com valores imediatamente anteriores a um determinado n e `y_treino` é o próximo valor da série. Para exemplificar, faremos uma versão simplificada de treino na qual estimaremos o $x[10]$ com 5 amostras de 5 valores de x cada. O dados de teino podem ser conforme a tabela:\n",
    "\n",
    "<table>\n",
    "  <tr>\n",
    "      <td>x_treino</td>\n",
    "      <td>y_treino</td>\n",
    "  </tr>\n",
    "  <tr>\n",
    "    <td>$x[1]$, $x[2]$, $x[3]$, $x[4]$</td>\n",
    "    <td>$x[5]$</td>\n",
    "  </tr>\n",
    "  <tr>\n",
    "    <td>$x[2]$, $x[3]$, $x[4]$, $x[5]$</td>\n",
    "    <td>$x[6]$</td>\n",
    "  </tr>\n",
    "  <tr>\n",
    "    <td>$x[3]$, $x[4]$, $x[5]$, $x[6]$</td>\n",
    "    <td>$x[7]$</td>\n",
    "  </tr>\n",
    "  <tr>\n",
    "    <td>$x[4]$, $x[5]$, $x[6]$, $x[7]$</td>\n",
    "    <td>$x[8]$</td>\n",
    "  </tr>\n",
    "  <tr>\n",
    "    <td>$x[5]$, $x[6]$, $x[7]$, $x[8]$</td>\n",
    "    <td>$x[9]$</td>\n",
    "  </tr>\n",
    "</table>\n",
    "\n",
    "Ao passar a entrada $x[6]$, $x[7]$, $x[8]$, $x[9]$, espera-se que a rede retorne $x[10]$.\n",
    "\n",
    "## Bibliotecas e funções"
   ]
  },
  {
   "cell_type": "code",
   "execution_count": 1,
   "metadata": {},
   "outputs": [
    {
     "name": "stderr",
     "output_type": "stream",
     "text": [
      "Using TensorFlow backend.\n"
     ]
    }
   ],
   "source": [
    "import numpy as np\n",
    "import keras.layers as kl\n",
    "import keras.models as km\n",
    "import keras.callbacks as kc\n",
    "import matplotlib.pyplot as plt\n",
    "\n",
    "def objetivo(n):\n",
    "    return np.sin(n+np.sin(n)**2)\n"
   ]
  },
  {
   "cell_type": "markdown",
   "metadata": {},
   "source": [
    "## Dados de treino\n",
    "A variável `n` é o índice temporal do valor que desejamos **prever**. Estamos usando 500 amostras de 50 valores cada."
   ]
  },
  {
   "cell_type": "code",
   "execution_count": 2,
   "metadata": {},
   "outputs": [],
   "source": [
    "n=100  # Índice temporal do valor que será previsto \n",
    "qtd_pts = 50  # quantos valores há em cada amostra\n",
    "qtd_amostra = 500  # quantas amostras serão usadas para treinar\n",
    "x_treino,y_treino = [],[]\n",
    "\n",
    "for i in range(qtd_amostra):\n",
    "    ind = np.arange(n-i-1-qtd_pts, n-i-1) # índices temporais\n",
    "    x_treino.append(objetivo(ind))\n",
    "    y_treino.append(objetivo(n-i-1))\n",
    "x_treino = np.array(x_treino)\n",
    "y_treino = np.array(y_treino)\n"
   ]
  },
  {
   "cell_type": "markdown",
   "metadata": {},
   "source": [
    "## Construindo rede neural\n",
    "Usamos como função de ativação a $f(x)=x$."
   ]
  },
  {
   "cell_type": "code",
   "execution_count": 3,
   "metadata": {},
   "outputs": [
    {
     "name": "stdout",
     "output_type": "stream",
     "text": [
      "Epoch 1/1500\n",
      "500/500 [==============================] - 1s 2ms/step - loss: 0.0569\n",
      "Epoch 2/1500\n",
      "500/500 [==============================] - 0s 427us/step - loss: 4.4388e-04\n",
      "Epoch 3/1500\n",
      "500/500 [==============================] - 0s 439us/step - loss: 2.1345e-04\n",
      "Epoch 4/1500\n",
      "500/500 [==============================] - 0s 387us/step - loss: 6.3403e-05\n",
      "Epoch 5/1500\n",
      "500/500 [==============================] - 0s 421us/step - loss: 2.1302e-05\n",
      "Epoch 6/1500\n",
      "500/500 [==============================] - 0s 362us/step - loss: 2.1339e-05\n",
      "Epoch 7/1500\n",
      "500/500 [==============================] - 0s 388us/step - loss: 2.3574e-05\n",
      "Epoch 8/1500\n",
      "500/500 [==============================] - 0s 412us/step - loss: 1.3695e-05\n",
      "Epoch 9/1500\n",
      "500/500 [==============================] - 0s 418us/step - loss: 3.0658e-05\n",
      "Epoch 10/1500\n",
      "500/500 [==============================] - 0s 392us/step - loss: 8.1131e-05\n",
      "Epoch 11/1500\n",
      "500/500 [==============================] - 0s 418us/step - loss: 4.0521e-04\n",
      "Epoch 12/1500\n",
      "500/500 [==============================] - 0s 398us/step - loss: 0.0014\n",
      "Epoch 13/1500\n",
      "500/500 [==============================] - 0s 399us/step - loss: 5.8016e-04\n",
      "Epoch 14/1500\n",
      "500/500 [==============================] - 0s 411us/step - loss: 4.9248e-04\n",
      "Epoch 15/1500\n",
      "500/500 [==============================] - 0s 425us/step - loss: 7.9785e-05\n",
      "Epoch 16/1500\n",
      "500/500 [==============================] - 0s 431us/step - loss: 1.9880e-05\n",
      "Epoch 17/1500\n",
      "500/500 [==============================] - 0s 390us/step - loss: 9.4984e-05\n",
      "Epoch 18/1500\n",
      "500/500 [==============================] - 0s 408us/step - loss: 3.1035e-05\n"
     ]
    }
   ],
   "source": [
    "model = km.Sequential()\n",
    "model.add(kl.Dense(60, input_dim=qtd_pts, activation='linear'))\n",
    "model.add(kl.Dense(60, activation='linear'))\n",
    "model.add(kl.Dense(60, activation='linear'))\n",
    "model.add(kl.Dense(1, activation='linear'))\n",
    "model.compile(optimizer='adam', loss='mean_squared_error')  # metrics=['acc']\n",
    "\n",
    "monitor = kc.EarlyStopping(monitor='loss', min_delta=0, patience=10, verbose=0, mode='auto')\n",
    "H = model.fit(x_treino, y_treino, epochs=1500, batch_size=5, verbose=0, callbacks=[monitor])\n"
   ]
  },
  {
   "cell_type": "markdown",
   "metadata": {},
   "source": [
    "## Validação"
   ]
  },
  {
   "cell_type": "code",
   "execution_count": 4,
   "metadata": {},
   "outputs": [
    {
     "data": {
      "image/png": "[encoded data removed]",
      "text/plain": [
       "<Figure size 432x288 with 1 Axes>"
      ]
     },
     "metadata": {},
     "output_type": "display_data"
    },
    {
     "name": "stdout",
     "output_type": "stream",
     "text": [
      "previsão: -0.27134594\n",
      "gabarito: -0.27112224270398794\n"
     ]
    }
   ],
   "source": [
    "plt.plot(H.history['loss'])\n",
    "plt.xlabel('Épocas')\n",
    "plt.ylabel('Erros')\n",
    "plt.show()\n",
    "\n",
    "\n",
    "#Dados de previsão\n",
    "ind=np.arange(n-50,n)\n",
    "previsao = model.predict(np.array([objetivo(ind)]))[0][0]\n",
    "gabarito = objetivo(n)\n",
    "\n",
    "print('previsão: '+str(previsao))\n",
    "print('gabarito: '+str(gabarito))\n"
   ]
  },
  {
   "cell_type": "code",
   "execution_count": null,
   "metadata": {},
   "outputs": [],
   "source": []
  }
 ],
 "metadata": {
  "kernelspec": {
   "display_name": "Python 3",
   "language": "python",
   "name": "python3"
  },
  "language_info": {
   "codemirror_mode": {
    "name": "ipython",
    "version": 3
   },
   "file_extension": ".py",
   "mimetype": "text/x-python",
   "name": "python",
   "nbconvert_exporter": "python",
   "pygments_lexer": "ipython3",
   "version": "3.6.6"
  }
 },
 "nbformat": 4,
 "nbformat_minor": 2
}
