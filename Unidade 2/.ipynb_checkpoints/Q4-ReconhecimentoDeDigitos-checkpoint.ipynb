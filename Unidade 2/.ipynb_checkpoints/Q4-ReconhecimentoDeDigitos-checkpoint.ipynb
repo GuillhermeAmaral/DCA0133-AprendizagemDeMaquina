{
 "cells": [
  {
   "cell_type": "markdown",
   "metadata": {},
   "source": [
    "# Questão 5\n",
    "Considere o problema de reconhecimento de padrões constituído neste caso de uma deep learning capaz de reconhecer os números (0, 1, ..., 9) mesmo que estes tenham um pequeno giro de até 10 graus. Avalie o desempenho de sistema gerando a matriz de confusão. Pesquise as base de dados para serem usadas no treinamento.\n",
    "\n",
    "[Aqui](https://pythonprogramming.net/introduction-deep-learning-python-tensorflow-keras/) você encontrará o mesmo projeto e seu autor original.\n",
    "\n",
    "Esta rede neural identificará dígitos escritos cursivamente. Os dados de treinamento provêm do banco de dados [MNIST](http://yann.lecun.com/exdb/mnist/), que abriga 70.000 exemplos de imagens classificadas corretamente. Apesar de podermos fazer o download no link anterior, há um forma mais fácil de trabalharmos com ele. Devido a fama do MNIST, a biblioteca Keras traz uma função que baixa os dados."
   ]
  },
  {
   "cell_type": "code",
   "execution_count": 1,
   "metadata": {},
   "outputs": [
    {
     "name": "stdout",
     "output_type": "stream",
     "text": [
      "Versão do TensorFlow: 1.10.0\n"
     ]
    }
   ],
   "source": [
    "import numpy as np\n",
    "import matplotlib.pyplot as plt\n",
    "import tensorflow as tf\n",
    "print('Versão do TensorFlow: '+tf.__version__)"
   ]
  },
  {
   "cell_type": "markdown",
   "metadata": {},
   "source": [
    "## Baixando os dados\n",
    "A função `load_data()` faz download das imagens e seus rótulos. Depois retorna duas tuplas contendo duas listas cada uma. Os nomes das variáveis são auto-explicativos."
   ]
  },
  {
   "cell_type": "code",
   "execution_count": 2,
   "metadata": {},
   "outputs": [
    {
     "name": "stdout",
     "output_type": "stream",
     "text": [
      "Tamanho da lista de treinamento: 60000\n",
      "Tamanho da lista de validação: 10000\n"
     ]
    },
    {
     "data": {
      "image/png": "[encoded data removed]",
      "text/plain": [
       "<Figure size 432x288 with 1 Axes>"
      ]
     },
     "metadata": {},
     "output_type": "display_data"
    }
   ],
   "source": [
    "mnist = tf.keras.datasets.mnist\n",
    "(x_treino, y_treino), (x_teste, y_teste) = mnist.load_data()\n",
    "print('Tamanho da lista de treinamento: '+str(len(x_treino)))\n",
    "print('Tamanho da lista de validação: '+str(len(x_teste)))\n",
    "plt.imshow(x_treino[0])\n",
    "plt.show()"
   ]
  },
  {
   "cell_type": "markdown",
   "metadata": {},
   "source": [
    "OBS.: Todas as imagens aqui têm dimensões 28x28.\n",
    "\n",
    "A lista `y_treino` armazena o rótulo de cada dado em `x_treino`. O mesmo ocorre nas listas de teste."
   ]
  },
  {
   "cell_type": "code",
   "execution_count": 3,
   "metadata": {},
   "outputs": [
    {
     "name": "stdout",
     "output_type": "stream",
     "text": [
      "Rótulo da imagem acima (x_treino[0]): 5\n"
     ]
    }
   ],
   "source": [
    "print('Rótulo da imagem acima (x_treino[0]): '+str(y_treino[0]))"
   ]
  },
  {
   "cell_type": "markdown",
   "metadata": {},
   "source": [
    "## Pré-processamento\n",
    "Em nosso conjunto de dados, todas imagens monocromáticas usam valores no intervalo $[0, 255] \\in Z$ para representar as 256 tons de uma cor. Vamos normalizar esses valores para $[0,1] \\in R$."
   ]
  },
  {
   "cell_type": "code",
   "execution_count": 4,
   "metadata": {},
   "outputs": [],
   "source": [
    "x_treino = tf.keras.utils.normalize(x_treino, axis=1)\n",
    "x_teste = tf.keras.utils.normalize(x_teste, axis=1)"
   ]
  },
  {
   "cell_type": "markdown",
   "metadata": {},
   "source": [
    "Para demonstrar que a imagem permanece igual, vamos imprimi-la. Com a adição de um novo argumento no `imshow()`, veremos ela em escala de cinza."
   ]
  },
  {
   "cell_type": "code",
   "execution_count": 5,
   "metadata": {},
   "outputs": [
    {
     "data": {
      "image/png": "[encoded data removed]",
      "text/plain": [
       "<Figure size 432x288 with 1 Axes>"
      ]
     },
     "metadata": {},
     "output_type": "display_data"
    }
   ],
   "source": [
    "plt.imshow(x_treino[0], cmap=plt.cm.binary)\n",
    "plt.show()"
   ]
  },
  {
   "cell_type": "markdown",
   "metadata": {},
   "source": [
    "## Costruindo o modelo da rede neural\n",
    "Na biblioteca Keras, as redes são objetos chamados de **modelos**. O modelo que queremos construir é a [Multi-Layer Perceptron](https://juliocprocha.files.wordpress.com/2017/11/imagem_1.jpg) tradicional, que no código é denominada `Sequential()`. Logo temos:"
   ]
  },
  {
   "cell_type": "code",
   "execution_count": 6,
   "metadata": {},
   "outputs": [],
   "source": [
    "model = tf.keras.models.Sequential()"
   ]
  },
  {
   "cell_type": "markdown",
   "metadata": {},
   "source": [
    "Vamos criar uma camada com a função `add()`. Visto que esta é a primeira, o Keras já sabe que ela é a entrada da rede e não são neurônios. Por isso, não há necessidade de especificar nada sobre quantidade, função ativadora, etc.\n",
    "\n",
    "O que faremos por agora é \"alertar\" ao modelo que a entrada deve ser transformada numa lista unidimencional. A matriz 28x28 será redimensionada para um vetor 1x784."
   ]
  },
  {
   "cell_type": "code",
   "execution_count": 7,
   "metadata": {},
   "outputs": [],
   "source": [
    "model.add(tf.keras.layers.Flatten())"
   ]
  },
  {
   "cell_type": "markdown",
   "metadata": {},
   "source": [
    "Criando outra camada com 128 neurônios com função de ativação `ReLU()`. \n",
    "$$\n",
    "ReLU(x) = max(0, x)\n",
    "$$"
   ]
  },
  {
   "cell_type": "code",
   "execution_count": 8,
   "metadata": {},
   "outputs": [],
   "source": [
    "model.add(tf.keras.layers.Dense(128, activation=tf.nn.relu))"
   ]
  },
  {
   "cell_type": "markdown",
   "metadata": {},
   "source": [
    "Última camada terá invariavelmente 10 neurônios, cada um representando um dos 10 algarismos arábicos.\n",
    "\n",
    "A próxima função de ativação é bem comum na última camada de redes neurais."
   ]
  },
  {
   "cell_type": "code",
   "execution_count": 9,
   "metadata": {},
   "outputs": [],
   "source": [
    "model.add(tf.keras.layers.Dense(10, activation=tf.nn.softmax))"
   ]
  },
  {
   "cell_type": "markdown",
   "metadata": {},
   "source": [
    "Usar a **Softmax** como função de ativação faz com que os valores resultantes em cada neurônio seja na verdade a probabilidade da entrada pertencer a classe que ele representa. A softmax transforma as saídas de cada classe para valores entre 0 e 1 e também divide pela soma das saídas.\n",
    "\n",
    "$$\n",
    "\\sigma(z)_j = \\dfrac{e^{z_ j}}{\\sum_{k=1}^{K}e^{z_ k}}\n",
    "$$\n",
    "$z$ é o valor no neurônio antes da ativação\n",
    "\n",
    "$j$ é o índice do neurônio de saída\n",
    "\n",
    "$k$ é o índice de todos os neurônios em um nível\n",
    "\n",
    "Construção completa."
   ]
  },
  {
   "cell_type": "markdown",
   "metadata": {},
   "source": [
    "## Compilando e treinando a rede\n",
    "O último passo é \"compilar\" a rede, segundo o linguajar da biblioteca. Na prática isso significa passar as configurações de como será o treinamento e a otimização. \n",
    "\n",
    "De acordo com a [documentação](https://keras.io/models/model/) da função `compile()`, podemos fornecer os parâmetros: \n",
    "* [Optimizer](https://faroit.github.io/keras-docs/0.2.0/optimizers/)\n",
    "* [Loss](https://keras.io/losses/)\n",
    "* [Metrics](https://keras.io/metrics/)\n",
    "* Loss_weights\n",
    "* Sample_weight_mode\n",
    "* Weighted_metrics\n",
    "* Target_tensors\n",
    "\n",
    "Só nos interessam os 3 primeiros. Nos links acima pode-se consultar o que tudo isso significa."
   ]
  },
  {
   "cell_type": "code",
   "execution_count": 10,
   "metadata": {},
   "outputs": [],
   "source": [
    "model.compile(optimizer='adam', loss='sparse_categorical_crossentropy', metrics=['accuracy'])"
   ]
  },
  {
   "cell_type": "markdown",
   "metadata": {},
   "source": [
    "O método `fit()` é o último passo para treinar. Nela, passamos as entradas da rede neural e seus respectivos rótulos. Baseando-se neste conjunto de entradas, os pesos serão calculados para minimizar o erro em relação às respostas em `y_treino`."
   ]
  },
  {
   "cell_type": "code",
   "execution_count": 11,
   "metadata": {},
   "outputs": [
    {
     "name": "stdout",
     "output_type": "stream",
     "text": [
      "Epoch 1/100\n",
      "60000/60000 [==============================] - 14s 232us/step - loss: 0.3169 - acc: 0.9106\n",
      "Epoch 2/100\n",
      "60000/60000 [==============================] - 12s 201us/step - loss: 0.1450 - acc: 0.9572\n",
      "Epoch 3/100\n",
      "60000/60000 [==============================] - 11s 185us/step - loss: 0.1001 - acc: 0.9702\n",
      "Epoch 4/100\n",
      "60000/60000 [==============================] - 12s 204us/step - loss: 0.0741 - acc: 0.9779\n",
      "Epoch 5/100\n",
      "60000/60000 [==============================] - 12s 203us/step - loss: 0.0568 - acc: 0.9832\n",
      "Epoch 6/100\n",
      "60000/60000 [==============================] - 12s 196us/step - loss: 0.0451 - acc: 0.9870\n",
      "Epoch 7/100\n",
      "60000/60000 [==============================] - 12s 192us/step - loss: 0.0360 - acc: 0.9897\n",
      "Epoch 8/100\n",
      "60000/60000 [==============================] - 12s 207us/step - loss: 0.0297 - acc: 0.9914\n",
      "Epoch 9/100\n",
      "60000/60000 [==============================] - 12s 206us/step - loss: 0.0235 - acc: 0.9931\n",
      "Epoch 10/100\n",
      "60000/60000 [==============================] - 12s 197us/step - loss: 0.0184 - acc: 0.9950\n",
      "Epoch 11/100\n",
      "60000/60000 [==============================] - 12s 193us/step - loss: 0.0150 - acc: 0.9961\n",
      "Epoch 12/100\n",
      "60000/60000 [==============================] - 13s 211us/step - loss: 0.0117 - acc: 0.9971\n",
      "Epoch 13/100\n",
      "60000/60000 [==============================] - 13s 209us/step - loss: 0.0097 - acc: 0.9976\n",
      "Epoch 14/100\n",
      "60000/60000 [==============================] - 12s 207us/step - loss: 0.0082 - acc: 0.9984\n",
      "Epoch 15/100\n",
      "60000/60000 [==============================] - 11s 190us/step - loss: 0.0064 - acc: 0.9986\n",
      "Epoch 16/100\n",
      "60000/60000 [==============================] - 13s 212us/step - loss: 0.0055 - acc: 0.9987\n",
      "Epoch 17/100\n",
      "60000/60000 [==============================] - 13s 213us/step - loss: 0.0053 - acc: 0.9987\n",
      "Epoch 18/100\n",
      "60000/60000 [==============================] - 13s 216us/step - loss: 0.0039 - acc: 0.9992\n",
      "Epoch 19/100\n",
      "60000/60000 [==============================] - 12s 204us/step - loss: 0.0045 - acc: 0.9989\n",
      "Epoch 20/100\n",
      "60000/60000 [==============================] - 12s 208us/step - loss: 0.0021 - acc: 0.9997\n",
      "Epoch 21/100\n",
      "60000/60000 [==============================] - 13s 215us/step - loss: 0.0036 - acc: 0.9991\n",
      "Epoch 22/100\n",
      "60000/60000 [==============================] - 13s 214us/step - loss: 0.0032 - acc: 0.9991\n",
      "Epoch 23/100\n",
      "60000/60000 [==============================] - 13s 220us/step - loss: 0.0021 - acc: 0.9997\n",
      "Epoch 24/100\n",
      "60000/60000 [==============================] - 12s 203us/step - loss: 0.0026 - acc: 0.9993\n",
      "Epoch 25/100\n",
      "60000/60000 [==============================] - 12s 207us/step - loss: 0.0020 - acc: 0.9996\n",
      "Epoch 26/100\n",
      "60000/60000 [==============================] - 13s 222us/step - loss: 0.0022 - acc: 0.9994\n",
      "Epoch 27/100\n",
      "60000/60000 [==============================] - 13s 224us/step - loss: 0.0026 - acc: 0.9993\n",
      "Epoch 28/100\n",
      "60000/60000 [==============================] - 14s 229us/step - loss: 0.0017 - acc: 0.9996\n",
      "Epoch 29/100\n",
      "60000/60000 [==============================] - 13s 214us/step - loss: 0.0021 - acc: 0.9994\n",
      "Epoch 30/100\n",
      "60000/60000 [==============================] - 12s 200us/step - loss: 8.2459e-04 - acc: 0.9999\n",
      "Epoch 31/100\n",
      "60000/60000 [==============================] - 14s 228us/step - loss: 0.0029 - acc: 0.9991\n",
      "Epoch 32/100\n",
      "60000/60000 [==============================] - 14s 228us/step - loss: 7.8435e-04 - acc: 0.9998\n",
      "Epoch 33/100\n",
      "60000/60000 [==============================] - 14s 227us/step - loss: 0.0031 - acc: 0.9990\n",
      "Epoch 34/100\n",
      "60000/60000 [==============================] - 14s 227us/step - loss: 8.0197e-04 - acc: 0.9998\n",
      "Epoch 35/100\n",
      "60000/60000 [==============================] - 13s 221us/step - loss: 8.4897e-04 - acc: 0.9998\n",
      "Epoch 36/100\n",
      "60000/60000 [==============================] - 12s 206us/step - loss: 0.0023 - acc: 0.9993\n",
      "Epoch 37/100\n",
      "60000/60000 [==============================] - 14s 226us/step - loss: 6.3641e-04 - acc: 0.9999\n",
      "Epoch 38/100\n",
      "60000/60000 [==============================] - 14s 226us/step - loss: 0.0023 - acc: 0.9993\n",
      "Epoch 39/100\n",
      "60000/60000 [==============================] - 13s 223us/step - loss: 1.5324e-04 - acc: 1.0000\n",
      "Epoch 40/100\n",
      "60000/60000 [==============================] - 14s 226us/step - loss: 6.4249e-05 - acc: 1.0000\n",
      "Epoch 41/100\n",
      "60000/60000 [==============================] - 12s 204us/step - loss: 0.0042 - acc: 0.9987\n",
      "Epoch 42/100\n",
      "60000/60000 [==============================] - 13s 224us/step - loss: 7.2448e-04 - acc: 0.9998\n",
      "Epoch 43/100\n",
      "60000/60000 [==============================] - 14s 227us/step - loss: 0.0012 - acc: 0.9997\n",
      "Epoch 44/100\n",
      "60000/60000 [==============================] - 14s 228us/step - loss: 0.0015 - acc: 0.9996\n",
      "Epoch 45/100\n",
      "60000/60000 [==============================] - 14s 232us/step - loss: 8.3041e-04 - acc: 0.9998\n",
      "Epoch 46/100\n",
      "60000/60000 [==============================] - 14s 231us/step - loss: 5.5569e-04 - acc: 0.9999\n",
      "Epoch 47/100\n",
      "60000/60000 [==============================] - 13s 224us/step - loss: 0.0025 - acc: 0.9992\n",
      "Epoch 48/100\n",
      "60000/60000 [==============================] - 13s 211us/step - loss: 0.0015 - acc: 0.9995\n",
      "Epoch 49/100\n",
      "60000/60000 [==============================] - 14s 225us/step - loss: 7.2077e-04 - acc: 0.9998\n",
      "Epoch 50/100\n",
      "60000/60000 [==============================] - 14s 239us/step - loss: 0.0021 - acc: 0.9992\n",
      "Epoch 51/100\n",
      "60000/60000 [==============================] - 14s 233us/step - loss: 3.4206e-04 - acc: 0.9999\n",
      "Epoch 52/100\n",
      "60000/60000 [==============================] - 14s 230us/step - loss: 0.0017 - acc: 0.9995\n",
      "Epoch 53/100\n",
      "60000/60000 [==============================] - 13s 219us/step - loss: 3.6454e-04 - acc: 0.9999\n",
      "Epoch 54/100\n",
      "60000/60000 [==============================] - 12s 199us/step - loss: 3.3723e-05 - acc: 1.0000\n",
      "Epoch 55/100\n",
      "60000/60000 [==============================] - 12s 205us/step - loss: 1.8379e-05 - acc: 1.0000\n",
      "Epoch 56/100\n",
      "60000/60000 [==============================] - 13s 213us/step - loss: 0.0024 - acc: 0.9992\n",
      "Epoch 57/100\n",
      "60000/60000 [==============================] - 13s 214us/step - loss: 0.0014 - acc: 0.9995\n",
      "Epoch 58/100\n",
      "60000/60000 [==============================] - 13s 216us/step - loss: 4.2902e-04 - acc: 0.9999\n",
      "Epoch 59/100\n",
      "60000/60000 [==============================] - 11s 191us/step - loss: 3.2655e-05 - acc: 1.0000\n",
      "Epoch 60/100\n",
      "60000/60000 [==============================] - 13s 217us/step - loss: 1.7221e-05 - acc: 1.0000\n",
      "Epoch 61/100\n",
      "60000/60000 [==============================] - 13s 217us/step - loss: 0.0025 - acc: 0.9993\n",
      "Epoch 62/100\n",
      "60000/60000 [==============================] - 13s 215us/step - loss: 4.6798e-04 - acc: 0.9998\n",
      "Epoch 63/100\n",
      "60000/60000 [==============================] - 13s 216us/step - loss: 0.0024 - acc: 0.9992\n",
      "Epoch 64/100\n",
      "60000/60000 [==============================] - 12s 194us/step - loss: 4.9232e-04 - acc: 0.9999\n",
      "Epoch 65/100\n",
      "60000/60000 [==============================] - 13s 217us/step - loss: 3.9770e-05 - acc: 1.0000\n",
      "Epoch 66/100\n",
      "60000/60000 [==============================] - 13s 216us/step - loss: 1.4750e-05 - acc: 1.0000\n",
      "Epoch 67/100\n",
      "60000/60000 [==============================] - 13s 217us/step - loss: 1.0301e-05 - acc: 1.0000\n",
      "Epoch 68/100\n",
      "60000/60000 [==============================] - 13s 214us/step - loss: 0.0024 - acc: 0.9993\n",
      "Epoch 69/100\n",
      "60000/60000 [==============================] - 12s 201us/step - loss: 4.9981e-04 - acc: 0.9999\n",
      "Epoch 70/100\n",
      "60000/60000 [==============================] - 13s 218us/step - loss: 1.3437e-04 - acc: 1.0000\n",
      "Epoch 71/100\n",
      "60000/60000 [==============================] - 13s 216us/step - loss: 9.8360e-04 - acc: 0.9997\n",
      "Epoch 72/100\n",
      "60000/60000 [==============================] - 13s 223us/step - loss: 0.0015 - acc: 0.9995\n",
      "Epoch 73/100\n",
      "60000/60000 [==============================] - 13s 220us/step - loss: 5.0566e-04 - acc: 0.9999\n",
      "Epoch 74/100\n",
      "60000/60000 [==============================] - 12s 199us/step - loss: 3.9171e-04 - acc: 0.9999\n",
      "Epoch 75/100\n",
      "60000/60000 [==============================] - 13s 220us/step - loss: 0.0021 - acc: 0.9992\n",
      "Epoch 76/100\n",
      "60000/60000 [==============================] - 13s 220us/step - loss: 0.0013 - acc: 0.9996\n",
      "Epoch 77/100\n",
      "60000/60000 [==============================] - 13s 220us/step - loss: 6.0169e-04 - acc: 0.9999\n",
      "Epoch 78/100\n",
      "60000/60000 [==============================] - 11s 178us/step - loss: 0.0018 - acc: 0.9995\n",
      "Epoch 79/100\n",
      "60000/60000 [==============================] - 11s 177us/step - loss: 0.0013 - acc: 0.9996\n",
      "Epoch 80/100\n",
      "60000/60000 [==============================] - 11s 187us/step - loss: 2.2828e-04 - acc: 0.9999\n",
      "Epoch 81/100\n",
      "60000/60000 [==============================] - 11s 180us/step - loss: 2.1945e-04 - acc: 0.9999\n",
      "Epoch 82/100\n",
      "60000/60000 [==============================] - 11s 175us/step - loss: 0.0022 - acc: 0.9994\n",
      "Epoch 83/100\n",
      "60000/60000 [==============================] - 11s 189us/step - loss: 6.4760e-04 - acc: 0.9998\n",
      "Epoch 84/100\n",
      "60000/60000 [==============================] - 11s 184us/step - loss: 3.2229e-04 - acc: 0.9999\n",
      "Epoch 85/100\n",
      "60000/60000 [==============================] - 10s 172us/step - loss: 0.0013 - acc: 0.9995\n",
      "Epoch 86/100\n",
      "60000/60000 [==============================] - 11s 186us/step - loss: 6.2009e-04 - acc: 0.9998\n",
      "Epoch 87/100\n",
      "60000/60000 [==============================] - 11s 188us/step - loss: 7.8159e-04 - acc: 0.9997\n",
      "Epoch 88/100\n",
      "60000/60000 [==============================] - 10s 166us/step - loss: 8.7348e-05 - acc: 1.0000\n",
      "Epoch 89/100\n",
      "60000/60000 [==============================] - 11s 188us/step - loss: 0.0016 - acc: 0.9995\n",
      "Epoch 90/100\n",
      "60000/60000 [==============================] - 11s 188us/step - loss: 5.7353e-04 - acc: 0.9998\n",
      "Epoch 91/100\n",
      "60000/60000 [==============================] - 10s 168us/step - loss: 0.0019 - acc: 0.9996\n",
      "Epoch 92/100\n",
      "60000/60000 [==============================] - 11s 186us/step - loss: 7.7459e-04 - acc: 0.9997\n",
      "Epoch 93/100\n",
      "60000/60000 [==============================] - 11s 191us/step - loss: 2.7575e-05 - acc: 1.0000\n",
      "Epoch 94/100\n",
      "60000/60000 [==============================] - 10s 166us/step - loss: 7.7452e-06 - acc: 1.0000\n",
      "Epoch 95/100\n",
      "60000/60000 [==============================] - 11s 191us/step - loss: 4.8960e-06 - acc: 1.0000\n",
      "Epoch 96/100\n",
      "60000/60000 [==============================] - 11s 189us/step - loss: 3.4964e-06 - acc: 1.0000\n",
      "Epoch 97/100\n",
      "60000/60000 [==============================] - 10s 173us/step - loss: 2.6032e-06 - acc: 1.0000\n",
      "Epoch 98/100\n",
      "60000/60000 [==============================] - 11s 187us/step - loss: 0.0026 - acc: 0.9992\n",
      "Epoch 99/100\n",
      "60000/60000 [==============================] - 11s 190us/step - loss: 6.9558e-04 - acc: 0.9998\n",
      "Epoch 100/100\n",
      "60000/60000 [==============================] - 11s 178us/step - loss: 2.2378e-04 - acc: 0.9999\n"
     ]
    },
    {
     "data": {
      "text/plain": [
       "<tensorflow.python.keras.callbacks.History at 0x7f82a1250978>"
      ]
     },
     "execution_count": 11,
     "metadata": {},
     "output_type": "execute_result"
    }
   ],
   "source": [
    "model.fit(x_treino, y_treino, epochs=100)"
   ]
  },
  {
   "cell_type": "markdown",
   "metadata": {},
   "source": [
    "## Avaliando desempenho\n",
    "\n",
    "Usaremos as 10.000 amostras destinadas a validação guardadas em `x_teste`. Para sabermos se a rede aprendeu mesmo ou se memorizou o treinamento. é importante não usar amostrar usadas no treinamento.\n",
    "\n",
    "Faremos isso usando a função `evaluate()` da classe `Model`. Ela retorna dois escalares: um que representa a perda; o outro, precisão."
   ]
  },
  {
   "cell_type": "code",
   "execution_count": 12,
   "metadata": {},
   "outputs": [
    {
     "name": "stdout",
     "output_type": "stream",
     "text": [
      "10000/10000 [==============================] - 1s 97us/step\n",
      "Perda: 20.36%\n",
      "Precisão: 97.40% dos testes foram rotulados corretamente.\n"
     ]
    }
   ],
   "source": [
    "val_perd, val_prec = model.evaluate(x_teste, y_teste)\n",
    "print('Perda: {:2.2f}%'.format(val_perd*100))\n",
    "print('Precisão: {:2.2f}%'.format(val_prec*100)+' dos testes foram rotulados corretamente.')"
   ]
  },
  {
   "cell_type": "markdown",
   "metadata": {},
   "source": [
    "## Matriz de confusão\n",
    "Precisaremos da função `predict()` para construir a matriz de confusão. Ela recebe um dado, imagem no caso, e retorna o rótulo calculado pela rede neural. Usaremos a versão que opera sob um array inteiro e retorna o array de resposta.\n",
    "\n",
    "A matriz $C$ resultante é uma 10x10. Na qual o elemento $c_{ij}$ corresponde a quantidade de vezes que o número i foi classificado como j. O elemento $c_{12}$ guarda quantas vezes o dígito 1 foi classificado como 2. Por isso, o ideal seria uma matriz com valores nulos em todas as posições fora da diagonal principal."
   ]
  },
  {
   "cell_type": "code",
   "execution_count": 13,
   "metadata": {},
   "outputs": [],
   "source": [
    "rotulos = model.predict_classes(x_teste)\n",
    "confusao = np.zeros((10,10))  # Inicializa matriz de zeros\n",
    "\n",
    "for i in range(len(rotulos)):  # Realiza contagem\n",
    "    confusao[rotulos[i]][y_teste[i]] += 1\n",
    "\n"
   ]
  },
  {
   "cell_type": "markdown",
   "metadata": {},
   "source": [
    "O código abaixo é necessário para exibir a matriz com o mapeamento de cor e os valores em cada elemento."
   ]
  },
  {
   "cell_type": "code",
   "execution_count": 16,
   "metadata": {},
   "outputs": [
    {
     "data": {
      "image/png": "[encoded data removed]",
      "text/plain": [
       "<Figure size 432x288 with 1 Axes>"
      ]
     },
     "metadata": {},
     "output_type": "display_data"
    }
   ],
   "source": [
    "fig, ax = plt.subplots()\n",
    "ax.matshow(confusao, cmap=plt.cm.Blues)\n",
    "\n",
    "for i in range(10):\n",
    "    for j in range(10):\n",
    "        c = confusao[j,i]\n",
    "        ax.text(i, j, str(int(c)), va='center', ha='center')\n"
   ]
  },
  {
   "cell_type": "code",
   "execution_count": null,
   "metadata": {},
   "outputs": [],
   "source": []
  }
 ],
 "metadata": {
  "kernelspec": {
   "display_name": "Python 3",
   "language": "python",
   "name": "python3"
  },
  "language_info": {
   "codemirror_mode": {
    "name": "ipython",
    "version": 3
   },
   "file_extension": ".py",
   "mimetype": "text/x-python",
   "name": "python",
   "nbconvert_exporter": "python",
   "pygments_lexer": "ipython3",
   "version": "3.6.6"
  }
 },
 "nbformat": 4,
 "nbformat_minor": 2
}
