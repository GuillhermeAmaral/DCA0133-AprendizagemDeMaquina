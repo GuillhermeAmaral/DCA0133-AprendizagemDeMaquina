{
 "cells": [
  {
   "cell_type": "markdown",
   "metadata": {},
   "source": [
    "# Esboço de uma Rede Neural (DESCONTINUADO)"
   ]
  },
  {
   "cell_type": "code",
   "execution_count": 10,
   "metadata": {},
   "outputs": [],
   "source": [
    "import numpy as np\n",
    "from math import e\n",
    "\n",
    "def sigmoide(x):\n",
    "    '''Função Sigmóide'''\n",
    "    return 1.0/(1.0+e**(-x))  # retorna velores de 0 a 1\n",
    "\n",
    "def sigmoide_deriv(x):\n",
    "    '''Derivada da sigmóide'''\n",
    "    a = sigmoide(x)\n",
    "    return a*(1-a)  # também retorna valores de 0 a 1"
   ]
  },
  {
   "cell_type": "markdown",
   "metadata": {},
   "source": [
    "## Definindo a classe neurônio\n",
    "Cada neurônio carrega um **valor**, um **viés** e os **pesos** usandos para calcular seu valor."
   ]
  },
  {
   "cell_type": "code",
   "execution_count": 11,
   "metadata": {},
   "outputs": [],
   "source": [
    "class Neuronio(object):\n",
    "    def __init__(self, valor=0, vies=0, pesos=[]):\n",
    "        self.vies = sigmoide(vies)  # Atributos públicos,\n",
    "        self.valor = sigmoide(valor)  # aqui não é Java\n",
    "        self.pesos = sigmoide(np.array(pesos)) # Lista com os pesos dos neurônios anteriores\n",
    "        self.erro = 0  # TODO\n",
    "    def atualiza(self, entrada):\n",
    "        '''Recebe um np.array com os valores da camada anterior. A ordem dessa \n",
    "        lista importa. O elemento i em 'pesos' está relacionado ao i-ésimo \n",
    "        valor na 'entrada'.\n",
    "        :param entrada: valores dos neurônios na camada anterior\n",
    "        :param pesos: pesos dos neurônios na camada anterior\n",
    "        '''\n",
    "        self.valor = sigmoide(np.dot(self.pesos, entrada) + self.vies)\n",
    "    \n",
    "    def __str__(self):\n",
    "        return 'valor:'+str(self.valor) + ' vies: '+str(self.vies)+' pesos: '+str(self.pesos)\n"
   ]
  },
  {
   "cell_type": "markdown",
   "metadata": {},
   "source": [
    "### Testando neurônio\n",
    "Criamos `n1 = Neuronio(valorAleatorio, valorAleatorio, vetorAleatorio1x3)`. \n",
    "\n",
    "Imprimimos seus valores das duas formas: por acesso direto à variável e usando a função `__str__(self)` feita por nós, que é o modo correto. Note que todo número e normalizado pelo `sigmoide(x)`.\n",
    "\n",
    "Simulamos uma operação de atualização de valor passando valores aleatórios que supostamente são as entradas da rede neural ou os valores da camada anterior.\n",
    "\n",
    "O valor de cada neurônio é calculado usando a função `np.dot(a,b)` que realiza o produto interno $a\\dot b$"
   ]
  },
  {
   "cell_type": "code",
   "execution_count": 12,
   "metadata": {},
   "outputs": [
    {
     "name": "stdout",
     "output_type": "stream",
     "text": [
      "TESTE NEURÔNIO:\n",
      "valor de n1: [0.37141785] vies de n1: [0.27401103]\n",
      "valor atualizado:\n",
      "valor:[0.87088538] vies: [0.27401103] pesos: [0.77963983 0.896813   0.64946262]\n"
     ]
    }
   ],
   "source": [
    "print('TESTE NEURÔNIO:')\n",
    "n1 = Neuronio(valor=np.random.randn(1), vies=np.random.randn(1), pesos=np.random.randn(3))\n",
    "print('valor de n1: '+str(n1.valor)+' vies de n1: '+str(n1.vies))\n",
    "n1.atualiza(entrada=np.random.randn(3))\n",
    "print('valor atualizado:' )\n",
    "print(n1)\n"
   ]
  },
  {
   "cell_type": "markdown",
   "metadata": {},
   "source": [
    "## Definindo classe que modela uma rede neural\n",
    "Introdução:\n",
    "\n",
    "A função `randn(M, N)` gera uma matriz MxN de números aleatórios a partir da distribuição normal."
   ]
  },
  {
   "cell_type": "code",
   "execution_count": 13,
   "metadata": {},
   "outputs": [],
   "source": [
    "\n",
    "class RedeNeural(object):\n",
    "    def __init__(self, neuro_por_camada):\n",
    "        ''' Construtor da rede\n",
    "        :param neuronios: lista com quantidade de neurônios em cada camada, \n",
    "         nenhum elemento deve ser nulo\n",
    "        '''\n",
    "        self.neuro_por_camada = neuro_por_camada  # esta variável é igual a lista recebida\n",
    "        self.camadas_de_neuro = []  # esta será uma lista na qual cada elemento é uma\n",
    "                                   # lista de neurônios. ex.: para uma rede [2,3,1], temos [[[n1,n2,n3], [n4]]\n",
    "                                   # com duas entradas\n",
    "        for j in range(len(neuro_por_camada[1:])):  # qtd_neuro é um valor\n",
    "            lista_neuro = [] # variável temporária\n",
    "            for i in range(neuro_por_camada[j+1]):\n",
    "                lista_neuro.append(Neuronio(np.random.randn(1), np.random.randn(1), np.random.randn(neuro_por_camada[j])))\n",
    "            self.camadas_de_neuro.append(lista_neuro) # insere no fim de 'camadas_de_neuro' uma lista de neurônios\n",
    "        \n",
    "    def __str__(self):\n",
    "        saida = '> camada 0:\\nentrada de '+str(self.neuro_por_camada[0])+' valores\\n'\n",
    "        for camada in range(len(self.neuro_por_camada[1:])):  # camada é um número\n",
    "            saida += '\\n> camada '+str(camada+1)+':\\n'\n",
    "            tmp = ''\n",
    "            for neuronio in self.camadas_de_neuro[camada]: # para cada neurônio na camada\n",
    "                tmp += neuronio.__str__()+'\\n'\n",
    "            saida += tmp\n",
    "        return saida\n",
    "    \n",
    "    def pensa(self, entrada):\n",
    "        for camada in self.camadas_de_neuro[:-1]:\n",
    "            for neuronio in camada:\n",
    "                neuronio.atualiza(entrada)\n",
    "        pass"
   ]
  },
  {
   "cell_type": "markdown",
   "metadata": {},
   "source": [
    "### Testando nede neural\n",
    "Essa vou nem explicar agora.\n",
    "\n",
    "No Spyder a função `__str__(self)` funciona."
   ]
  },
  {
   "cell_type": "code",
   "execution_count": 15,
   "metadata": {},
   "outputs": [
    {
     "name": "stdout",
     "output_type": "stream",
     "text": [
      "\n",
      "TESTE REDE NEURAL\n",
      "rede1:\n",
      "> camada 0:\n",
      "entrada de 3 valores\n",
      "\n",
      "> camada 1:\n",
      "valor:[0.35825287] vies: [0.81903642] pesos: [0.46575276 0.26616906 0.45108898]\n",
      "valor:[0.52322783] vies: [0.68563776] pesos: [0.18268214 0.17927203 0.58370197]\n",
      "valor:[0.38443084] vies: [0.46120884] pesos: [0.67409899 0.55667625 0.26234378]\n",
      "valor:[0.79793493] vies: [0.30138938] pesos: [0.27171819 0.67539149 0.5978777 ]\n",
      "\n",
      "> camada 2:\n",
      "valor:[0.68141542] vies: [0.5103017] pesos: [0.32249857 0.38969977 0.41718775 0.40785457]\n",
      "valor:[0.67727193] vies: [0.41909135] pesos: [0.19351745 0.35510559 0.27421855 0.47163467]\n",
      "valor:[0.2992515] vies: [0.47199189] pesos: [0.64960881 0.60091591 0.19084196 0.46174507]\n",
      "\n",
      "> camada 3:\n",
      "valor:[0.41703612] vies: [0.65440295] pesos: [0.70380718 0.31462968 0.42336051]\n",
      "\n",
      "rede2:\n",
      "> camada 0:\n",
      "entrada de 2 valores\n",
      "\n",
      "> camada 1:\n",
      "valor:[0.56912609] vies: [0.17959627] pesos: [0.64263259 0.66940263]\n",
      "valor:[0.39777288] vies: [0.77364437] pesos: [0.78134693 0.46200034]\n",
      "valor:[0.20536759] vies: [0.58979923] pesos: [0.72357389 0.0980068 ]\n",
      "\n",
      "> camada 2:\n",
      "valor:[0.84688067] vies: [0.09673408] pesos: [0.73483804 0.64242482 0.66055563]\n",
      "\n"
     ]
    }
   ],
   "source": [
    "print('\\nTESTE REDE NEURAL')\n",
    "r1 = RedeNeural(np.array([3,4,3,1]))\n",
    "print('rede1:')\n",
    "print(r1)\n",
    "r2 = RedeNeural(np.array([2,3,1]))\n",
    "print('rede2:')\n",
    "print(r2)"
   ]
  },
  {
   "cell_type": "code",
   "execution_count": null,
   "metadata": {},
   "outputs": [],
   "source": []
  }
 ],
 "metadata": {
  "kernelspec": {
   "display_name": "Python 3",
   "language": "python",
   "name": "python3"
  },
  "language_info": {
   "codemirror_mode": {
    "name": "ipython",
    "version": 3
   },
   "file_extension": ".py",
   "mimetype": "text/x-python",
   "name": "python",
   "nbconvert_exporter": "python",
   "pygments_lexer": "ipython3",
   "version": "3.6.6"
  }
 },
 "nbformat": 4,
 "nbformat_minor": 2
}
