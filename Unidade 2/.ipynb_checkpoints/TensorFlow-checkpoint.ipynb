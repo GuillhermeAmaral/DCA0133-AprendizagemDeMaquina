{
 "cells": [
  {
   "cell_type": "markdown",
   "metadata": {},
   "source": [
    "# Primeiro programa usando TensorFlow\n",
    "[Aqui](https://pythonprogramming.net/introduction-deep-learning-python-tensorflow-keras/) você encontrará o mesmo projeto e seu autor original.\n",
    "\n",
    "Esta rede neural identificará dígitos escritos cursivamente. Os dados de treinamento provêm do banco de dados [MNIST](http://yann.lecun.com/exdb/mnist/), que abriga 70.000 exemplos de imagens classfificados corretamente. Apesar de podermos fazer o download no link anterior, há um forma mais fácil de trabalharmos com ele. Devido a fama do MNIST, a biblioteca Keras traz uma função que baixa os dados."
   ]
  },
  {
   "cell_type": "code",
   "execution_count": 1,
   "metadata": {},
   "outputs": [
    {
     "name": "stdout",
     "output_type": "stream",
     "text": [
      "Versão do TensorFlow: 1.10.0\n"
     ]
    }
   ],
   "source": [
    "import numpy as np\n",
    "import matplotlib.pyplot as plt\n",
    "import tensorflow as tf\n",
    "print('Versão do TensorFlow: '+tf.__version__)"
   ]
  },
  {
   "cell_type": "markdown",
   "metadata": {},
   "source": [
    "## Baixando os dados\n",
    "A função `load_data()` faz download das imagens e seus rótulos. Depois retorna duas tuplas contendo duas listas cada uma. Os nomes das variáveis são auto-explicativos."
   ]
  },
  {
   "cell_type": "code",
   "execution_count": 2,
   "metadata": {},
   "outputs": [
    {
     "name": "stdout",
     "output_type": "stream",
     "text": [
      "Tamanho da lista de treinamento: 60000\n",
      "Tamanho da lista de validação: 10000\n"
     ]
    },
    {
     "data": {
      "image/png": "[encoded data removed]",
      "text/plain": [
       "<Figure size 432x288 with 1 Axes>"
      ]
     },
     "metadata": {},
     "output_type": "display_data"
    }
   ],
   "source": [
    "mnist = tf.keras.datasets.mnist\n",
    "(x_treino, y_treino), (x_teste, y_teste) = mnist.load_data()\n",
    "print('Tamanho da lista de treinamento: '+str(len(x_treino)))\n",
    "print('Tamanho da lista de validação: '+str(len(x_teste)))\n",
    "plt.imshow(x_treino[0])\n",
    "plt.show()"
   ]
  },
  {
   "cell_type": "markdown",
   "metadata": {},
   "source": [
    "OBS.: Todas as imagens aqui têm dimensões 28x28.\n",
    "\n",
    "A lista `y_treino` armazena o rótulo de cada dado em `x_treino`. O mesmo ocorre nas listas de teste."
   ]
  },
  {
   "cell_type": "code",
   "execution_count": 3,
   "metadata": {},
   "outputs": [
    {
     "name": "stdout",
     "output_type": "stream",
     "text": [
      "Rótulo da imagem acima (x_treino[0]): 5\n"
     ]
    }
   ],
   "source": [
    "print('Rótulo da imagem acima (x_treino[0]): '+str(y_treino[0]))"
   ]
  },
  {
   "cell_type": "markdown",
   "metadata": {},
   "source": [
    "## Pré-processamento\n",
    "Em nosso conjunto de dados, todas imagens monocromáticas usam valores no intervalo $[0, 255] \\in Z$ para representar as 256 tons de uma cor. Vamos normalizar esses valores para $[0,1] \\in R$."
   ]
  },
  {
   "cell_type": "code",
   "execution_count": 4,
   "metadata": {},
   "outputs": [],
   "source": [
    "x_treino = tf.keras.utils.normalize(x_treino, axis=1)\n",
    "x_teste = tf.keras.utils.normalize(x_teste, axis=1)"
   ]
  },
  {
   "cell_type": "markdown",
   "metadata": {},
   "source": [
    "Para demonstrar que a imagem permanece igual, vamos imprimi-la. Com a adição de um novo argumento no `imshow()`, veremos ela em escala de cinza."
   ]
  },
  {
   "cell_type": "code",
   "execution_count": 5,
   "metadata": {},
   "outputs": [
    {
     "data": {
      "image/png": "[encoded data removed]",
      "text/plain": [
       "<Figure size 432x288 with 1 Axes>"
      ]
     },
     "metadata": {},
     "output_type": "display_data"
    }
   ],
   "source": [
    "plt.imshow(x_treino[0], cmap=plt.cm.binary)\n",
    "plt.show()"
   ]
  },
  {
   "cell_type": "markdown",
   "metadata": {},
   "source": [
    "## Costruindo o modelo da rede neural\n",
    "Na biblioteca Keras, as redes são objetos chamados de **modelos**. O modelo que queremos construir é chamada de [Multilayer Perceptron](https://juliocprocha.files.wordpress.com/2017/11/imagem_1.jpg) nos artigos, mas no código é denominada `Sequential()`. Por isso temos:"
   ]
  },
  {
   "cell_type": "code",
   "execution_count": 6,
   "metadata": {},
   "outputs": [],
   "source": [
    "model = tf.keras.models.Sequential()"
   ]
  },
  {
   "cell_type": "markdown",
   "metadata": {},
   "source": [
    "Vamos criar uma camada com a função `add()`. Visto que esta é a primeira, o Keras já sabe que ela é a entrada da rede e não são neurônios. Por isso, não há necessidade de especificar nada sobre quantidade, função ativadora, etc.\n",
    "\n",
    "O que faremos por agora é \"alertar\" ao modelo que a entrada deve ser transformada numa lista unidimencional. A matriz 28x28 será redimensionada para um vetor 1x784."
   ]
  },
  {
   "cell_type": "code",
   "execution_count": 7,
   "metadata": {},
   "outputs": [],
   "source": [
    "model.add(tf.keras.layers.Flatten())"
   ]
  },
  {
   "cell_type": "markdown",
   "metadata": {},
   "source": [
    "Criando outra camada com 128 neurônios com função de ativação `ReLU()`. \n",
    "$$\n",
    "ReLU(x) = max(0, x)\n",
    "$$"
   ]
  },
  {
   "cell_type": "code",
   "execution_count": 8,
   "metadata": {},
   "outputs": [],
   "source": [
    "model.add(tf.keras.layers.Dense(128, activation=tf.nn.relu))"
   ]
  },
  {
   "cell_type": "markdown",
   "metadata": {},
   "source": [
    "Última camada terá invariavelmente 10 neurônios, cada um representando um dos 10 algarismos arábicos.\n",
    "\n",
    "A próxima função de ativação é bem comum na última camada de redes neurais."
   ]
  },
  {
   "cell_type": "code",
   "execution_count": 9,
   "metadata": {},
   "outputs": [],
   "source": [
    "model.add(tf.keras.layers.Dense(10, activation=tf.nn.softmax))"
   ]
  },
  {
   "cell_type": "markdown",
   "metadata": {},
   "source": [
    "Usar a **Softmax** como função de ativação faz com que os valores resultantes em cada neurônio seja na verdade a probabilidade da entrada pertencer a classe que ele representa. A softmax transforma as saídas de cada classe para valores entre 0 e 1 e também divide pela soma das saídas.\n",
    "\n",
    "$$\n",
    "\\sigma(z)_j = \\dfrac{e^{z_ j}}{\\sum_{k=1}^{K}e^{z_ k}}\n",
    "$$\n",
    "$z$ é o valor no neurônio antes da ativação\n",
    "\n",
    "$j$ é o índice do neurônio de saída\n",
    "\n",
    "$k$ é o índice de todos os neurônios em um nível\n",
    "\n",
    "Construção completa."
   ]
  },
  {
   "cell_type": "markdown",
   "metadata": {},
   "source": [
    "## Compilando e treinando a rede\n",
    "O último passo é \"compilar\" a rede, segundo o linguajar da biblioteca. Na prática isso significa passar as configurações de como será o treinamento e a otimização. \n",
    "\n",
    "De acordo com a [documentação](https://keras.io/models/model/) da função `compile()`, podemos fornecer os parâmetros: \n",
    "* [Optimizer](https://faroit.github.io/keras-docs/0.2.0/optimizers/)\n",
    "* [Loss](https://keras.io/losses/)\n",
    "* [Metrics](https://keras.io/metrics/)\n",
    "* Loss_weights\n",
    "* Sample_weight_mode\n",
    "* Weighted_metrics\n",
    "* Target_tensors\n",
    "\n",
    "Só nos interessam os 3 primeiros. Nos links acima pode-se consultar o que tudo isso significa."
   ]
  },
  {
   "cell_type": "code",
   "execution_count": 10,
   "metadata": {},
   "outputs": [],
   "source": [
    "model.compile(optimizer='adam', loss='sparse_categorical_crossentropy', metrics=['accuracy'])"
   ]
  },
  {
   "cell_type": "markdown",
   "metadata": {},
   "source": [
    "O método `fit()` é o último passo para treinar. Nela, passamos as entradas da rede neural e seus respectivos rótulos. Baseando-se neste conjunto de entradas, os pesos serão calculados para minimizar o erro em relação às respostas em `y_treino`."
   ]
  },
  {
   "cell_type": "code",
   "execution_count": 11,
   "metadata": {},
   "outputs": [
    {
     "name": "stdout",
     "output_type": "stream",
     "text": [
      "Epoch 1/3\n",
      "60000/60000 [==============================] - 11s 189us/step - loss: 0.3207 - acc: 0.9112\n",
      "Epoch 2/3\n",
      "60000/60000 [==============================] - 11s 181us/step - loss: 0.1452 - acc: 0.9575\n",
      "Epoch 3/3\n",
      "60000/60000 [==============================] - 11s 187us/step - loss: 0.0984 - acc: 0.9704\n"
     ]
    },
    {
     "data": {
      "text/plain": [
       "<tensorflow.python.keras.callbacks.History at 0x7f42f05aedd8>"
      ]
     },
     "execution_count": 11,
     "metadata": {},
     "output_type": "execute_result"
    }
   ],
   "source": [
    "model.fit(x_treino, y_treino, epochs=3)"
   ]
  },
  {
   "cell_type": "markdown",
   "metadata": {},
   "source": [
    "## Avaliando desempenho\n",
    "\n",
    "Usaremos as 10.000 amostras destinadas a validação guardadas em `x_teste`. Para sabermos se a rede aprendeu mesmo ou se memorizou o treinamento. é importante não usar amostrar usadas no treinamento.\n",
    "\n",
    "Faremos isso usando a função `evaluate()` da classe `Model`. Ela retorna dois escalares: um que representa a perda; o outro, precisão."
   ]
  },
  {
   "cell_type": "code",
   "execution_count": 12,
   "metadata": {},
   "outputs": [
    {
     "name": "stdout",
     "output_type": "stream",
     "text": [
      "10000/10000 [==============================] - 1s 81us/step\n",
      "Perda: 9.61%\n",
      "Precisão: 97.11% dos testes foram rotulados corretamente.\n"
     ]
    }
   ],
   "source": [
    "val_perd, val_prec = model.evaluate(x_teste, y_teste)\n",
    "print('Perda: {:2.2f}%'.format(val_perd*100))\n",
    "print('Precisão: {:2.2f}%'.format(val_prec*100)+' dos testes foram rotulados corretamente.')"
   ]
  },
  {
   "cell_type": "markdown",
   "metadata": {},
   "source": [
    "## Matriz de confusão\n",
    "Precisaremos da função `predict()` para construir a matriz de confusão. Ela recebe um dado, imagem no caso, e retorna o rótulo calculado pela rede neural. Usaremos a versão que opera sob um array inteiro e retorna o array de resposta.\n",
    "\n",
    "A matriz $C$ resultante é uma 10x10. Na qual o elemento $c_{ij}$ corresponde a quantidade de vezes que o número i foi classificado como j. O elemento $c_{12}$ guarda quantas vezes o dígito 1 foi classificado como 2. Por isso, o ideal seria uma matriz com valores nulos em todas as posições fora da diagonal principal."
   ]
  },
  {
   "cell_type": "code",
   "execution_count": 17,
   "metadata": {},
   "outputs": [
    {
     "data": {
      "image/png": "[encoded data removed]",
      "text/plain": [
       "<Figure size 432x288 with 1 Axes>"
      ]
     },
     "metadata": {},
     "output_type": "display_data"
    }
   ],
   "source": [
    "rotulos = model.predict_classes(x_teste)\n",
    "confusao = np.zeros((10,10))  # Inicializa matriz de zeros\n",
    "\n",
    "for i in range(len(rotulos)):  # Realiza contagem\n",
    "    confusao[rotulos[i]][y_teste[i]] += 1\n",
    "\n"
   ]
  },
  {
   "cell_type": "markdown",
   "metadata": {},
   "source": [
    "O código abaixo é necessário para exibir a matriz com o mapeamento de cor e os valores em cada elemento."
   ]
  },
  {
   "cell_type": "code",
   "execution_count": null,
   "metadata": {},
   "outputs": [],
   "source": [
    "fig, ax = plt.subplots()\n",
    "ax.matshow(confusao, cmap=plt.cm.Blues)\n",
    "\n",
    "for i in range(10):\n",
    "    for j in range(10):\n",
    "        c = confusao[j,i]\n",
    "        ax.text(i, j, str(int(c)), va='center', ha='center')\n"
   ]
  }
 ],
 "metadata": {
  "kernelspec": {
   "display_name": "Python 3",
   "language": "python",
   "name": "python3"
  },
  "language_info": {
   "codemirror_mode": {
    "name": "ipython",
    "version": 3
   },
   "file_extension": ".py",
   "mimetype": "text/x-python",
   "name": "python",
   "nbconvert_exporter": "python",
   "pygments_lexer": "ipython3",
   "version": "3.6.6"
  }
 },
 "nbformat": 4,
 "nbformat_minor": 2
}
