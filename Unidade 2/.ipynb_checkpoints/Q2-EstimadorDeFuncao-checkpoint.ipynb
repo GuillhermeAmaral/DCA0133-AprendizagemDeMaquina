{
 "cells": [
  {
   "cell_type": "markdown",
   "metadata": {},
   "source": [
    "# Questão 2\n",
    "Utilize redes neurais perceptrons de múltiplas camadas para aproximar as funções baixo. Para o caso dos itens 2 e 3, apresente a curva da função analítica e a curva da função aproximada pela rede neural. Apresente também a curva do erro médio de treinamento com relação ao número de épocas e a curva do erro médio com o conjunto de validação. Procure definir para cada função a arquitetura da rede neural perceptron, isto é, o número de entradas, o número de neurônios em cada camada e o número de neurônios na camada de saída.\n",
    "1. $f(x_{1}, x_{2}, x_{3}) = x_{1}\\oplus x_{2}\\oplus x_{3} \\;\\; x_{1}, x_{2} \\text{ e } x_{3} \\in \\left\\{0, 1\\right\\}$\n",
    "\n",
    "\n",
    "2. $f(x) = \\dfrac{\\cos 2\\pi x}{1-(4x)^{2}} \\dfrac{\\sin(\\pi x)}{\\pi x} \\;\\;,0\\leq x \\leq 4\\pi$\n",
    "\n",
    "\n",
    "3. $f(x_{1}, x_{2}) = x_{1}^{2} + x_{2}^{2} + 2x_{1}x_{2}\\cos (\\pi x_{1}x_{2}) + x_{1}+x_{2}-1 \\;\\;,|x_{1}|\\leq 1 \\text{ e } |x_{2}|\\leq 1$\n",
    "\n",
    "Logo abaixo estão as bibliotecas que usaremos."
   ]
  },
  {
   "cell_type": "code",
   "execution_count": null,
   "metadata": {},
   "outputs": [],
   "source": [
    "import numpy as np\n",
    "import tensorflow as tf\n",
    "import matplotlib.pyplot as plt"
   ]
  },
  {
   "cell_type": "markdown",
   "metadata": {},
   "source": [
    "## Solução da função 1\n",
    "Vamos gerar nossos dados de treinamento e dados de validação manualmente. A função é bem simples e só admite 8 combinações de 0's e 1's.\n",
    "Separaremos da seguinte forma, escolhida aleatoriamente:\n",
    "\n",
    "<table>\n",
    "  <tl>\n",
    "      <td>Entradas</td>\n",
    "      <td>Função</td>\n",
    "  </tl>\n",
    "  <tr>\n",
    "    <td>000</td>\n",
    "    <td>Treino</td>\n",
    "  </tr>\n",
    "  <tr>\n",
    "    <td>001</td>\n",
    "    <td>Treino</td>\n",
    "  </tr>\n",
    "  <tr>\n",
    "    <td>010</td>\n",
    "    <td>Validação</td>\n",
    "  </tr>\n",
    "  <tr>\n",
    "    <td>011</td>\n",
    "    <td>Treino</td>\n",
    "  </tr>\n",
    "  <tr>\n",
    "    <td>100</td>\n",
    "    <td>Treino</td>\n",
    "  </tr>\n",
    "  <tr>\n",
    "    <td>101</td>\n",
    "    <td>Treino</td>\n",
    "  </tr>\n",
    "  <tr>\n",
    "    <td>110</td>\n",
    "    <td>Validação</td>\n",
    "  </tr>\n",
    "  <tr>\n",
    "    <td>111</td>\n",
    "    <td>Treino</td>\n",
    "  </tr>\n",
    "</table>\n",
    "\n",
    "### Construção dos vetores de treino e validação.\n",
    "`x_treino` e `y_treino` serão os dados usados para treinar a rede. Já `x_teste` e `y_teste` serão usados para valida-la."
   ]
  },
  {
   "cell_type": "code",
   "execution_count": 7,
   "metadata": {},
   "outputs": [
    {
     "name": "stdout",
     "output_type": "stream",
     "text": [
      "Tabela verdade XOR:\n",
      "[x3,x2,x1] S\n",
      "[0, 0, 0]  0\n",
      "[0, 0, 1]  1\n",
      "[0, 1, 0]  1\n",
      "[0, 1, 1]  0\n",
      "[1, 0, 0]  1\n",
      "[1, 0, 1]  0\n",
      "[1, 1, 0]  0\n",
      "[1, 1, 1]  1\n"
     ]
    }
   ],
   "source": [
    "x = []\n",
    "y = []\n",
    "\n",
    "for i in range(2):\n",
    "    for j in range(2):\n",
    "        for k in range(2):\n",
    "            x.append([i,j,k])\n",
    "            y.append(i^j^k)\n",
    "\n",
    "x_teste = []\n",
    "x_teste.append(x[2])\n",
    "x_teste.append(x[6])\n",
    "y_teste = []\n",
    "y_teste.append(y[2])\n",
    "y_teste.append(y[6])\n",
    "\n",
    "x_treino = [amostra for amostra in x if amostra not in x_teste]  # x_treino recebe todos os elementos de x que não estão em x_teste\n",
    "y_treino = [y[i] for i in range(len(y)) if i != 2 and i != 6]  # y_treino recebe todos elementos de y menos o que estão nas posições 2 e 6\n",
    "\n",
    "print('Tabela verdade XOR:\\n[x3,x2,x1] S')\n",
    "for i,j in zip(x,y):\n",
    "    print(str(i)+'  '+str(j))\n",
    " "
   ]
  },
  {
   "cell_type": "markdown",
   "metadata": {},
   "source": [
    "## Solução da função 2"
   ]
  },
  {
   "cell_type": "code",
   "execution_count": null,
   "metadata": {},
   "outputs": [],
   "source": [
    "import numpy as np\n",
    "import keras.layers as kl\n",
    "import keras.models as km\n",
    "##from tensorflow import nn  # só pra usar a ReLU e softmax\n",
    "import matplotlib.pyplot as plt\n",
    "\n",
    "def objetivo(x):\n",
    "    return np.cos(2*np.pi*x)*np.sinc(x)/(1-(4*x)**2)\n",
    "\n",
    "x_treino = np.linspace(0, 4*np.pi, 200)\n",
    "y_treino = objetivo(x_treino)\n",
    "plt.plot(x_treino, y_treino)\n",
    "plt.show()\n",
    "\n",
    "interv = x_treino[1] - x_treino[0]\n",
    "\n",
    "x_teste = np.linspace(interv, 4*np.pi+interv, 200)\n",
    "y_teste = objetivo(x_teste)\n",
    "plt.plot(x_teste, y_teste)\n",
    "plt.show()\n",
    "\n",
    "model = km.Sequential()\n",
    "model.add(kl.Dense(5, input_dim=1))\n",
    "model.add(kl.Dense(5))\n",
    "model.add(kl.Dense(1))\n",
    "\n",
    "model.compile(optimizer='sgd', loss='mse', metrics=['accuracy'])\n",
    "model.fit(x_treino, y_treino, epochs=500)\n",
    "#optim='sgd', loss='mse'\n",
    "\n",
    "val_perd, val_prec = model.evaluate(x_teste, y_teste)\n",
    "\n",
    "valores = model.predict_classes(x_teste)\n"
   ]
  }
 ],
 "metadata": {
  "kernelspec": {
   "display_name": "Python 3",
   "language": "python",
   "name": "python3"
  },
  "language_info": {
   "codemirror_mode": {
    "name": "ipython",
    "version": 3
   },
   "file_extension": ".py",
   "mimetype": "text/x-python",
   "name": "python",
   "nbconvert_exporter": "python",
   "pygments_lexer": "ipython3",
   "version": "3.6.6"
  }
 },
 "nbformat": 4,
 "nbformat_minor": 2
}
