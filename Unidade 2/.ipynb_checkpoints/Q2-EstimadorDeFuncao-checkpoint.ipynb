{
 "cells": [
  {
   "cell_type": "markdown",
   "metadata": {},
   "source": [
    "# Questão 2\n",
    "Utilize redes neurais perceptrons de múltiplas camadas para aproximar as funções baixo. Para o caso dos itens 2 e 3, apresente a curva da função analítica e a curva da função aproximada pela rede neural. Apresente também a curva do erro médio de treinamento com relação ao número de épocas e a curva do erro médio com o conjunto de validação. Procure definir para cada função a arquitetura da rede neural perceptron, isto é, o número de entradas, o número de neurônios em cada camada e o número de neurônios na camada de saída.\n",
    "1. $f(x_{1}, x_{2}, x_{3}) = x_{1}\\oplus x_{2}\\oplus x_{3} \\;\\; x_{1}, x_{2} \\text{ e } x_{3} \\in \\left\\{0, 1\\right\\}$\n",
    "\n",
    "\n",
    "2. $f(x) = \\dfrac{\\cos 2\\pi x}{1-(4x)^{2}} \\dfrac{\\sin(\\pi x)}{\\pi x} \\;\\;,0\\leq x \\leq 4\\pi$\n",
    "\n",
    "\n",
    "3. $f(x_{1}, x_{2}) = x_{1}^{2} + x_{2}^{2} + 2x_{1}x_{2}\\cos (\\pi x_{1}x_{2}) + x_{1}+x_{2}-1 \\;\\;,|x_{1}|\\leq 1 \\text{ e } |x_{2}|\\leq 1$\n",
    "\n",
    "Logo abaixo estão as bibliotecas e funções comuns a solução de todos os itens."
   ]
  },
  {
   "cell_type": "code",
   "execution_count": 1,
   "metadata": {},
   "outputs": [
    {
     "name": "stderr",
     "output_type": "stream",
     "text": [
      "Using TensorFlow backend.\n"
     ]
    }
   ],
   "source": [
    "import itertools\n",
    "import numpy as np\n",
    "import keras.layers as kl\n",
    "import keras.models as km\n",
    "import keras.callbacks as kc\n",
    "import matplotlib.pyplot as plt\n",
    "from sklearn.preprocessing import StandardScaler\n",
    "from keras.wrappers.scikit_learn import KerasRegressor"
   ]
  },
  {
   "cell_type": "markdown",
   "metadata": {},
   "source": [
    "## Solução da função 1\n",
    "Vamos gerar nossos dados de treinamento e dados de validação manualmente. A função é bem simples e só admite 8 combinações de 0's e 1's. **OBS.:** Não usamos o `KerasRegressor` aqui.\n",
    "\n",
    "### Construção dos vetores de treino\n",
    "`x_treino` e `y_treino` serão os dados usados para treinar a rede. Todos os dados possíveis estão sendo usados para treino."
   ]
  },
  {
   "cell_type": "code",
   "execution_count": 2,
   "metadata": {},
   "outputs": [],
   "source": [
    "x_treino,y_treino = [],[]\n",
    "for i in range(2):\n",
    "    for j in range(2):\n",
    "        for k in range(2):\n",
    "            x_treino.append([i,j,k])\n",
    "            if i^j^k:\n",
    "                y_treino.append([1,0])\n",
    "            else:\n",
    "                y_treino.append([0,1])\n",
    "            \n",
    "x_treino = np.array(x_treino)\n",
    "y_treino = np.array(y_treino)\n"
   ]
  },
  {
   "cell_type": "markdown",
   "metadata": {},
   "source": [
    "### Construindo e compilando rede\n",
    "A função custo usada foi a `categorical_crossentropy` porque o problema é de classificação entre duas classes. Ao usar esta função, a saída da rede é uma das N classes descritas no vetor gabarito. Cada classe é indexada a um valor de 0 a N-1. Sendo assim, nossas 2 classes serão chamadas de 0 e 1."
   ]
  },
  {
   "cell_type": "code",
   "execution_count": 3,
   "metadata": {},
   "outputs": [],
   "source": [
    "model = km.Sequential()  # Entrada\n",
    "model.add(kl.Dense(60, activation='relu', input_dim=3)) # Primeira camada oculta\n",
    "model.add(kl.Dense(60, activation='relu'))\n",
    "model.add(kl.Dense(2, activation='softmax'))\n",
    "model.compile(loss='categorical_crossentropy', optimizer='adam', metrics=['acc'])\n",
    "\n",
    "Ha = model.fit(x_treino, y_treino, epochs=350, verbose=0, batch_size=2)"
   ]
  },
  {
   "cell_type": "markdown",
   "metadata": {},
   "source": [
    "### Validação\n",
    "Vemos que os dados estimados estão bem próximos do gabarito e o erro decresceu a cada época. A função `predict()` da classe `model` calcula a probabilidade da entrada pertencer a cada classe. Isso explica por que a rede ter 2 neurônios de saída mas a resposta da predição ser só 1 valor. O que está ocorrendo é o seguinte: \n",
    "* O dado passado no argumento de `predict()` é aplicado à rede.\n",
    "* O valor de cada um dos 2 neurônios de saída são calculados\n",
    "* O índice do neurônio com o maior valor é retornado pela função de predição\n",
    "\n",
    "É bom observar que o resultado do `preditc()` é um valor que inteiro representa uma classe. Por padrão, ao usar o `categorial_crossentropy`, o Keras enumera cada classe com inteiros a partir do 0. Como há duas respostas possíveis, elas serão identificadas por 0 e 1. Coindidentemente o problema que resolvemos consiste em calcular o valor de uma função cuja imagem é o conj. ${0,1}$. Sendo assim, podemos interpretar a saída da rede, não como classes, mas como o valor da função."
   ]
  },
  {
   "cell_type": "code",
   "execution_count": 4,
   "metadata": {},
   "outputs": [
    {
     "name": "stdout",
     "output_type": "stream",
     "text": [
      "Amostra: [0 0 0] - Gabarito: 0 - Estimado: 0.001319299\n",
      "Amostra: [0 0 1] - Gabarito: 1 - Estimado: 0.9991441\n",
      "Amostra: [0 1 0] - Gabarito: 1 - Estimado: 0.9980515\n",
      "Amostra: [0 1 1] - Gabarito: 0 - Estimado: 0.0015945724\n",
      "Amostra: [1 0 0] - Gabarito: 1 - Estimado: 0.99882287\n",
      "Amostra: [1 0 1] - Gabarito: 0 - Estimado: 0.0021759537\n",
      "Amostra: [1 1 0] - Gabarito: 0 - Estimado: 0.0029251445\n",
      "Amostra: [1 1 1] - Gabarito: 1 - Estimado: 0.99570686\n"
     ]
    },
    {
     "data": {
      "text/plain": [
       "[<matplotlib.lines.Line2D at 0x7f14442c5160>]"
      ]
     },
     "execution_count": 4,
     "metadata": {},
     "output_type": "execute_result"
    },
    {
     "data": {
      "image/png": "[encoded data removed]",
      "text/plain": [
       "<Figure size 432x288 with 1 Axes>"
      ]
     },
     "metadata": {},
     "output_type": "display_data"
    }
   ],
   "source": [
    "rotulos = []\n",
    "for i in range(2):\n",
    "    for j in range(2):\n",
    "        for k in range(2):\n",
    "            rotulos.append(model.predict(np.array([[i,j,k]])))\n",
    "\n",
    "for i in range(len(rotulos)):\n",
    "    print('Amostra: '+str(x_treino[i])+' - Gabarito: '+str(y_treino[i][0])+' - Estimado: '+str(rotulos[i][0][0]))\n",
    "\n",
    "plt.plot(Ha.history['loss'])"
   ]
  },
  {
   "cell_type": "markdown",
   "metadata": {},
   "source": [
    "## Solução da função 2\n",
    "Fazer regressão não linear é tanto mais complicado. Por isso, faremos uso de uma classe do Keras chamada `KerasRegressor` para nos auxiliar nesta tarefa. Primeiro vamos deixar tudo pronto para usá-la definindo a função que queremos simular e o `modelo()` da rede neural. \n",
    "\n",
    "O otimizador configura os vários parâmetros (taxa de aprendizagem e termo momento) presentes numa rede neural. O `adam`, por exemplo, é implementado da seguinte forma:\n",
    "`keras.optimizers.Adam(lr=0.001, beta_1=0.9, beta_2=0.999, epsilon=None, decay=0.0, amsgrad=False)`, evidenciando que a taxa de aprendizagem é 0.1% e seu decaimento é 0% por época."
   ]
  },
  {
   "cell_type": "code",
   "execution_count": 5,
   "metadata": {},
   "outputs": [],
   "source": [
    "qtd_ponto = 300  # QUANTIDADE DE PONTOS\n",
    "def objetivo(x):\n",
    "    return np.cos(2*np.pi*x)*np.sinc(x)/(1-(4*x)**2)\n",
    "\n",
    "def modelo():\n",
    "    model= km.Sequential()\n",
    "    model.add(kl.Dense(60, input_dim=1, kernel_initializer='normal',activation='relu'))\n",
    "    model.add(kl.Dense(60, kernel_initializer='normal',activation='relu'))\n",
    "    model.add(kl.Dense(60, kernel_initializer='normal',activation='relu'))\n",
    "    model.add(kl.Dense(1, kernel_initializer='normal'))  # Se não dissermos a ativação, é usada a linear\n",
    "    model.compile(loss='mean_squared_error', optimizer='adam')\n",
    "    return model"
   ]
  },
  {
   "cell_type": "markdown",
   "metadata": {},
   "source": [
    "### Criando dados de treinamento\n",
    "A rede neural que estamos contruindo deve retornar os valores da função dita anteriormente, logo, os dados de treinamento são valores de x quaisquer e valores calculados de $f(x)$.\n",
    "O código abaixo criará o vetor com 400 valores de x no intervalo $[0, 4\\pi]$ dispersos linearmente e o vetor y será preenchido com elementos $y_{i} = f(x_{i})$.\n",
    "\n",
    "Os dados são escalados usando a classe StandardScaler().\n",
    "\n",
    "OBS.: \n",
    "**Escalar** um vetor é soma-lo de uma constante e depois multiplica-lo por uma constante.\n",
    "**Normalizar** um vetor é dividir todos elementos pela sua norma.\n",
    "**Padronizar** um vetor geralmente significa subtrair um medida de localização (média) e dividir por uma medida de escala (desvio padrão).\n",
    "\n",
    "Fonte: [Should I normalize/standardize/rescale the data?](http://www.faqs.org/faqs/ai-faq/neural-nets/part2/)"
   ]
  },
  {
   "cell_type": "code",
   "execution_count": 6,
   "metadata": {},
   "outputs": [],
   "source": [
    "x = np.linspace(0, np.pi, qtd_ponto).reshape(-1, 1)  # cria um vetor coluna\n",
    "y = objetivo(x)  # Também é vetor coluna\n",
    "sc_X = StandardScaler()\n",
    "sc_Y = StandardScaler()\n",
    "x_treino = sc_X.fit_transform(x)\n",
    "y_treino = sc_Y.fit_transform(y)"
   ]
  },
  {
   "cell_type": "markdown",
   "metadata": {},
   "source": [
    "### Construindo rede neural\n",
    "Aqui criamos um objeto estimador. Seus parâmetros são: \n",
    "\n",
    "* Função que modela a rede\n",
    "* Número de épocas: quantas vezes todos os dados serão aplicados na rede neural\n",
    "* Tamanho do \"batch\": quantidade de entradas testadas antes de atualizar os pesos\n",
    "* verbose: um inteiro indicando o que deve ser impresso na tela, não é essencial ao projeto.\n",
    "\n",
    "A função `fit()`, além de treinar a rede, retorna um histórico com o valor da função custo de cada época. Custo neste contexto significa diferença entre saída e gabarito, que pode ser calculada de várias maneiras."
   ]
  },
  {
   "cell_type": "code",
   "execution_count": 7,
   "metadata": {},
   "outputs": [],
   "source": [
    "monitor = kc.EarlyStopping(monitor='loss', min_delta=0, patience=5, verbose=0, mode='auto')  # Condição de parada do treinamento\n",
    "estimador = KerasRegressor(build_fn=modelo, epochs=100, batch_size=10, verbose=0)  # quanto menor o batch-size, mais demorado o treino\n",
    "Hb = estimador.fit(x_treino, y_treino,verbose=0)"
   ]
  },
  {
   "cell_type": "markdown",
   "metadata": {},
   "source": [
    "### Validação\n",
    "Mostramos o progresso do erro conforme se passam as épocas."
   ]
  },
  {
   "cell_type": "code",
   "execution_count": 8,
   "metadata": {},
   "outputs": [
    {
     "data": {
      "image/png": "[encoded data removed]",
      "text/plain": [
       "<Figure size 432x288 with 1 Axes>"
      ]
     },
     "metadata": {},
     "output_type": "display_data"
    }
   ],
   "source": [
    "plt.plot(Hb.history['loss'])\n",
    "plt.xlabel('Época')\n",
    "plt.ylabel('Custo')\n",
    "plt.title('Histórico do custo')\n",
    "plt.show()"
   ]
  },
  {
   "cell_type": "markdown",
   "metadata": {},
   "source": [
    "Criando dados para validação"
   ]
  },
  {
   "cell_type": "code",
   "execution_count": 9,
   "metadata": {},
   "outputs": [],
   "source": [
    "interv = (x[1] - x[0])/2  # Metade do intervalo entre dois pontos em x_treino\n",
    "x_teste = np.linspace(interv, 4*np.pi+interv, qtd_ponto)[np.newaxis].T\n",
    "y_teste = objetivo(x)\n",
    "\n",
    "valores_esc = estimador.predict(sc_X.fit_transform(x_teste))  # valores escalados\n",
    "valores = sc_Y.inverse_transform(valores_esc)"
   ]
  },
  {
   "cell_type": "markdown",
   "metadata": {},
   "source": [
    "Visualizando resultado. Curva em azul é o gabarito, a verde é o estimado pela rede neural."
   ]
  },
  {
   "cell_type": "code",
   "execution_count": 10,
   "metadata": {},
   "outputs": [
    {
     "data": {
      "image/png": "[encoded data removed]",
      "text/plain": [
       "<Figure size 432x288 with 1 Axes>"
      ]
     },
     "metadata": {},
     "output_type": "display_data"
    }
   ],
   "source": [
    "plt.title('Resultado sobreposto a gabarito')\n",
    "plt.plot(x_teste, valores, 'g+')  # Estimado\n",
    "plt.plot(x_teste, y_teste, 'b')  # Gabarito\n",
    "plt.show()"
   ]
  },
  {
   "cell_type": "markdown",
   "metadata": {},
   "source": [
    "Vamos \"dar um zoom\" no gráfico para ver de perto o que ocorre de 0 a $2\\pi$."
   ]
  },
  {
   "cell_type": "code",
   "execution_count": 11,
   "metadata": {},
   "outputs": [
    {
     "data": {
      "image/png": "[encoded data removed]",
      "text/plain": [
       "<Figure size 432x288 with 1 Axes>"
      ]
     },
     "metadata": {},
     "output_type": "display_data"
    }
   ],
   "source": [
    "plt.figure()\n",
    "plt.plot(x_teste[:150], valores[:150], 'g+')  # Estimado\n",
    "plt.plot(x_teste[:150], y_teste[:150], 'b')  # Gabarito\n",
    "plt.show()"
   ]
  },
  {
   "cell_type": "markdown",
   "metadata": {},
   "source": [
    "Vejamos a o erro entre a curva e o valor calculado pela rede em cada x."
   ]
  },
  {
   "cell_type": "code",
   "execution_count": 12,
   "metadata": {},
   "outputs": [
    {
     "ename": "TypeError",
     "evalue": "unsupported operand type(s) for ** or pow(): 'list' and 'int'",
     "output_type": "error",
     "traceback": [
      "\u001b[0;31m---------------------------------------------------------------------------\u001b[0m",
      "\u001b[0;31mTypeError\u001b[0m                                 Traceback (most recent call last)",
      "\u001b[0;32m<ipython-input-12-8cb678db4f8a>\u001b[0m in \u001b[0;36m<module>\u001b[0;34m()\u001b[0m\n\u001b[1;32m      2\u001b[0m \u001b[0;32mfor\u001b[0m \u001b[0mi\u001b[0m \u001b[0;32min\u001b[0m \u001b[0mrange\u001b[0m\u001b[0;34m(\u001b[0m\u001b[0mlen\u001b[0m\u001b[0;34m(\u001b[0m\u001b[0my_teste\u001b[0m\u001b[0;34m)\u001b[0m\u001b[0;34m)\u001b[0m\u001b[0;34m:\u001b[0m\u001b[0;34m\u001b[0m\u001b[0m\n\u001b[1;32m      3\u001b[0m     \u001b[0merro\u001b[0m\u001b[0;34m.\u001b[0m\u001b[0mappend\u001b[0m\u001b[0;34m(\u001b[0m\u001b[0my_teste\u001b[0m\u001b[0;34m[\u001b[0m\u001b[0mi\u001b[0m\u001b[0;34m]\u001b[0m\u001b[0;34m[\u001b[0m\u001b[0;36m0\u001b[0m\u001b[0;34m]\u001b[0m\u001b[0;34m-\u001b[0m\u001b[0mvalores\u001b[0m\u001b[0;34m[\u001b[0m\u001b[0mi\u001b[0m\u001b[0;34m]\u001b[0m\u001b[0;34m)\u001b[0m\u001b[0;34m\u001b[0m\u001b[0m\n\u001b[0;32m----> 4\u001b[0;31m \u001b[0mplt\u001b[0m\u001b[0;34m.\u001b[0m\u001b[0mplot\u001b[0m\u001b[0;34m(\u001b[0m\u001b[0mx_teste\u001b[0m\u001b[0;34m,\u001b[0m \u001b[0merro\u001b[0m\u001b[0;34m**\u001b[0m\u001b[0;36m2\u001b[0m\u001b[0;34m)\u001b[0m\u001b[0;34m\u001b[0m\u001b[0m\n\u001b[0m\u001b[1;32m      5\u001b[0m \u001b[0mplt\u001b[0m\u001b[0;34m.\u001b[0m\u001b[0mtitle\u001b[0m\u001b[0;34m(\u001b[0m\u001b[0;34m'Erro quadrático'\u001b[0m\u001b[0;34m)\u001b[0m\u001b[0;34m\u001b[0m\u001b[0m\n\u001b[1;32m      6\u001b[0m \u001b[0mplt\u001b[0m\u001b[0;34m.\u001b[0m\u001b[0mxlabel\u001b[0m\u001b[0;34m(\u001b[0m\u001b[0;34m'época'\u001b[0m\u001b[0;34m)\u001b[0m\u001b[0;34m\u001b[0m\u001b[0m\n",
      "\u001b[0;31mTypeError\u001b[0m: unsupported operand type(s) for ** or pow(): 'list' and 'int'"
     ]
    }
   ],
   "source": [
    "erro = []\n",
    "for i in range(len(y_teste)):\n",
    "    erro.append((y_teste[i][0]-valores[i])**2) # erro quadrático\n",
    "plt.plot(x_teste, erro)\n",
    "plt.title('Erro quadrático')\n",
    "plt.xlabel('época')\n",
    "plt.ylabel('erro')\n",
    "plt.show()"
   ]
  },
  {
   "cell_type": "markdown",
   "metadata": {},
   "source": [
    "## Solução da função 3\n",
    "Vamos visualizar a função objetivo."
   ]
  },
  {
   "cell_type": "code",
   "execution_count": null,
   "metadata": {},
   "outputs": [],
   "source": [
    "from mpl_toolkits.mplot3d import Axes3D\n",
    "\n",
    "def objetivo(x,y):\n",
    "    return x**2 + y**2 + 2*x*y*np.cos(np.pi*x*y) + x + y - 1\n",
    "\n",
    "def plotsuper(x,y,z, qtd_pts):\n",
    "    #Plotando função objtetivo\n",
    "    fig = plt.figure(figsize=(10,10))\n",
    "    ax = fig.gca(projection='3d')\n",
    "    ax.plot_trisurf(x, y, z, cmap=plt.cm.viridis)\n",
    "    plt.show()\n",
    "\n",
    "qtd_pts=999\n",
    "x = np.linspace(-1, 1, qtd_pts)\n",
    "y = np.random.rand(qtd_pts)*2-1\n",
    "z = objetivo(x, y)\n",
    "plotsuper(x,y,z,qtd_pts)"
   ]
  },
  {
   "cell_type": "markdown",
   "metadata": {},
   "source": [
    "### Gerando dados de treinamento\n",
    "Vamos criar um vetor de 100 pontos linearmente distribuídos no eixo x e um vetor com valores aleatórios representando as coordenadas y de cada ponto. O vetor z guarda o valor da função em cada ponto (x,y).\n",
    "\n",
    "Os vetores precisam ter o formato de única coluna pois essa é a forma esperada pelo `Keras`. Por isso usamos a função `reshape(M, N)`, redimensionar o array para uma matriz de MxN. Note que só é obrigatório fornecer um dos valores, o outro é subentendido. Para omiti-lo, escrevemos -1 no lugar."
   ]
  },
  {
   "cell_type": "code",
   "execution_count": null,
   "metadata": {},
   "outputs": [],
   "source": [
    "x = np.linspace(-1, 1, qtd_pts).reshape(-1, 1)\n",
    "y = np.random.rand(qtd_pts).reshape(-1, 1)*2-1\n",
    "z = objetivo(x, y)\n",
    "\n",
    "x = x.reshape(-1,1)\n",
    "y = y.reshape(-1,1)\n",
    "z = z.reshape(-1,1)\n",
    "\n",
    "sc = StandardScaler()\n",
    "x_treino = sc.fit_transform(x)\n",
    "y_treino = sc.fit_transform(y)\n",
    "z_treino = sc.fit_transform(z)\n",
    "\n",
    "treino = []\n",
    "for v1,v2 in zip(x_treino, y_treino):\n",
    "    treino.append([v1[0], v2[0]])\n",
    "treino = np.array(treino)\n"
   ]
  },
  {
   "cell_type": "markdown",
   "metadata": {},
   "source": [
    "### Construindo e treinando rede neural"
   ]
  },
  {
   "cell_type": "code",
   "execution_count": null,
   "metadata": {},
   "outputs": [],
   "source": [
    "def modelo():\n",
    "    model = km.Sequential()\n",
    "    model.add(kl.Dense(20, input_dim=2, kernel_initializer='normal',activation='relu'))\n",
    "    model.add(kl.Dense(20, kernel_initializer='normal',activation='relu'))\n",
    "    model.add(kl.Dense(20, kernel_initializer='normal',activation='relu'))\n",
    "    model.add(kl.Dense(1, kernel_initializer='normal'))\n",
    "    model.compile(loss='mean_squared_error', optimizer='adam')\n",
    "    return model\n",
    "\n",
    "monitor = kc.EarlyStopping(monitor='loss', min_delta=1e-4, patience=5, verbose=0, mode='auto')  # Condição de parada do treinamento\n",
    "estimador = KerasRegressor(build_fn=modelo, epochs=150, batch_size=5, verbose=1, callbacks=[monitor])\n",
    "Hc = estimador.fit(treino, z_treino,verbose=0)\n"
   ]
  },
  {
   "cell_type": "markdown",
   "metadata": {},
   "source": [
    "### Validação\n",
    "Vejamos o histórico de erro e depois o gráfico com os dados de teste."
   ]
  },
  {
   "cell_type": "code",
   "execution_count": null,
   "metadata": {},
   "outputs": [],
   "source": [
    "plt.plot(Hc.history['loss'])\n",
    "plt.show()"
   ]
  },
  {
   "cell_type": "code",
   "execution_count": null,
   "metadata": {},
   "outputs": [],
   "source": [
    "x = np.linspace(-1, 1, qtd_pts).reshape(-1 ,1)\n",
    "y = np.random.rand(qtd_pts).reshape(-1, 1)*2-1\n",
    "z = objetivo(x,y)\n",
    "\n",
    "x_teste = sc.fit_transform(x)\n",
    "y_teste = sc.fit_transform(y)\n",
    "z_teste = sc.fit_transform(z)\n",
    "\n",
    "teste = []\n",
    "for v1,v2 in zip(x_teste,y_teste):\n",
    "    teste.append([v1[0], v2[0]])\n",
    "teste = np.array(teste)\n",
    "\n",
    "valores_esc = estimador.predict(teste)\n",
    "valores = sc.inverse_transform(valores_esc)\n",
    "\n",
    "plotsuper(x.reshape(1,-1)[0], y.reshape(1,-1)[0], valores, 999)\n"
   ]
  },
  {
   "cell_type": "markdown",
   "metadata": {},
   "source": []
  },
  {
   "cell_type": "code",
   "execution_count": null,
   "metadata": {},
   "outputs": [],
   "source": []
  }
 ],
 "metadata": {
  "kernelspec": {
   "display_name": "Python 3",
   "language": "python",
   "name": "python3"
  },
  "language_info": {
   "codemirror_mode": {
    "name": "ipython",
    "version": 3
   },
   "file_extension": ".py",
   "mimetype": "text/x-python",
   "name": "python",
   "nbconvert_exporter": "python",
   "pygments_lexer": "ipython3",
   "version": "3.6.6"
  }
 },
 "nbformat": 4,
 "nbformat_minor": 2
}
