{
 "cells": [
  {
   "cell_type": "markdown",
   "metadata": {},
   "source": [
    "# Questão 2\n",
    "Utilize redes neurais perceptrons de múltiplas camadas para aproximar as funções baixo. Para o caso dos itens 2 e 3, apresente a curva da função analítica e a curva da função aproximada pela rede neural. Apresente também a curva do erro médio de treinamento com relação ao número de épocas e a curva do erro médio com o conjunto de validação. Procure definir para cada função a arquitetura da rede neural perceptron, isto é, o número de entradas, o número de neurônios em cada camada e o número de neurônios na camada de saída.\n",
    "1. $f(x_{1}, x_{2}, x_{3}) = x_{1}\\oplus x_{2}\\oplus x_{3} \\;\\; x_{1}, x_{2} \\text{ e } x_{3} \\in \\left\\{0, 1\\right\\}$\n",
    "\n",
    "\n",
    "2. $f(x) = \\dfrac{\\cos 2\\pi x}{1-(4x)^{2}} \\dfrac{\\sin(\\pi x)}{\\pi x} \\;\\;,0\\leq x \\leq 4\\pi$\n",
    "\n",
    "\n",
    "3. $f(x_{1}, x_{2}) = x_{1}^{2} + x_{2}^{2} + 2x_{1}x_{2}\\cos (\\pi x_{1}x_{2}) + x_{1}+x_{2}-1 \\;\\;,|x_{1}|\\leq 1 \\text{ e } |x_{2}|\\leq 1$\n",
    "\n",
    "Logo abaixo estão as bibliotecas e funções comuns a solução de todos os itens."
   ]
  },
  {
   "cell_type": "code",
   "execution_count": 1,
   "metadata": {},
   "outputs": [
    {
     "name": "stderr",
     "output_type": "stream",
     "text": [
      "Using TensorFlow backend.\n"
     ]
    }
   ],
   "source": [
    "import numpy as np\n",
    "import itertools\n",
    "import keras.callbacks as kc\n",
    "import keras.layers as kl\n",
    "import keras.models as km\n",
    "import matplotlib.pyplot as plt\n",
    "from sklearn.preprocessing import StandardScaler\n",
    "from keras.wrappers.scikit_learn import KerasRegressor"
   ]
  },
  {
   "cell_type": "markdown",
   "metadata": {},
   "source": [
    "## Solução da função 1 (TODO)\n",
    "Vamos gerar nossos dados de treinamento e dados de validação manualmente. A função é bem simples e só admite 8 combinações de 0's e 1's.\n",
    "Separaremos da seguinte forma, escolhida aleatoriamente:\n",
    "\n",
    "<table>\n",
    "  <tl>\n",
    "      <td>Entradas</td>\n",
    "      <td>Função</td>\n",
    "  </tl>\n",
    "  <tr>\n",
    "    <td>000</td>\n",
    "    <td>Treino</td>\n",
    "  </tr>\n",
    "  <tr>\n",
    "    <td>001</td>\n",
    "    <td>Treino</td>\n",
    "  </tr>\n",
    "  <tr>\n",
    "    <td>010</td>\n",
    "    <td>Validação</td>\n",
    "  </tr>\n",
    "  <tr>\n",
    "    <td>011</td>\n",
    "    <td>Treino</td>\n",
    "  </tr>\n",
    "  <tr>\n",
    "    <td>100</td>\n",
    "    <td>Treino</td>\n",
    "  </tr>\n",
    "  <tr>\n",
    "    <td>101</td>\n",
    "    <td>Treino</td>\n",
    "  </tr>\n",
    "  <tr>\n",
    "    <td>110</td>\n",
    "    <td>Validação</td>\n",
    "  </tr>\n",
    "  <tr>\n",
    "    <td>111</td>\n",
    "    <td>Treino</td>\n",
    "  </tr>\n",
    "</table>\n",
    "\n",
    "### Construção dos vetores de treino e validação.\n",
    "`x_treino` e `y_treino` serão os dados usados para treinar a rede. Já `x_teste` e `y_teste` serão usados para valida-la."
   ]
  },
  {
   "cell_type": "code",
   "execution_count": null,
   "metadata": {},
   "outputs": [],
   "source": []
  },
  {
   "cell_type": "markdown",
   "metadata": {},
   "source": [
    "## Solução da função 2\n",
    "Fazer regressão não linear não é tão simples assim. Por isso, faremos uso de uma classe do Keras chamada `KerasRegressor` para nos auxiliar nesta tarefa. Primeiro vamos deixar tudo pronto para usá-la definindo a função que queremos simular e o `modelo()` da rede neural."
   ]
  },
  {
   "cell_type": "code",
   "execution_count": 17,
   "metadata": {},
   "outputs": [],
   "source": [
    "qtd_ponto = 300  # QUANTIDADE DE PONTOS\n",
    "def objetivo(x):\n",
    "    return np.cos(2*np.pi*x)*np.sinc(x)/(1-(4*x)**2)\n",
    "\n",
    "def modelo():\n",
    "    model= km.Sequential()\n",
    "    model.add(kl.Dense(20, input_dim=1, kernel_initializer='normal',activation='relu'))\n",
    "    model.add(kl.Dense(20, kernel_initializer='normal',activation='relu'))\n",
    "    model.add(kl.Dense(20, kernel_initializer='normal',activation='relu'))\n",
    "    model.add(kl.Dense(1, kernel_initializer='normal'))\n",
    "    model.compile(loss='mean_squared_error', optimizer='adam')\n",
    "    return model"
   ]
  },
  {
   "cell_type": "markdown",
   "metadata": {},
   "source": [
    "### Criando dados de treinamento\n",
    "A rede neural que estamos contruindo deve retornar os valores da função dita anteriormente, logo, os dados de treinamento são valores de x quaisquer e valores calculados de $f(x)$.\n",
    "O código abaixo criará o vetor com 400 valores de x no intervalo $[0, 4\\pi]$ dispersos linearmente e o vetor y será preenchido com elementos $y_{i} = f(x_{i})$.\n",
    "\n",
    "Os dados são escalados usando a classe StandardScaler().\n",
    "OBS.: \n",
    "\n",
    "**Escalar** um vetor é soma-lo de uma constante e depois multiplica-lo por uma constante.\n",
    "**Normalizar** um vetor é dividir todos elementos pela sua norma.\n",
    "**Padronizar** um vetor geralmente significa subtrair um medida de localização (média) e dividir por uma medida de escala (desvio padrão).\n",
    "\n",
    "Fonte: [Should I normalize/standardize/rescale the data?](http://www.faqs.org/faqs/ai-faq/neural-nets/part2/)"
   ]
  },
  {
   "cell_type": "code",
   "execution_count": 18,
   "metadata": {},
   "outputs": [],
   "source": [
    "x = np.linspace(0, 4*np.pi, qtd_ponto)[np.newaxis].T  # cria um vetor coluna\n",
    "y = objetivo(x)  # Também é vetor coluna\n",
    "sc_X = StandardScaler()\n",
    "sc_Y = StandardScaler()\n",
    "x_treino = sc_X.fit_transform(x)\n",
    "y_treino = sc_Y.fit_transform(y)"
   ]
  },
  {
   "cell_type": "markdown",
   "metadata": {},
   "source": [
    "Aqui criamos um objeto estimador. Seus parâmetros são: \n",
    "\n",
    "* Função que modela a rede\n",
    "* Número de épocas: Quantidade de vezes que ocorrerá o \"backpropagation\"\n",
    "* Tamanho do \"batch\"\n",
    "* verbose: um inteiro indicando o que deve ser impresso na tela, não é essencial ao projeto."
   ]
  },
  {
   "cell_type": "code",
   "execution_count": 19,
   "metadata": {},
   "outputs": [
    {
     "name": "stdout",
     "output_type": "stream",
     "text": [
      "Epoch 1/100\n",
      "300/300 [==============================] - 1s 4ms/step - loss: 0.9965\n",
      "Epoch 2/100\n",
      "300/300 [==============================] - 0s 1ms/step - loss: 0.9635\n",
      "Epoch 3/100\n",
      "300/300 [==============================] - 0s 1ms/step - loss: 0.9165\n",
      "Epoch 4/100\n",
      "300/300 [==============================] - 0s 1ms/step - loss: 0.8405\n",
      "Epoch 5/100\n",
      "300/300 [==============================] - 0s 1ms/step - loss: 0.7591\n",
      "Epoch 6/100\n",
      "300/300 [==============================] - 0s 1ms/step - loss: 0.7575\n",
      "Epoch 7/100\n",
      "300/300 [==============================] - 0s 1ms/step - loss: 0.6606\n",
      "Epoch 8/100\n",
      "300/300 [==============================] - 0s 2ms/step - loss: 0.6072\n",
      "Epoch 9/100\n",
      "300/300 [==============================] - 1s 3ms/step - loss: 0.5783\n",
      "Epoch 10/100\n",
      "300/300 [==============================] - 1s 3ms/step - loss: 0.5249\n",
      "Epoch 11/100\n",
      "300/300 [==============================] - 1s 2ms/step - loss: 0.4943\n",
      "Epoch 12/100\n",
      "300/300 [==============================] - 1s 2ms/step - loss: 0.4481\n",
      "Epoch 13/100\n",
      "300/300 [==============================] - 1s 2ms/step - loss: 0.4779\n",
      "Epoch 14/100\n",
      "300/300 [==============================] - 1s 3ms/step - loss: 0.4451\n",
      "Epoch 15/100\n",
      "300/300 [==============================] - 1s 2ms/step - loss: 0.4025\n",
      "Epoch 16/100\n",
      "300/300 [==============================] - 1s 2ms/step - loss: 0.4008\n",
      "Epoch 17/100\n",
      "300/300 [==============================] - 0s 2ms/step - loss: 0.3545\n",
      "Epoch 18/100\n",
      "300/300 [==============================] - 1s 2ms/step - loss: 0.3558\n",
      "Epoch 19/100\n",
      "300/300 [==============================] - 1s 2ms/step - loss: 0.2922\n",
      "Epoch 20/100\n",
      "300/300 [==============================] - 1s 2ms/step - loss: 0.2585\n",
      "Epoch 21/100\n",
      "300/300 [==============================] - 1s 2ms/step - loss: 0.2297\n",
      "Epoch 22/100\n",
      "300/300 [==============================] - 1s 2ms/step - loss: 0.3480\n",
      "Epoch 23/100\n",
      "300/300 [==============================] - 1s 2ms/step - loss: 0.2340\n",
      "Epoch 24/100\n",
      "300/300 [==============================] - 1s 2ms/step - loss: 0.2154\n",
      "Epoch 25/100\n",
      "300/300 [==============================] - 1s 2ms/step - loss: 0.1700\n",
      "Epoch 26/100\n",
      "300/300 [==============================] - 1s 2ms/step - loss: 0.1793\n",
      "Epoch 27/100\n",
      "300/300 [==============================] - 1s 2ms/step - loss: 0.1747\n",
      "Epoch 28/100\n",
      "300/300 [==============================] - 0s 1ms/step - loss: 0.1626\n",
      "Epoch 29/100\n",
      "300/300 [==============================] - 0s 1ms/step - loss: 0.2571\n",
      "Epoch 30/100\n",
      "300/300 [==============================] - 1s 2ms/step - loss: 0.1375\n",
      "Epoch 31/100\n",
      "300/300 [==============================] - 0s 1ms/step - loss: 0.3765\n",
      "Epoch 32/100\n",
      "300/300 [==============================] - 0s 2ms/step - loss: 0.1424\n",
      "Epoch 33/100\n",
      "300/300 [==============================] - 0s 1ms/step - loss: 0.1453\n",
      "Epoch 34/100\n",
      "300/300 [==============================] - 0s 1ms/step - loss: 0.1466\n",
      "Epoch 35/100\n",
      "300/300 [==============================] - 0s 2ms/step - loss: 0.1792\n",
      "Epoch 36/100\n",
      "300/300 [==============================] - 1s 3ms/step - loss: 0.1015\n",
      "Epoch 37/100\n",
      "300/300 [==============================] - 1s 2ms/step - loss: 0.1235\n",
      "Epoch 38/100\n",
      "300/300 [==============================] - 1s 2ms/step - loss: 0.0970\n",
      "Epoch 39/100\n",
      "300/300 [==============================] - 1s 2ms/step - loss: 0.0993\n",
      "Epoch 40/100\n",
      "300/300 [==============================] - 1s 2ms/step - loss: 0.0827\n",
      "Epoch 41/100\n",
      "300/300 [==============================] - 1s 2ms/step - loss: 0.1325\n",
      "Epoch 42/100\n",
      "300/300 [==============================] - 1s 2ms/step - loss: 0.1529\n",
      "Epoch 43/100\n",
      "300/300 [==============================] - 1s 2ms/step - loss: 0.0861\n",
      "Epoch 44/100\n",
      "300/300 [==============================] - 0s 1ms/step - loss: 0.0651\n",
      "Epoch 45/100\n",
      "300/300 [==============================] - 0s 1ms/step - loss: 0.0934\n",
      "Epoch 46/100\n",
      "300/300 [==============================] - 0s 1ms/step - loss: 0.0366\n",
      "Epoch 47/100\n",
      "300/300 [==============================] - 0s 1ms/step - loss: 0.0602\n",
      "Epoch 48/100\n",
      "300/300 [==============================] - 0s 1ms/step - loss: 0.0408\n",
      "Epoch 49/100\n",
      "300/300 [==============================] - 0s 1ms/step - loss: 0.0384\n",
      "Epoch 50/100\n",
      "300/300 [==============================] - 0s 1ms/step - loss: 0.0443\n",
      "Epoch 51/100\n",
      "300/300 [==============================] - 0s 2ms/step - loss: 0.0884\n",
      "Epoch 52/100\n",
      "300/300 [==============================] - 0s 1ms/step - loss: 0.0460\n",
      "Epoch 53/100\n",
      "300/300 [==============================] - 0s 1ms/step - loss: 0.0428\n",
      "Epoch 54/100\n",
      "300/300 [==============================] - 0s 1ms/step - loss: 0.0163\n",
      "Epoch 55/100\n",
      "300/300 [==============================] - 0s 1ms/step - loss: 0.0229\n",
      "Epoch 56/100\n",
      "300/300 [==============================] - 0s 1ms/step - loss: 0.0321\n",
      "Epoch 57/100\n",
      "300/300 [==============================] - 0s 1ms/step - loss: 0.4437\n",
      "Epoch 58/100\n",
      "300/300 [==============================] - 0s 1ms/step - loss: 0.9127\n",
      "Epoch 59/100\n",
      "300/300 [==============================] - 0s 1ms/step - loss: 0.6746\n",
      "Epoch 60/100\n",
      "300/300 [==============================] - 0s 1ms/step - loss: 0.5624\n",
      "Epoch 61/100\n",
      "300/300 [==============================] - 0s 1ms/step - loss: 0.5241\n",
      "Epoch 62/100\n",
      "300/300 [==============================] - 0s 1ms/step - loss: 0.4991\n",
      "Epoch 63/100\n",
      "300/300 [==============================] - 0s 1ms/step - loss: 0.4667\n",
      "Epoch 64/100\n",
      "300/300 [==============================] - 0s 1ms/step - loss: 0.4306\n",
      "Epoch 65/100\n",
      "300/300 [==============================] - 0s 1ms/step - loss: 0.4061\n",
      "Epoch 66/100\n",
      "300/300 [==============================] - 0s 1ms/step - loss: 0.3766\n",
      "Epoch 67/100\n",
      "300/300 [==============================] - 0s 1ms/step - loss: 0.3550\n",
      "Epoch 68/100\n",
      "300/300 [==============================] - 0s 1ms/step - loss: 0.3368\n",
      "Epoch 69/100\n",
      "300/300 [==============================] - 0s 1ms/step - loss: 0.3198\n",
      "Epoch 70/100\n",
      "300/300 [==============================] - 1s 2ms/step - loss: 0.2870\n",
      "Epoch 71/100\n",
      "300/300 [==============================] - 1s 3ms/step - loss: 0.2970\n",
      "Epoch 72/100\n",
      "300/300 [==============================] - 1s 3ms/step - loss: 0.3203\n",
      "Epoch 73/100\n",
      "300/300 [==============================] - 1s 3ms/step - loss: 0.2633\n",
      "Epoch 74/100\n",
      "300/300 [==============================] - 1s 3ms/step - loss: 0.2385\n",
      "Epoch 75/100\n",
      "300/300 [==============================] - 1s 2ms/step - loss: 0.2002\n",
      "Epoch 76/100\n",
      "300/300 [==============================] - 0s 1ms/step - loss: 0.2755\n",
      "Epoch 77/100\n",
      "300/300 [==============================] - 0s 1ms/step - loss: 0.2545\n",
      "Epoch 78/100\n",
      "300/300 [==============================] - 0s 1ms/step - loss: 0.1997\n",
      "Epoch 79/100\n",
      "300/300 [==============================] - 0s 1ms/step - loss: 0.1943\n",
      "Epoch 80/100\n",
      "300/300 [==============================] - 0s 1ms/step - loss: 0.1815\n",
      "Epoch 81/100\n",
      "300/300 [==============================] - 0s 1ms/step - loss: 0.1913\n",
      "Epoch 82/100\n",
      "300/300 [==============================] - 0s 1ms/step - loss: 0.1583\n",
      "Epoch 83/100\n",
      "300/300 [==============================] - 0s 1ms/step - loss: 0.1299\n",
      "Epoch 84/100\n",
      "300/300 [==============================] - 0s 1ms/step - loss: 0.1730\n",
      "Epoch 85/100\n",
      "300/300 [==============================] - 0s 1ms/step - loss: 0.1262\n",
      "Epoch 86/100\n",
      "300/300 [==============================] - 0s 2ms/step - loss: 0.1284\n",
      "Epoch 87/100\n",
      "300/300 [==============================] - 0s 1ms/step - loss: 0.1462\n",
      "Epoch 88/100\n",
      "300/300 [==============================] - 0s 1ms/step - loss: 0.1017\n",
      "Epoch 89/100\n",
      "300/300 [==============================] - 0s 1ms/step - loss: 0.0980\n",
      "Epoch 90/100\n",
      "300/300 [==============================] - 0s 1ms/step - loss: 0.1054\n",
      "Epoch 91/100\n",
      "300/300 [==============================] - 0s 1ms/step - loss: 0.0881\n",
      "Epoch 92/100\n",
      "300/300 [==============================] - 0s 1ms/step - loss: 0.1135\n",
      "Epoch 93/100\n",
      "300/300 [==============================] - 0s 1ms/step - loss: 0.0988\n",
      "Epoch 94/100\n",
      "300/300 [==============================] - 0s 1ms/step - loss: 0.1465\n",
      "Epoch 95/100\n",
      "300/300 [==============================] - 0s 2ms/step - loss: 0.0775\n",
      "Epoch 96/100\n",
      "300/300 [==============================] - 0s 1ms/step - loss: 0.0990\n",
      "Epoch 97/100\n",
      "300/300 [==============================] - 0s 1ms/step - loss: 0.0647\n",
      "Epoch 98/100\n",
      "300/300 [==============================] - 0s 1ms/step - loss: 0.0490\n",
      "Epoch 99/100\n",
      "300/300 [==============================] - 0s 1ms/step - loss: 0.0726\n",
      "Epoch 100/100\n",
      "300/300 [==============================] - 0s 1ms/step - loss: 0.0399\n"
     ]
    },
    {
     "data": {
      "text/plain": [
       "<keras.callbacks.History at 0x7f0e942f1940>"
      ]
     },
     "execution_count": 19,
     "metadata": {},
     "output_type": "execute_result"
    }
   ],
   "source": [
    "estimador = KerasRegressor(build_fn=modelo, epochs=100, batch_size=3, verbose=1)  # quanto menor o batch-size, melhor a precisão do resultado\n",
    "H = estimador.fit(x_treino, y_treino)"
   ]
  },
  {
   "cell_type": "markdown",
   "metadata": {},
   "source": [
    "Criando dados para validação"
   ]
  },
  {
   "cell_type": "code",
   "execution_count": 20,
   "metadata": {},
   "outputs": [],
   "source": [
    "interv = (x[1] - x[0])/2  # Metade do intervalo entre dois pontos em x_treino\n",
    "x = np.linspace(interv, 4*np.pi+interv, qtd_ponto)[np.newaxis].T\n",
    "y = objetivo(x)\n",
    "x_teste = sc_X.fit_transform(x)\n",
    "y_teste = sc_Y.fit_transform(y)"
   ]
  },
  {
   "cell_type": "markdown",
   "metadata": {},
   "source": [
    "Visualizando resultado. Curva em azul é o gabarito, a verde é o estimado pela rede neural."
   ]
  },
  {
   "cell_type": "code",
   "execution_count": 21,
   "metadata": {},
   "outputs": [
    {
     "name": "stdout",
     "output_type": "stream",
     "text": [
      "300/300 [==============================] - 0s 784us/step\n"
     ]
    },
    {
     "data": {
      "image/png": "[encoded data removed]",
      "text/plain": [
       "<Figure size 432x288 with 1 Axes>"
      ]
     },
     "metadata": {},
     "output_type": "display_data"
    }
   ],
   "source": [
    "valores_norm = estimador.predict(x_teste)  # valores normalizados\n",
    "valores = sc_Y.inverse_transform(valores_norm)\n",
    "\n",
    "plt.plot(x, y, 'bo')\n",
    "plt.plot(x, valores, 'g+')\n",
    "plt.show()"
   ]
  },
  {
   "cell_type": "markdown",
   "metadata": {},
   "source": [
    "## Solução da função 3\n"
   ]
  },
  {
   "cell_type": "code",
   "execution_count": null,
   "metadata": {},
   "outputs": [],
   "source": []
  },
  {
   "cell_type": "code",
   "execution_count": null,
   "metadata": {},
   "outputs": [],
   "source": []
  },
  {
   "cell_type": "code",
   "execution_count": null,
   "metadata": {},
   "outputs": [],
   "source": []
  }
 ],
 "metadata": {
  "kernelspec": {
   "display_name": "Python 3",
   "language": "python",
   "name": "python3"
  },
  "language_info": {
   "codemirror_mode": {
    "name": "ipython",
    "version": 3
   },
   "file_extension": ".py",
   "mimetype": "text/x-python",
   "name": "python",
   "nbconvert_exporter": "python",
   "pygments_lexer": "ipython3",
   "version": "3.6.6"
  }
 },
 "nbformat": 4,
 "nbformat_minor": 2
}
